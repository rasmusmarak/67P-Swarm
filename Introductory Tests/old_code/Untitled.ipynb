{
 "cells": [
  {
   "cell_type": "code",
   "execution_count": 5,
   "id": "dba0f0d1",
   "metadata": {},
   "outputs": [
    {
     "name": "stdout",
     "output_type": "stream",
     "text": [
      "Problem name: Multidimensional Rosenbrock Function\n",
      "\tC++ class name: pagmo::rosenbrock\n",
      "\n",
      "\tGlobal dimension:\t\t\t5\n",
      "\tInteger dimension:\t\t\t0\n",
      "\tFitness dimension:\t\t\t1\n",
      "\tNumber of objectives:\t\t\t1\n",
      "\tEquality constraints dimension:\t\t0\n",
      "\tInequality constraints dimension:\t0\n",
      "\tLower bounds: [-5, -5, -5, -5, -5]\n",
      "\tUpper bounds: [10, 10, 10, 10, 10]\n",
      "\tHas batch fitness evaluation: false\n",
      "\n",
      "\tHas gradient: true\n",
      "\tUser implemented gradient sparsity: false\n",
      "\tExpected gradients: 5\n",
      "\tHas hessians: false\n",
      "\tUser implemented hessians sparsity: false\n",
      "\n",
      "\tFitness evaluations: 0\n",
      "\tGradient evaluations: 0\n",
      "\n",
      "\tThread safety: constant\n",
      "\n"
     ]
    }
   ],
   "source": [
    "# Test of class: Problem\n",
    "\n",
    "import pygmo as pg\n",
    "prob = pg.problem(pg.rosenbrock(dim = 5))\n",
    "print(prob)"
   ]
  },
  {
   "cell_type": "code",
   "execution_count": 6,
   "id": "a4924a9b",
   "metadata": {},
   "outputs": [
    {
     "data": {
      "text/plain": [
       "True"
      ]
     },
     "execution_count": 6,
     "metadata": {},
     "output_type": "execute_result"
    }
   ],
   "source": [
    "prob.get_fevals() == 0"
   ]
  },
  {
   "cell_type": "code",
   "execution_count": 7,
   "id": "388e47b3",
   "metadata": {},
   "outputs": [
    {
     "data": {
      "text/plain": [
       "array([14814.])"
      ]
     },
     "execution_count": 7,
     "metadata": {},
     "output_type": "execute_result"
    }
   ],
   "source": [
    "prob.fitness([1,2,3,4,5])\n"
   ]
  },
  {
   "cell_type": "code",
   "execution_count": 8,
   "id": "67e8a815",
   "metadata": {},
   "outputs": [
    {
     "data": {
      "text/plain": [
       "True"
      ]
     },
     "execution_count": 8,
     "metadata": {},
     "output_type": "execute_result"
    }
   ],
   "source": [
    "prob.get_fevals() == 1"
   ]
  },
  {
   "cell_type": "code",
   "execution_count": 9,
   "id": "ddfc0407",
   "metadata": {},
   "outputs": [
    {
     "data": {
      "text/plain": [
       "pygmo.core.rosenbrock"
      ]
     },
     "execution_count": 9,
     "metadata": {},
     "output_type": "execute_result"
    }
   ],
   "source": [
    "udp = prob.extract(pg.rosenbrock)\n",
    "type(udp)"
   ]
  },
  {
   "cell_type": "code",
   "execution_count": 10,
   "id": "db6b3d04",
   "metadata": {},
   "outputs": [
    {
     "data": {
      "text/plain": [
       "True"
      ]
     },
     "execution_count": 10,
     "metadata": {},
     "output_type": "execute_result"
    }
   ],
   "source": [
    "udp = prob.extract(pg.rastrigin)\n",
    "udp is None"
   ]
  },
  {
   "cell_type": "code",
   "execution_count": null,
   "id": "c7475464",
   "metadata": {},
   "outputs": [],
   "source": []
  },
  {
   "cell_type": "code",
   "execution_count": 11,
   "id": "e87df542",
   "metadata": {},
   "outputs": [
    {
     "name": "stdout",
     "output_type": "stream",
     "text": [
      "Algorithm name: CMA-ES: Covariance Matrix Adaptation Evolutionary Strategy [stochastic]\n",
      "\tC++ class name: pagmo::cmaes\n",
      "\n",
      "\tThread safety: basic\n",
      "\n",
      "Extra info:\n",
      "\tGenerations: 100\n",
      "\tcc: auto\n",
      "\tcs: auto\n",
      "\tc1: auto\n",
      "\tcmu: auto\n",
      "\tsigma0: 0.3\n",
      "\tStopping xtol: 1e-06\n",
      "\tStopping ftol: 1e-06\n",
      "\tMemory: false\n",
      "\tVerbosity: 0\n",
      "\tForce bounds: false\n",
      "\tSeed: 2621543847\n"
     ]
    }
   ],
   "source": [
    "#Test of class: Algorithm\n",
    "\n",
    "algo = pg.algorithm(pg.cmaes(gen = 100, sigma0=0.3))\n",
    "print(algo) "
   ]
  },
  {
   "cell_type": "code",
   "execution_count": 12,
   "id": "6dff4cd1",
   "metadata": {},
   "outputs": [
    {
     "data": {
      "text/plain": [
       "pygmo.core.cmaes"
      ]
     },
     "execution_count": 12,
     "metadata": {},
     "output_type": "execute_result"
    }
   ],
   "source": [
    "uda = algo.extract(pg.cmaes)\n",
    "type(uda)"
   ]
  },
  {
   "cell_type": "code",
   "execution_count": null,
   "id": "7f1040ac",
   "metadata": {},
   "outputs": [],
   "source": [
    "uda = algo.extract(pg.de)\n",
    "uda is None"
   ]
  },
  {
   "cell_type": "code",
   "execution_count": null,
   "id": "da47e295",
   "metadata": {},
   "outputs": [],
   "source": []
  },
  {
   "cell_type": "code",
   "execution_count": 13,
   "id": "ef1e79ad",
   "metadata": {},
   "outputs": [],
   "source": [
    "class toy_problem:\n",
    "    def __init__(self, dim):\n",
    "        self.dim = dim\n",
    "        \n",
    "    def fitness(self, x):\n",
    "        return [sum(x), 1 - sum(x*x), - sum(x)]\n",
    "    \n",
    "    def gradient(self, x):\n",
    "        return pg.estimate_gradient(lambda x: self.fitness(x), x) # numerical gradient\n",
    "\n",
    "    def get_nec(self):\n",
    "        return 1\n",
    "\n",
    "    def get_nic(self):\n",
    "        return 1\n",
    "\n",
    "    def get_bounds(self):\n",
    "        return ([-1] * self.dim, [1] * self.dim)\n",
    "\n",
    "    def get_name(self):\n",
    "        return \"A toy problem\"\n",
    "    \n",
    "    def get_extra_info(self):\n",
    "        return \"\\tDimensions: \" + str(self.dim)\n",
    "\n"
   ]
  },
  {
   "cell_type": "code",
   "execution_count": 14,
   "id": "6270f18e",
   "metadata": {},
   "outputs": [
    {
     "name": "stdout",
     "output_type": "stream",
     "text": [
      "Number of islands: 32\n",
      "Topology: Unconnected\n",
      "Migration type: point-to-point\n",
      "Migrant handling policy: preserve\n",
      "Status: idle\n",
      "\n",
      "Islands summaries:\n",
      "\n",
      "\t#   Type                    Algo                                          Prob           Size  Status  \n",
      "\t-------------------------------------------------------------------------------------------------------\n",
      "\t0   Multiprocessing island  sa-CNSTR: Self-adaptive constraints handling  A toy problem  70    idle    \n",
      "\t1   Multiprocessing island  sa-CNSTR: Self-adaptive constraints handling  A toy problem  70    idle    \n",
      "\t2   Multiprocessing island  sa-CNSTR: Self-adaptive constraints handling  A toy problem  70    idle    \n",
      "\t3   Multiprocessing island  sa-CNSTR: Self-adaptive constraints handling  A toy problem  70    idle    \n",
      "\t4   Multiprocessing island  sa-CNSTR: Self-adaptive constraints handling  A toy problem  70    idle    \n",
      "\t5   Multiprocessing island  sa-CNSTR: Self-adaptive constraints handling  A toy problem  70    idle    \n",
      "\t6   Multiprocessing island  sa-CNSTR: Self-adaptive constraints handling  A toy problem  70    idle    \n",
      "\t7   Multiprocessing island  sa-CNSTR: Self-adaptive constraints handling  A toy problem  70    idle    \n",
      "\t8   Multiprocessing island  sa-CNSTR: Self-adaptive constraints handling  A toy problem  70    idle    \n",
      "\t9   Multiprocessing island  sa-CNSTR: Self-adaptive constraints handling  A toy problem  70    idle    \n",
      "\t10  Multiprocessing island  sa-CNSTR: Self-adaptive constraints handling  A toy problem  70    idle    \n",
      "\t11  Multiprocessing island  sa-CNSTR: Self-adaptive constraints handling  A toy problem  70    idle    \n",
      "\t12  Multiprocessing island  sa-CNSTR: Self-adaptive constraints handling  A toy problem  70    idle    \n",
      "\t13  Multiprocessing island  sa-CNSTR: Self-adaptive constraints handling  A toy problem  70    idle    \n",
      "\t14  Multiprocessing island  sa-CNSTR: Self-adaptive constraints handling  A toy problem  70    idle    \n",
      "\t15  Multiprocessing island  sa-CNSTR: Self-adaptive constraints handling  A toy problem  70    idle    \n",
      "\t16  Multiprocessing island  sa-CNSTR: Self-adaptive constraints handling  A toy problem  70    idle    \n",
      "\t17  Multiprocessing island  sa-CNSTR: Self-adaptive constraints handling  A toy problem  70    idle    \n",
      "\t18  Multiprocessing island  sa-CNSTR: Self-adaptive constraints handling  A toy problem  70    idle    \n",
      "\t19  Multiprocessing island  sa-CNSTR: Self-adaptive constraints handling  A toy problem  70    idle    \n",
      "\t20  Multiprocessing island  sa-CNSTR: Self-adaptive constraints handling  A toy problem  70    idle    \n",
      "\t21  Multiprocessing island  sa-CNSTR: Self-adaptive constraints handling  A toy problem  70    idle    \n",
      "\t22  Multiprocessing island  sa-CNSTR: Self-adaptive constraints handling  A toy problem  70    idle    \n",
      "\t23  Multiprocessing island  sa-CNSTR: Self-adaptive constraints handling  A toy problem  70    idle    \n",
      "\t24  Multiprocessing island  sa-CNSTR: Self-adaptive constraints handling  A toy problem  70    idle    \n",
      "\t25  Multiprocessing island  sa-CNSTR: Self-adaptive constraints handling  A toy problem  70    idle    \n",
      "\t26  Multiprocessing island  sa-CNSTR: Self-adaptive constraints handling  A toy problem  70    idle    \n",
      "\t27  Multiprocessing island  sa-CNSTR: Self-adaptive constraints handling  A toy problem  70    idle    \n",
      "\t28  Multiprocessing island  sa-CNSTR: Self-adaptive constraints handling  A toy problem  70    idle    \n",
      "\t29  Multiprocessing island  sa-CNSTR: Self-adaptive constraints handling  A toy problem  70    idle    \n",
      "\t30  Multiprocessing island  sa-CNSTR: Self-adaptive constraints handling  A toy problem  70    idle    \n",
      "\t31  Multiprocessing island  sa-CNSTR: Self-adaptive constraints handling  A toy problem  70    idle    \n",
      "\n"
     ]
    }
   ],
   "source": [
    "import pygmo as pg\n",
    "a_cstrs_sa = pg.algorithm(pg.cstrs_self_adaptive(iters=1000))\n",
    "p_toy = pg.problem(toy_problem(50))\n",
    "p_toy.c_tol = [1e-4, 1e-4]\n",
    "archi = pg.archipelago(n=32,algo=a_cstrs_sa, prob=p_toy, pop_size=70)\n",
    "print(archi) "
   ]
  },
  {
   "cell_type": "code",
   "execution_count": 15,
   "id": "4754f3cd",
   "metadata": {},
   "outputs": [
    {
     "data": {
      "text/plain": [
       "[array([  5.75030057, -11.56118134,  -5.75030057]),\n",
       " array([ 0.65137625, -9.64639004, -0.65137625]),\n",
       " array([ 3.78554222, -9.87072184, -3.78554222]),\n",
       " array([  2.01446733, -12.14809555,  -2.01446733]),\n",
       " array([  1.10619858, -11.79445961,  -1.10619858]),\n",
       " array([  1.83396468, -12.25454988,  -1.83396468]),\n",
       " array([  4.74899826, -11.34777826,  -4.74899826]),\n",
       " array([  0.46409489, -11.55245179,  -0.46409489]),\n",
       " array([  5.89679359, -11.78231748,  -5.89679359]),\n",
       " array([  2.48366476, -12.27977982,  -2.48366476]),\n",
       " array([  2.50044794, -12.43441028,  -2.50044794]),\n",
       " array([  0.77716577, -12.64056635,  -0.77716577]),\n",
       " array([  2.85111855, -12.06553398,  -2.85111855]),\n",
       " array([  3.89199673, -11.53277944,  -3.89199673]),\n",
       " array([  1.51059655, -11.80339103,  -1.51059655]),\n",
       " array([  4.555193  , -12.30095691,  -4.555193  ]),\n",
       " array([  1.37487326, -12.30357378,  -1.37487326]),\n",
       " array([  1.09191079, -11.94399383,  -1.09191079]),\n",
       " array([  4.62608031, -10.38996095,  -4.62608031]),\n",
       " array([  7.54455012, -11.88107896,  -7.54455012]),\n",
       " array([  2.78232801, -12.40137297,  -2.78232801]),\n",
       " array([  2.3862594 , -11.07681162,  -2.3862594 ]),\n",
       " array([  2.78738617, -12.16493142,  -2.78738617]),\n",
       " array([  2.75097479, -12.06482314,  -2.75097479]),\n",
       " array([  1.69889895, -10.46816513,  -1.69889895]),\n",
       " array([  1.66493219, -10.57672257,  -1.66493219]),\n",
       " array([  1.35626167, -11.67600671,  -1.35626167]),\n",
       " array([  3.30879975, -12.27490336,  -3.30879975]),\n",
       " array([  0.10701664, -10.04016123,  -0.10701664]),\n",
       " array([  1.56424401, -11.30572674,  -1.56424401]),\n",
       " array([  0.96943098, -10.90169323,  -0.96943098]),\n",
       " array([  4.74122222, -11.41566383,  -4.74122222])]"
      ]
     },
     "execution_count": 15,
     "metadata": {},
     "output_type": "execute_result"
    }
   ],
   "source": [
    "archi.get_champions_f() "
   ]
  },
  {
   "cell_type": "code",
   "execution_count": 16,
   "id": "35fc9d3a",
   "metadata": {},
   "outputs": [
    {
     "name": "stdout",
     "output_type": "stream",
     "text": [
      "Number of islands: 32\n",
      "Topology: Unconnected\n",
      "Migration type: point-to-point\n",
      "Migrant handling policy: preserve\n",
      "Status: busy\n",
      "\n",
      "Islands summaries:\n",
      "\n",
      "\t#   Type                    Algo                                          Prob           Size  Status  \n",
      "\t-------------------------------------------------------------------------------------------------------\n",
      "\t0   Multiprocessing island  sa-CNSTR: Self-adaptive constraints handling  A toy problem  70    busy    \n",
      "\t1   Multiprocessing island  sa-CNSTR: Self-adaptive constraints handling  A toy problem  70    busy    \n",
      "\t2   Multiprocessing island  sa-CNSTR: Self-adaptive constraints handling  A toy problem  70    busy    \n",
      "\t3   Multiprocessing island  sa-CNSTR: Self-adaptive constraints handling  A toy problem  70    busy    \n",
      "\t4   Multiprocessing island  sa-CNSTR: Self-adaptive constraints handling  A toy problem  70    busy    \n",
      "\t5   Multiprocessing island  sa-CNSTR: Self-adaptive constraints handling  A toy problem  70    busy    \n",
      "\t6   Multiprocessing island  sa-CNSTR: Self-adaptive constraints handling  A toy problem  70    busy    \n",
      "\t7   Multiprocessing island  sa-CNSTR: Self-adaptive constraints handling  A toy problem  70    busy    \n",
      "\t8   Multiprocessing island  sa-CNSTR: Self-adaptive constraints handling  A toy problem  70    busy    \n",
      "\t9   Multiprocessing island  sa-CNSTR: Self-adaptive constraints handling  A toy problem  70    busy    \n",
      "\t10  Multiprocessing island  sa-CNSTR: Self-adaptive constraints handling  A toy problem  70    busy    \n",
      "\t11  Multiprocessing island  sa-CNSTR: Self-adaptive constraints handling  A toy problem  70    busy    \n",
      "\t12  Multiprocessing island  sa-CNSTR: Self-adaptive constraints handling  A toy problem  70    busy    \n",
      "\t13  Multiprocessing island  sa-CNSTR: Self-adaptive constraints handling  A toy problem  70    busy    \n",
      "\t14  Multiprocessing island  sa-CNSTR: Self-adaptive constraints handling  A toy problem  70    busy    \n",
      "\t15  Multiprocessing island  sa-CNSTR: Self-adaptive constraints handling  A toy problem  70    busy    \n",
      "\t16  Multiprocessing island  sa-CNSTR: Self-adaptive constraints handling  A toy problem  70    busy    \n",
      "\t17  Multiprocessing island  sa-CNSTR: Self-adaptive constraints handling  A toy problem  70    busy    \n",
      "\t18  Multiprocessing island  sa-CNSTR: Self-adaptive constraints handling  A toy problem  70    busy    \n",
      "\t19  Multiprocessing island  sa-CNSTR: Self-adaptive constraints handling  A toy problem  70    busy    \n",
      "\t20  Multiprocessing island  sa-CNSTR: Self-adaptive constraints handling  A toy problem  70    busy    \n",
      "\t21  Multiprocessing island  sa-CNSTR: Self-adaptive constraints handling  A toy problem  70    busy    \n",
      "\t22  Multiprocessing island  sa-CNSTR: Self-adaptive constraints handling  A toy problem  70    busy    \n",
      "\t23  Multiprocessing island  sa-CNSTR: Self-adaptive constraints handling  A toy problem  70    busy    \n",
      "\t24  Multiprocessing island  sa-CNSTR: Self-adaptive constraints handling  A toy problem  70    busy    \n",
      "\t25  Multiprocessing island  sa-CNSTR: Self-adaptive constraints handling  A toy problem  70    busy    \n",
      "\t26  Multiprocessing island  sa-CNSTR: Self-adaptive constraints handling  A toy problem  70    busy    \n",
      "\t27  Multiprocessing island  sa-CNSTR: Self-adaptive constraints handling  A toy problem  70    busy    \n",
      "\t28  Multiprocessing island  sa-CNSTR: Self-adaptive constraints handling  A toy problem  70    busy    \n",
      "\t29  Multiprocessing island  sa-CNSTR: Self-adaptive constraints handling  A toy problem  70    busy    \n",
      "\t30  Multiprocessing island  sa-CNSTR: Self-adaptive constraints handling  A toy problem  70    busy    \n",
      "\t31  Multiprocessing island  sa-CNSTR: Self-adaptive constraints handling  A toy problem  70    busy    \n",
      "\n"
     ]
    }
   ],
   "source": [
    "archi.evolve() \n",
    "print(archi)"
   ]
  },
  {
   "cell_type": "code",
   "execution_count": 17,
   "id": "124e6df6",
   "metadata": {},
   "outputs": [
    {
     "data": {
      "text/plain": [
       "[array([-1.95665994e-05, -6.34369987e-05,  1.95665994e-05]),\n",
       " array([-6.29555463e-05, -8.15504946e-05,  6.29555463e-05]),\n",
       " array([ 2.04412819e-02, -9.99988224e-05, -2.04412819e-02]),\n",
       " array([ 3.55373153e-03, -5.79612691e-05, -3.55373153e-03]),\n",
       " array([ 1.26516604e-03,  1.16211287e-05, -1.26516604e-03]),\n",
       " array([-4.91875826e-05,  4.62685426e-05,  4.91875826e-05]),\n",
       " array([ 0.02325727, -0.084484  , -0.02325727]),\n",
       " array([ 3.64036925e-01,  5.20624211e-05, -3.64036925e-01]),\n",
       " array([ 0.04375805, -0.05499013, -0.04375805]),\n",
       " array([-6.58035217e-05, -9.09035017e-05,  6.58035217e-05]),\n",
       " array([ 0.0597457 ,  0.00241806, -0.0597457 ]),\n",
       " array([-2.16750087e-05, -8.66556447e-05,  2.16750087e-05]),\n",
       " array([-4.83836996e-05,  1.53701770e-05,  4.83836996e-05]),\n",
       " array([ 0.00486832, -0.00801771, -0.00486832]),\n",
       " array([ 0.01370807, -0.35763247, -0.01370807]),\n",
       " array([-9.40020137e-05, -6.81131374e-05,  9.40020137e-05]),\n",
       " array([-7.91899560e-05, -1.59165968e-05,  7.91899560e-05]),\n",
       " array([ 1.64598833e-02, -1.00000000e-04, -1.64598833e-02]),\n",
       " array([ 0.13154286, -0.26852799, -0.13154286]),\n",
       " array([-1.81958787e-05,  4.18485470e-05,  1.81958787e-05]),\n",
       " array([ 0.02940853, -0.03433773, -0.02940853]),\n",
       " array([ 1.23005905e-02, -8.69881871e-05, -1.23005905e-02]),\n",
       " array([-5.64378042e-05,  1.77276335e-05,  5.64378042e-05]),\n",
       " array([ 0.11538913,  0.00065352, -0.11538913]),\n",
       " array([-9.13905098e-05,  6.63799854e-05,  9.13905098e-05]),\n",
       " array([-9.99156747e-05,  8.56824779e-05,  9.99156747e-05]),\n",
       " array([-1.55196108e-05, -6.71769980e-05,  1.55196108e-05]),\n",
       " array([ 5.60065251e-05,  2.45695623e-05, -5.60065251e-05]),\n",
       " array([-2.97124625e-05, -7.32217951e-05,  2.97124625e-05]),\n",
       " array([ 3.51552029e-02, -3.64542858e-05, -3.51552029e-02]),\n",
       " array([ 1.70805813e-03, -5.42063418e-06, -1.70805813e-03]),\n",
       " array([-5.58816676e-05,  3.80837074e-05,  5.58816676e-05])]"
      ]
     },
     "execution_count": 17,
     "metadata": {},
     "output_type": "execute_result"
    }
   ],
   "source": [
    "archi.wait()\n",
    "archi.get_champions_f()"
   ]
  },
  {
   "cell_type": "code",
   "execution_count": null,
   "id": "4597027e",
   "metadata": {},
   "outputs": [],
   "source": []
  },
  {
   "cell_type": "code",
   "execution_count": null,
   "id": "f524cf7a",
   "metadata": {},
   "outputs": [],
   "source": []
  },
  {
   "cell_type": "code",
   "execution_count": null,
   "id": "6f5d8e89",
   "metadata": {},
   "outputs": [],
   "source": []
  },
  {
   "cell_type": "code",
   "execution_count": null,
   "id": "ef399bec",
   "metadata": {},
   "outputs": [],
   "source": []
  },
  {
   "cell_type": "code",
   "execution_count": null,
   "id": "827b9426",
   "metadata": {},
   "outputs": [],
   "source": []
  },
  {
   "cell_type": "code",
   "execution_count": null,
   "id": "32934022",
   "metadata": {},
   "outputs": [],
   "source": []
  },
  {
   "cell_type": "code",
   "execution_count": null,
   "id": "43523d84",
   "metadata": {},
   "outputs": [],
   "source": []
  },
  {
   "cell_type": "code",
   "execution_count": null,
   "id": "a51a07bb",
   "metadata": {},
   "outputs": [],
   "source": []
  },
  {
   "cell_type": "code",
   "execution_count": null,
   "id": "f4921b74",
   "metadata": {},
   "outputs": [],
   "source": []
  }
 ],
 "metadata": {
  "kernelspec": {
   "display_name": "67P_Swarm",
   "language": "python",
   "name": "python3"
  },
  "language_info": {
   "codemirror_mode": {
    "name": "ipython",
    "version": 3
   },
   "file_extension": ".py",
   "mimetype": "text/x-python",
   "name": "python",
   "nbconvert_exporter": "python",
   "pygments_lexer": "ipython3",
   "version": "3.8.15 | packaged by conda-forge | (default, Nov 22 2022, 08:53:40) \n[Clang 14.0.6 ]"
  },
  "vscode": {
   "interpreter": {
    "hash": "b9a187d1fd3efa5ced9dbeaa8c09dd6c19f147abf025ef1bac0fa81a1ca86d3e"
   }
  }
 },
 "nbformat": 4,
 "nbformat_minor": 5
}
