{
 "cells": [
  {
   "cell_type": "code",
   "execution_count": null,
   "metadata": {},
   "outputs": [],
   "source": [
    "#####################################################\n",
    "#  Observe:                                         #\n",
    "#       This cell is for testing numerical          #\n",
    "#       integration without running optimization.   #\n",
    "#####################################################\n",
    "\n",
    "import numpy as np\n",
    "\n",
    "# Starting point\n",
    "x = np.array([2105.14, 2486.95, -2175.24, 0.56, 0.19, 0.35])\n",
    "\n",
    "# Choose algorithm: \n",
    "#  - \"RKF78\", \"Euler\" or \"DP8713M\"\n",
    "algorithm = \"RKF78\"\n",
    "\n",
    "# Setup problem class\n",
    "udp = udp_initial_condition(body_density, target_altitude, final_time, start_time, time_step, lower_bounds, upper_bounds, algorithm)\n",
    "\n",
    "# Compute trajectory\n",
    "fitness_value, trajectory_info = udp.compute_trajectory(x)"
   ]
  },
  {
   "cell_type": "code",
   "execution_count": null,
   "metadata": {},
   "outputs": [],
   "source": [
    "# D-solver\n",
    "import desolver as de\n",
    "import desolver.backend as D\n",
    "\n",
    "# Remember, if we want to use this package we must switch places of t and x in equations of motion it shoulf be: eq_of_motion(t,x) for D.solver to work.\n",
    "        #   as the input to equations_of_motion\n",
    "        #D.set_float_fmt('float64')\n",
    "        #initial_state = D.array(x)\n",
    "        #a = de.OdeSystem(Integrator.equation_of_motion, y0=initial_state, dense_output=True, t=(self.start_time, self.final_time), dt=self.time_step, rtol=1e-12, atol=1e-12)\n",
    "        #a.method = \"RK87\"\n",
    "        #a.integrate()\n",
    "        #trajectory_info = np.transpose(a.y)"
   ]
  }
 ],
 "metadata": {
  "kernelspec": {
   "display_name": "67P_Swarm",
   "language": "python",
   "name": "python3"
  },
  "language_info": {
   "name": "python",
   "version": "3.8.15 | packaged by conda-forge | (default, Nov 22 2022, 08:53:40) \n[Clang 14.0.6 ]"
  },
  "orig_nbformat": 4,
  "vscode": {
   "interpreter": {
    "hash": "b9a187d1fd3efa5ced9dbeaa8c09dd6c19f147abf025ef1bac0fa81a1ca86d3e"
   }
  }
 },
 "nbformat": 4,
 "nbformat_minor": 2
}
