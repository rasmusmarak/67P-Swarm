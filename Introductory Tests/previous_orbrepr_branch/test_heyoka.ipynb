{
 "cells": [
  {
   "cell_type": "code",
   "execution_count": 1,
   "metadata": {},
   "outputs": [],
   "source": [
    "import heyoka as hy\n",
    "import numpy as np\n",
    "\n",
    "# Create the symbolic variables.\n",
    "x, y, z, px, py, pz = hy.make_vars(\"x\", \"y\", \"z\", \"px\", \"py\", \"pz\")\n",
    "\n",
    "# Fix mu to 0.01.\n",
    "mu = 0.01\n",
    "\n",
    "rps_32 = ((x - mu)**2 + y**2 + z**2)**(-3/2.)\n",
    "rpj_32 = ((x - mu  + 1.)**2 + y**2 + z**2)**(-3/2.)\n",
    "\n",
    "# The equations of motion.\n",
    "dxdt = px + y\n",
    "dydt = py - x\n",
    "dzdt = pz\n",
    "dpxdt = py - (1. - mu) * rps_32 * (x - mu) - mu * rpj_32 * (x - mu + 1.)\n",
    "dpydt = -px -((1. - mu) * rps_32 + mu * rpj_32) * y\n",
    "dpzdt = -((1. - mu) * rps_32 + mu * rpj_32) * z"
   ]
  },
  {
   "cell_type": "code",
   "execution_count": 2,
   "metadata": {},
   "outputs": [],
   "source": [
    "ta = hy.taylor_adaptive(\n",
    "    # The ODEs.\n",
    "    [(x, dxdt), (y, dydt), (z, dzdt),\n",
    "     (px, dpxdt), (py, dpydt), (pz, dpzdt)],\n",
    "    # The initial conditions.\n",
    "    [-0.45, 0.80, 0.00, -0.80, -0.45, 0.58],\n",
    "    # Operate below machine precision\n",
    "    # and in high-accuracy mode.\n",
    "    tol = 1e-18, high_accuracy = True\n",
    ")"
   ]
  },
  {
   "cell_type": "code",
   "execution_count": 3,
   "metadata": {},
   "outputs": [
    {
     "data": {
      "text/plain": [
       "(<taylor_outcome.time_limit: -4294967299>,\n",
       " 0.1452500408982695,\n",
       " 0.41178358878067095,\n",
       " 753,\n",
       " array([[-0.45      ,  0.8       ,  0.        , -0.8       , -0.45      ,\n",
       "          0.58      ],\n",
       "        [-0.44964278,  0.79928721,  0.04635564, -0.79085155, -0.46766159,\n",
       "          0.57764241],\n",
       "        [-0.44873221,  0.79709232,  0.09233488, -0.78330782, -0.48565007,\n",
       "          0.57060575],\n",
       "        ...,\n",
       "        [-0.53277542,  0.55791842, -0.41830177, -0.86253076, -0.63134777,\n",
       "          0.29132422],\n",
       "        [-0.55694917,  0.55116291, -0.39307634, -0.84974288, -0.62735539,\n",
       "          0.33859758],\n",
       "        [-0.58042685,  0.54661332, -0.36418594, -0.83390023, -0.62399926,\n",
       "          0.38281904]]))"
      ]
     },
     "execution_count": 3,
     "metadata": {},
     "output_type": "execute_result"
    }
   ],
   "source": [
    "t_grid = np.linspace(0, 200, 2500)\n",
    "\n",
    "out = ta.propagate_grid(t_grid)\n",
    "out"
   ]
  },
  {
   "cell_type": "code",
   "execution_count": null,
   "metadata": {},
   "outputs": [],
   "source": []
  }
 ],
 "metadata": {
  "kernelspec": {
   "display_name": "Python 3",
   "language": "python",
   "name": "python3"
  },
  "language_info": {
   "codemirror_mode": {
    "name": "ipython",
    "version": 3
   },
   "file_extension": ".py",
   "mimetype": "text/x-python",
   "name": "python",
   "nbconvert_exporter": "python",
   "pygments_lexer": "ipython3",
   "version": "3.8.15"
  },
  "orig_nbformat": 4,
  "vscode": {
   "interpreter": {
    "hash": "b9a187d1fd3efa5ced9dbeaa8c09dd6c19f147abf025ef1bac0fa81a1ca86d3e"
   }
  }
 },
 "nbformat": 4,
 "nbformat_minor": 2
}
