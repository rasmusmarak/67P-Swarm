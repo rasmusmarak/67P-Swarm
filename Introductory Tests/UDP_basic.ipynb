{
 "cells": [
  {
   "cell_type": "code",
   "execution_count": 54,
   "metadata": {},
   "outputs": [],
   "source": [
    "# General\n",
    "import numpy as np\n",
    "import pickle as pk\n",
    "import math\n",
    "\n",
    "# For optimization\n",
    "import pygmo as pg\n",
    "\n",
    "# For computing acceleration and potential\n",
    "import polyhedral_gravity as model\n",
    "\n",
    "# For working with the mesh\n",
    "import mesh_utility\n",
    "import tetgen\n",
    "import meshio as mio\n",
    "\n",
    "# For Plotting\n",
    "import pyvista as pv\n",
    "import mesh_plotting\n",
    "import matplotlib.patches as patches\n",
    "import matplotlib.pyplot as plt\n",
    "from matplotlib import cm\n",
    "\n",
    "\n",
    "class basic_udp:\n",
    "    \n",
    "    def __init__(self):\n",
    "        # Creating the mesh (TetGen)\n",
    "        self.mesh, self.vertices, self.faces = mesh_utility.create_mesh()\n",
    "\n",
    "        # Defining additional parameters\n",
    "        self.density = 533           # https://sci.esa.int/web/rosetta/-/14615-comet-67p\n",
    "        self.target_altitude = 10    # In unit: [km]\n",
    "        self.t_end = 10              # Final time\n",
    "        self.t_0 = 0                 # Starting time\n",
    "        self.d_t = 1                 # Number of steps along orbit \n",
    "\n",
    "    \n",
    "    def fitness(self,x):\n",
    "        fit_val, r_store, v_store = self.compute_trajectory(x)\n",
    "        return [-fit_val]\n",
    "\n",
    "\n",
    "    def get_bounds(self):\n",
    "        # Bounds for the initial domain (i.e bounds for possible x-chromosomes)\n",
    "        #   min=[r_x,r_y,r_z,v_x,v_y,v_z], max=[r_x,r_y,r_z,v_x,v_y,v_z]\n",
    "        # Good starting boundaries could e.g be right outside the most protruding part of the the mesh \n",
    "        return ([-15000,-15000,-15000,10,10,10],[15000,15000,15000,5000,5000,5000])\n",
    "\n",
    "\n",
    "\n",
    "    def compute_trajectory(self, x):\n",
    "\n",
    "        # Initial information\n",
    "        r = np.transpose(x[0:3]) # Start Position\n",
    "        v = np.transpose(x[3:6]) # Initial velocity\n",
    "\n",
    "        # Array containing times for summation\n",
    "        time_list = np.arange(self.t_0, self.t_end, self.d_t)\n",
    "\n",
    "        # Fitness value (to be maximized)\n",
    "        fit_val = 0\n",
    "\n",
    "        # Numpy Arrays to store trajectory information\n",
    "        r_store = np.zeros((3,len(time_list)))\n",
    "        v_store = np.zeros((3,len(time_list)))\n",
    "\n",
    "        # Add starting position to memory\n",
    "        r_store[:,0] = r\n",
    "        v_store[:,0] = v\n",
    "\n",
    "        for i in range(1,len(time_list)):\n",
    "            # Retrieve information at current position\n",
    "            altitude = self.compute_altitude(r)\n",
    "            potential, a, tensor = model.evaluate(self.vertices, self.faces, self.density, r)\n",
    "            a = np.array(a)\n",
    "\n",
    "            # Computing velocity and position for next time-step\n",
    "            v_n = v + self.d_t * a\n",
    "            r_n = r + self.d_t * v\n",
    "\n",
    "            # Evaluate current position\n",
    "            fit_val += abs(self.target_altitude - altitude)\n",
    "\n",
    "            # Update current velocity and position\n",
    "            v = v_n\n",
    "            r = r_n\n",
    "\n",
    "            # Storing updated trajectory information\n",
    "            r_store[:,i] = r\n",
    "            v_store[:,i] = v\n",
    "            i += 1\n",
    "\n",
    "        return fit_val, r_store, v_store\n",
    "\n",
    "\n",
    "    def compute_altitude(self, r):\n",
    "        # Obtaining closest distance from mesh to satelite: \n",
    "        #    See PyVista function: https://docs.pyvista.org/api/core/_autosummary/pyvista.DataSet.find_closest_point.html\n",
    "        #index = self.mesh.grid.find_closest_point(r) \n",
    "        #closest_point = self.mesh.grid.points[index]\n",
    "        #altitude = np.linalg.norm(closest_point-r)\n",
    "        altitude = np.linalg.norm(r)\n",
    "        return altitude\n",
    "\n",
    "\n",
    "    def plot_trajectory(self, r_store):\n",
    "\n",
    "        # Plotting mesh of asteroid/comet\n",
    "        mesh_plot = pv.Plotter()\n",
    "        mesh_plot.add_mesh(self.mesh.grid, show_edges=True)\n",
    "        mesh_plot.show_bounds(grid='front',location='outer',all_edges=True)\n",
    "\n",
    "        # Plotting trajectory\n",
    "        trajectory_plot = pv.PolyData(np.transpose(r_store))\n",
    "        mesh_plot.add_mesh(trajectory_plot, color=[0.6, 0.2, 0.1])\n",
    "\n",
    "        mesh_plot.show(jupyter_backend='static')\n",
    "\n",
    "\n",
    "\n",
    "\n"
   ]
  },
  {
   "cell_type": "code",
   "execution_count": 55,
   "metadata": {},
   "outputs": [
    {
     "name": "stdout",
     "output_type": "stream",
     "text": [
      "Problem name: <class '__main__.basic_udp'>\n",
      "\tC++ class name: pybind11::object\n",
      "\n",
      "\tGlobal dimension:\t\t\t6\n",
      "\tInteger dimension:\t\t\t0\n",
      "\tFitness dimension:\t\t\t1\n",
      "\tNumber of objectives:\t\t\t1\n",
      "\tEquality constraints dimension:\t\t0\n",
      "\tInequality constraints dimension:\t0\n",
      "\tLower bounds: [-15000, -15000, -15000, 10, 10, ... ]\n",
      "\tUpper bounds: [15000, 15000, 15000, 5000, 5000, ... ]\n",
      "\tHas batch fitness evaluation: false\n",
      "\n",
      "\tHas gradient: false\n",
      "\tUser implemented gradient sparsity: false\n",
      "\tHas hessians: false\n",
      "\tUser implemented hessians sparsity: false\n",
      "\n",
      "\tFitness evaluations: 0\n",
      "\n",
      "\tThread safety: none\n",
      "\n"
     ]
    }
   ],
   "source": [
    "\n",
    "# Defining and executing optimization\n",
    "prob = pg.problem(basic_udp())\n",
    "print(prob)"
   ]
  },
  {
   "cell_type": "code",
   "execution_count": 56,
   "metadata": {},
   "outputs": [],
   "source": [
    "algo = pg.algorithm(pg.de(gen = 20))\n",
    "pop = pg.population(prob = basic_udp(), size = 10)"
   ]
  },
  {
   "cell_type": "code",
   "execution_count": 57,
   "metadata": {},
   "outputs": [],
   "source": [
    "pop = algo.evolve(pop)"
   ]
  },
  {
   "cell_type": "code",
   "execution_count": 58,
   "metadata": {},
   "outputs": [
    {
     "name": "stdout",
     "output_type": "stream",
     "text": [
      "Champion fitness value:  [-442158.48594412]\n",
      "Champion chromosome:  [ 3608.20113531 14793.32805793 14495.77467764  3767.25158157\n",
      "  4230.79161203  4469.60557985]\n"
     ]
    },
    {
     "data": {
      "image/png": "[encoded data removed]",
      "text/plain": [
       "<PIL.Image.Image image mode=RGB size=1024x768>"
      ]
     },
     "metadata": {},
     "output_type": "display_data"
    }
   ],
   "source": [
    "# Logs for output\n",
    "uda = algo.extract(pg.de)\n",
    "uda.get_log() \n",
    "print(\"Champion fitness value: \", pop.champion_f) \n",
    "print(\"Champion chromosome: \", pop.champion_x) \n",
    "\n",
    "# Retrieving champion chromosome\n",
    "x = pop.champion_x\n",
    "sol = basic_udp()\n",
    "\n",
    "# Computing optimized trajectory\n",
    "fit_val, r_store, v_store = sol.compute_trajectory(x)\n",
    "\n",
    "# Plotting trajectory\n",
    "sol.plot_trajectory(r_store)"
   ]
  }
 ],
 "metadata": {
  "kernelspec": {
   "display_name": "67P_Swarm",
   "language": "python",
   "name": "python3"
  },
  "language_info": {
   "codemirror_mode": {
    "name": "ipython",
    "version": 3
   },
   "file_extension": ".py",
   "mimetype": "text/x-python",
   "name": "python",
   "nbconvert_exporter": "python",
   "pygments_lexer": "ipython3",
   "version": "3.8.15"
  },
  "orig_nbformat": 4,
  "vscode": {
   "interpreter": {
    "hash": "b9a187d1fd3efa5ced9dbeaa8c09dd6c19f147abf025ef1bac0fa81a1ca86d3e"
   }
  }
 },
 "nbformat": 4,
 "nbformat_minor": 2
}
