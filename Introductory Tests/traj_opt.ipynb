{
 "cells": [
  {
   "cell_type": "code",
   "execution_count": 34,
   "metadata": {},
   "outputs": [
    {
     "name": "stdout",
     "output_type": "stream",
     "text": [
      "The autoreload extension is already loaded. To reload it, use:\n",
      "  %reload_ext autoreload\n"
     ]
    }
   ],
   "source": [
    "%load_ext autoreload\n",
    "%autoreload 2"
   ]
  },
  {
   "cell_type": "code",
   "execution_count": 35,
   "metadata": {},
   "outputs": [],
   "source": [
    "# For optimization using pygmo\n",
    "import pygmo as pg\n",
    "from udp_class import udp_class\n",
    "\n",
    "# For Plotting\n",
    "import matplotlib.pyplot as plt"
   ]
  },
  {
   "cell_type": "code",
   "execution_count": 36,
   "metadata": {},
   "outputs": [],
   "source": [
    "# Setup hyperparameters:\n",
    "body_density = 533                  # https://sci.esa.int/web/rosetta/-/14615-comet-67p\n",
    "target_altitude = 5000**2           # Target altitude squared\n",
    "final_time = 20*3600.0              # Final time\n",
    "start_time = 0                      # Starting time\n",
    "time_step = 800.0              # Time step size for trajectory propagation.\n",
    "\n",
    "# Bounds for initial variable domain: [r_x,r_y,r_z,v_x,v_y,v_z]\n",
    "lower_bounds, upper_bounds = [-6000,-6000,-6000,0,0,0],[6000,6000,6000,2.5,2.5,2.5]\n",
    "\n",
    "# Optimization parameters\n",
    "population_size = 10\n",
    "number_of_generations = 32"
   ]
  },
  {
   "cell_type": "code",
   "execution_count": 37,
   "metadata": {},
   "outputs": [
    {
     "name": "stdout",
     "output_type": "stream",
     "text": [
      "Physical dimension along x (UN-normalized):  5002.5703125 Km\n",
      "Problem name: <class 'udp_class.udp_class'>\n",
      "\tC++ class name: pybind11::object\n",
      "\n",
      "\tGlobal dimension:\t\t\t6\n",
      "\tInteger dimension:\t\t\t0\n",
      "\tFitness dimension:\t\t\t1\n",
      "\tNumber of objectives:\t\t\t1\n",
      "\tEquality constraints dimension:\t\t0\n",
      "\tInequality constraints dimension:\t0\n",
      "\tLower bounds: [-6000, -6000, -6000, 0, 0, ... ]\n",
      "\tUpper bounds: [6000, 6000, 6000, 2.5, 2.5, ... ]\n",
      "\tHas batch fitness evaluation: false\n",
      "\n",
      "\tHas gradient: false\n",
      "\tUser implemented gradient sparsity: false\n",
      "\tHas hessians: false\n",
      "\tUser implemented hessians sparsity: false\n",
      "\n",
      "\tFitness evaluations: 0\n",
      "\n",
      "\tThread safety: none\n",
      "\n"
     ]
    },
    {
     "ename": "TypeError",
     "evalue": "euler_approx() missing 1 required positional argument: 'a_store'",
     "output_type": "error",
     "traceback": [
      "\u001b[0;31m---------------------------------------------------------------------------\u001b[0m",
      "\u001b[0;31mTypeError\u001b[0m                                 Traceback (most recent call last)",
      "Cell \u001b[0;32mIn[37], line 10\u001b[0m\n\u001b[1;32m      8\u001b[0m \u001b[39m# Setup optimization algorithm\u001b[39;00m\n\u001b[1;32m      9\u001b[0m algo \u001b[39m=\u001b[39m pg\u001b[39m.\u001b[39malgorithm(pg\u001b[39m.\u001b[39msade(gen \u001b[39m=\u001b[39m number_of_generations))\n\u001b[0;32m---> 10\u001b[0m pop \u001b[39m=\u001b[39m pg\u001b[39m.\u001b[39;49mpopulation(prob \u001b[39m=\u001b[39;49m prob, size \u001b[39m=\u001b[39;49m population_size)\n\u001b[1;32m     12\u001b[0m \u001b[39m# Run optimization\u001b[39;00m\n\u001b[1;32m     13\u001b[0m algo\u001b[39m.\u001b[39mset_verbosity(\u001b[39m1\u001b[39m)\n",
      "File \u001b[0;32m~/opt/anaconda3/envs/67P_Swarm/lib/python3.8/site-packages/pygmo/__init__.py:296\u001b[0m, in \u001b[0;36m_population_init\u001b[0;34m(self, prob, size, b, seed)\u001b[0m\n\u001b[1;32m    292\u001b[0m     seed \u001b[39m=\u001b[39m _random_device_next()\n\u001b[1;32m    294\u001b[0m \u001b[39mif\u001b[39;00m b \u001b[39mis\u001b[39;00m \u001b[39mNone\u001b[39;00m:\n\u001b[1;32m    295\u001b[0m     \u001b[39m# No bfe specified, init in sequential mode.\u001b[39;00m\n\u001b[0;32m--> 296\u001b[0m     __original_population_init(\u001b[39mself\u001b[39;49m, prob, size, seed)\n\u001b[1;32m    297\u001b[0m \u001b[39melse\u001b[39;00m:\n\u001b[1;32m    298\u001b[0m     \u001b[39m# A bfe was specified. Same as above with the problem.\u001b[39;00m\n\u001b[1;32m    299\u001b[0m     __original_population_init(\u001b[39mself\u001b[39m, prob, b \u001b[39mif\u001b[39;00m \u001b[39mtype\u001b[39m(\n\u001b[1;32m    300\u001b[0m         b) \u001b[39m==\u001b[39m bfe \u001b[39melse\u001b[39;00m bfe(b), size, seed)\n",
      "File \u001b[0;32m~/Master Thesis/My Repositories/67P-Swarm/Introductory Tests/udp_class.py:62\u001b[0m, in \u001b[0;36mudp_class.fitness\u001b[0;34m(self, x)\u001b[0m\n\u001b[1;32m     53\u001b[0m \u001b[39mdef\u001b[39;00m \u001b[39mfitness\u001b[39m(\u001b[39mself\u001b[39m,x):\n\u001b[1;32m     54\u001b[0m \u001b[39m    \u001b[39m\u001b[39m\"\"\" fitness evaluates the proximity of the satallite to target altitude.\u001b[39;00m\n\u001b[1;32m     55\u001b[0m \n\u001b[1;32m     56\u001b[0m \u001b[39m    Args:\u001b[39;00m\n\u001b[0;32m   (...)\u001b[0m\n\u001b[1;32m     60\u001b[0m \u001b[39m        fitness value (float): Difference between squared values of current and target altitude of satellite.\u001b[39;00m\n\u001b[1;32m     61\u001b[0m \u001b[39m    \"\"\"\u001b[39;00m\n\u001b[0;32m---> 62\u001b[0m     fitness_value, _, _, _ \u001b[39m=\u001b[39m \u001b[39mself\u001b[39;49m\u001b[39m.\u001b[39;49mcompute_trajectory(x)\n\u001b[1;32m     63\u001b[0m     \u001b[39mreturn\u001b[39;00m [fitness_value]\n",
      "File \u001b[0;32m~/Master Thesis/My Repositories/67P-Swarm/Introductory Tests/udp_class.py:105\u001b[0m, in \u001b[0;36mudp_class.compute_trajectory\u001b[0;34m(self, x)\u001b[0m\n\u001b[1;32m    102\u001b[0m fitness_value \u001b[39m=\u001b[39m \u001b[39m0\u001b[39m\n\u001b[1;32m    104\u001b[0m \u001b[39m# Numerical integration of Newton's equations of motion (trajectory propagation)\u001b[39;00m\n\u001b[0;32m--> 105\u001b[0m r_store, v_store, a_store \u001b[39m=\u001b[39m udp_class\u001b[39m.\u001b[39;49meuler_approx(r, time_list, r_store, v_store, a_store)\n\u001b[1;32m    107\u001b[0m \u001b[39m# Return fitness value for the computed trajectory\u001b[39;00m\n\u001b[1;32m    108\u001b[0m squared_altitudes \u001b[39m=\u001b[39m r_store[\u001b[39m0\u001b[39m,:]\u001b[39m*\u001b[39m\u001b[39m*\u001b[39m\u001b[39m2\u001b[39m \u001b[39m+\u001b[39m r_store[\u001b[39m1\u001b[39m,:]\u001b[39m*\u001b[39m\u001b[39m*\u001b[39m\u001b[39m2\u001b[39m \u001b[39m+\u001b[39m r_store[\u001b[39m2\u001b[39m,:]\u001b[39m*\u001b[39m\u001b[39m*\u001b[39m\u001b[39m2\u001b[39m\n",
      "\u001b[0;31mTypeError\u001b[0m: euler_approx() missing 1 required positional argument: 'a_store'"
     ]
    }
   ],
   "source": [
    "# Setup class\n",
    "udp = udp_class(body_density, target_altitude, final_time, start_time, time_step, lower_bounds, upper_bounds)\n",
    "\n",
    "# Setup user defined problem (udp)\n",
    "prob = pg.problem(udp)\n",
    "print(prob)\n",
    "\n",
    "# Setup optimization algorithm\n",
    "algo = pg.algorithm(pg.sade(gen = number_of_generations))\n",
    "pop = pg.population(prob = prob, size = population_size)\n",
    "\n",
    "# Run optimization\n",
    "algo.set_verbosity(1)\n",
    "pop = algo.evolve(pop)\n",
    "\n",
    "# Logs for output\n",
    "print(\"Champion fitness value: \", pop.champion_f) \n",
    "print(\"Champion chromosome: \", pop.champion_x) \n",
    "\n",
    "# Retrieving champion chromosome\n",
    "x = pop.champion_x\n",
    "\n",
    "# Compute optimized trajectory\n",
    "fit_val, r_store, v_store, a_store = udp.compute_trajectory(x)\n",
    "\n",
    "# Plot optimized trajectory\n",
    "udp.plot_trajectory(r_store)\n",
    "\n",
    "plt.plot(r_store[1],r_store[2])"
   ]
  }
 ],
 "metadata": {
  "kernelspec": {
   "display_name": "67P_Swarm",
   "language": "python",
   "name": "python3"
  },
  "language_info": {
   "codemirror_mode": {
    "name": "ipython",
    "version": 3
   },
   "file_extension": ".py",
   "mimetype": "text/x-python",
   "name": "python",
   "nbconvert_exporter": "python",
   "pygments_lexer": "ipython3",
   "version": "3.8.15"
  },
  "vscode": {
   "interpreter": {
    "hash": "b9a187d1fd3efa5ced9dbeaa8c09dd6c19f147abf025ef1bac0fa81a1ca86d3e"
   }
  }
 },
 "nbformat": 4,
 "nbformat_minor": 2
}
