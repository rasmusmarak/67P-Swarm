{
 "cells": [
  {
   "cell_type": "code",
   "execution_count": 1,
   "metadata": {},
   "outputs": [],
   "source": [
    "%load_ext autoreload\n",
    "%autoreload 2"
   ]
  },
  {
   "cell_type": "code",
   "execution_count": 2,
   "metadata": {},
   "outputs": [],
   "source": [
    "# For optimization using pygmo\n",
    "import pygmo as pg\n",
    "from udp_initial_condition import udp_initial_condition\n",
    "\n",
    "# For Plotting\n",
    "import matplotlib.pyplot as plt\n",
    "\n",
    "from math import pi\n"
   ]
  },
  {
   "cell_type": "code",
   "execution_count": 45,
   "metadata": {},
   "outputs": [],
   "source": [
    "import numpy as np\n",
    "#import pykep as pk\n",
    "# Setup hyperparameters:\n",
    "body_density = 533           # https://sci.esa.int/web/rosetta/-/14615-comet-67p\n",
    "target_altitude = 5000**2    # Target altitude squared\n",
    "final_time = 20*3600.0       # Final time\n",
    "start_time = 0               # Starting time\n",
    "time_step = 600.0            # Time step size for trajectory propagation.\n",
    "mu = 665.666                 # Gravitational parameter for 67P/C-G\n",
    "\n",
    "# Bounds of the search space for the parameter optimization\n",
    "#  Osculating orbital elements\n",
    "a = [10000, 15000] # Semi-major axis\n",
    "e = [0, 2]     # Eccentricity [0,1] (or (1,2) maybe?)\n",
    "o = [0, 2*pi]  # Right ascension of ascending node [0,2*pi]\n",
    "w = [0, 2*pi]  # Argument of periapsis [0, 2*pi]\n",
    "i = [0, pi]    # Inclination [0, pi] \n",
    "#v = [0, 2*pi]  # True anomaly [0, 2*pi]\n",
    "ea = [0, 2*pi] # Eccentric anomaly [0, 2*pi] for e<0, or the Gudermannian for e>1 \n",
    "\n",
    "#x = np.array([10868.433406369919, 1.4916806845868078, 0.49798958467148535, 5.113590246345496, 6.267202458773954, 0.025083557832227342])\n",
    "#lower_bounds = [x[0]-1e-1, x[1]-1e-1, x[2]-1e-1, x[3]-1e-1, x[4]-1e-1, x[5]-1e-1]\n",
    "#upper_bounds = [x[0]+1e-1, x[1]+1e-1, x[2]+1e-1, x[3]+1e-1, x[4]+1e-1, x[5]+1e-1]\n",
    "\n",
    "lower_bounds = [a[0], e[0], i[0], o[0], w[0], ea[0]]\n",
    "upper_bounds = [a[1], e[1], i[1], o[1], w[1], ea[1]]\n",
    "\n",
    "#r, v = pk.par2ic(lower_bounds,mu)\n",
    "#print(\"lb:  r: \", r, \",  v: \", v)\n",
    "#r, v = pk.par2ic(upper_bounds,mu)\n",
    "#print(\"lb:  r: \", r, \",  v: \", v)\n",
    "\n",
    "#r, v = pk.par2ic([2000, 0.01, 2*pi, pi, pi, pi],mu)\n",
    "#print(\"test:  r: \", r, \",  v: \", v)\n",
    "\n",
    "#lower_bounds = [-6000, -6000, -6000, 0, 0, 0]\n",
    "#upper_bounds = [6000, 6000, 6000, 2.5, 2.5, 2.5]\n",
    "\n",
    "# Optimization parameters\n",
    "population_size = 10 #10\n",
    "number_of_generations = 32 #32"
   ]
  },
  {
   "cell_type": "code",
   "execution_count": 46,
   "metadata": {},
   "outputs": [
    {
     "name": "stdout",
     "output_type": "stream",
     "text": [
      "Physical dimension along x (UN-normalized):  5002.5703125 Km\n",
      "\n",
      "   Gen:        Fevals:          Best:             F:            CR:            dx:            df:\n",
      "      1             10    1.53677e+07        0.77183       0.718421         1162.2    2.63927e+08\n",
      "      2             20    9.18817e+06       0.191639        0.58161        4165.21    9.42898e+07\n",
      "      3             30    9.18817e+06       0.191639        0.58161        4165.71    8.47147e+07\n",
      "      4             40    9.18817e+06       0.191639        0.58161        4165.71    8.47147e+07\n",
      "      5             50    8.29581e+06       0.191639      0.0549684        800.221    7.13989e+07\n",
      "      6             60    8.29581e+06       0.191639      0.0549684        800.221    7.13989e+07\n",
      "      7             70    8.29581e+06       0.191639      0.0549684        1066.25    4.43746e+07\n",
      "      8             80    8.29581e+06       0.191639      0.0549684        1066.25    4.43746e+07\n",
      "      9             90    8.29581e+06       0.191639      0.0549684        1067.28      3.732e+07\n",
      "     10            100    8.29581e+06       0.191639      0.0549684        1067.43    3.58385e+07\n",
      "     11            110    8.29581e+06       0.191639      0.0549684        1066.77    3.39044e+07\n",
      "     12            120    8.29581e+06       0.191639      0.0549684        401.636     2.3364e+07\n",
      "     13            130    8.25031e+06       0.794394       0.454758        2402.73    2.34095e+07\n",
      "     14            140    8.25031e+06       0.794394       0.454758         3534.8    1.67761e+07\n",
      "     15            150    8.12994e+06       0.191639      0.0549684        1531.35    1.66236e+07\n",
      "     16            160    8.12994e+06       0.191639      0.0549684        1531.35    1.66236e+07\n",
      "     17            170    8.12994e+06       0.191639      0.0549684        1531.44    1.64954e+07\n",
      "     18            180    8.12994e+06       0.191639      0.0549684        1531.44    1.64954e+07\n",
      "     19            190    7.92511e+06       0.794394       0.454758        3534.55    1.67003e+07\n",
      "     20            200    7.92511e+06       0.794394       0.454758        3534.55    1.67003e+07\n",
      "     21            210     7.5843e+06       0.191639      0.0549684        1530.01    1.55033e+07\n",
      "     22            220     7.5843e+06       0.191639      0.0549684        92.9762    1.34745e+07\n",
      "     23            230     7.5843e+06       0.191639      0.0549684        299.219    9.51524e+06\n",
      "     24            240     7.5843e+06       0.191639      0.0549684        299.219    9.51524e+06\n",
      "     25            250     7.5843e+06       0.191639      0.0549684        299.219    9.51524e+06\n",
      "     26            260     7.5843e+06       0.191639      0.0549684        2865.87    6.76052e+06\n",
      "     27            270     7.5843e+06       0.191639      0.0549684        2865.87    6.76052e+06\n",
      "     28            280     7.5843e+06       0.191639      0.0549684        2865.87    6.76052e+06\n",
      "     29            290    7.38543e+06       0.191639      0.0549684        120.849    4.85497e+06\n",
      "     30            300    7.38543e+06       0.191639      0.0549684        120.849    4.85497e+06\n",
      "     31            310    7.38543e+06       0.191639      0.0549684        120.386    4.28825e+06\n",
      "Champion fitness value:      32            320    7.33097e+06       0.892822       0.317015        214.298    4.34271e+06\n",
      "Exit condition -- generations = 32\n",
      " [7330970.14228489]\n",
      "Champion chromosome:  [1.18632102e+04 5.86308806e-01 1.96757920e-01 8.09931689e-01\n",
      " 2.80694409e+00 5.99684806e+00]\n"
     ]
    },
    {
     "data": {
      "application/vnd.jupyter.widget-view+json": {
       "model_id": "db5f1105037a4753b0615f2592887186",
       "version_major": 2,
       "version_minor": 0
      },
      "text/plain": [
       "BokehModel(combine_events=True, render_bundle={'docs_json': {'bf14d881-c6c9-40fa-8663-10ef6165d1ea': {'defs': …"
      ]
     },
     "metadata": {},
     "output_type": "display_data"
    },
    {
     "data": {
      "text/html": [
       "<div style=\"display: none\"></div>"
      ]
     },
     "metadata": {},
     "output_type": "display_data"
    },
    {
     "data": {
      "text/plain": [
       "[<matplotlib.lines.Line2D at 0x7f8d77573f70>]"
      ]
     },
     "execution_count": 46,
     "metadata": {},
     "output_type": "execute_result"
    },
    {
     "data": {
      "image/png": "[encoded data removed]",
      "text/plain": [
       "<Figure size 640x480 with 1 Axes>"
      ]
     },
     "metadata": {},
     "output_type": "display_data"
    }
   ],
   "source": [
    "# Setup class\n",
    "udp = udp_initial_condition(body_density, target_altitude, final_time, start_time, time_step, lower_bounds, upper_bounds, mu)\n",
    "\n",
    "# Setup user defined problem (udp)\n",
    "prob = pg.problem(udp)\n",
    "\n",
    "# Setup optimization algorithm\n",
    "algo = pg.algorithm(pg.sade(gen = number_of_generations))\n",
    "pop = pg.population(prob = prob, size = population_size)\n",
    "\n",
    "# Run optimization\n",
    "algo.set_verbosity(1)\n",
    "pop = algo.evolve(pop)\n",
    "\n",
    "# Logs for output\n",
    "print(\"Champion fitness value: \", pop.champion_f) \n",
    "print(\"Champion chromosome: \", pop.champion_x) \n",
    "\n",
    "# Retrieving champion chromosome\n",
    "x = pop.champion_x\n",
    "\n",
    "# Compute optimized trajectory\n",
    "r_store, v_store, a_store = udp.compute_trajectory(x)\n",
    "\n",
    "# Plot optimized trajectory\n",
    "udp.plot_trajectory(r_store)\n",
    "\n",
    "plt.plot(r_store[1],r_store[2])"
   ]
  },
  {
   "cell_type": "code",
   "execution_count": 36,
   "metadata": {},
   "outputs": [
    {
     "name": "stdout",
     "output_type": "stream",
     "text": [
      "Difference: boundary x - chroomosome x:  [ 6.36991899e-06  4.58680782e-09 -3.28514660e-10 -3.65450337e-09\n",
      " -1.22604593e-09  3.22273423e-11]\n",
      "Difference chosen r - converted r:  [0. 0. 0.]\n",
      "Difference chosen v - converted v [ 2.00000000e-09  0.00000000e+00 -1.00000003e-09]\n"
     ]
    }
   ],
   "source": [
    "import numpy as np\n",
    "\n",
    "# Chosen good starting point\n",
    "r = np.array([2.26220387e+03, -4.84587269e+03, 1.03375971e+02])\n",
    "v = np.array([4.48955202e-01, 1.94488060e-01,  2.66006639e-01])\n",
    "\n",
    "#-------------------------------------------\n",
    "\n",
    "# After conversion to orb-elements for setting up bounds\n",
    "x = np.array([10868.433406369919, 1.4916806845868078, 0.49798958467148535, 5.113590246345496, 6.267202458773954, 0.025083557832227342])\n",
    "\n",
    "#-------------------------------------------\n",
    "\n",
    "# Chromosome given to fitness\n",
    "x1 = np.array([1.08684334e+04, 1.49168068e+00, 4.97989585e-01, 5.11359025e+00, 6.26720246e+00, 2.50835578e-02])\n",
    "\n",
    "#-------------------------------------------\n",
    "\n",
    "# After conversiont to cartesian inside fitness\n",
    "r1 = np.array([2262.20387, -4845.87269, 103.375971])\n",
    "v1 = np.array([0.4489552, 0.19448806, 0.26600664])\n",
    "\n",
    "\n",
    "#-------------------------------------------\n",
    "\n",
    "x_diff = x-x1 # Difference between boundaries and chromosome\n",
    "r_diff = r-r1 # Difference chosen r and r after conversion\n",
    "v_diff = v-v1 # Difference chosen v and v after conversion\n",
    "\n",
    "#-------------------------------------------\n",
    "\n",
    "# Printing:\n",
    "print(\"Difference: boundary x - chroomosome x: \", x_diff)\n",
    "print(\"Difference chosen r - converted r: \", r_diff)\n",
    "print(\"Difference chosen v - converted v\", v_diff)\n"
   ]
  },
  {
   "cell_type": "code",
   "execution_count": 71,
   "metadata": {},
   "outputs": [
    {
     "name": "stdout",
     "output_type": "stream",
     "text": [
      "eq_1:  (10868.433406369919, 1.4916806845868078, 0.49798958467148535, 5.113590246345496, 6.267202458773954, 0.025083557832227342)\n",
      "r:  [ 2262.20387  -4845.87269    103.375971]    v:  [0.4489552  0.19448806 0.26600664]\n",
      "diff_1:  r:  [-2.18278728e-11 -1.09139364e-11 -1.38129508e-11]    v:  [ 8.88178420e-16 -1.99840144e-15  1.11022302e-16]\n",
      "eq_2:  (3.228180703036812, 1656.9926769267652, 0.49798958467148535, 5.113590246345496, 0.00665266777649954, 0.033798920964259044)\n",
      "r:  [ 2262.20387  -4845.87269    103.375971]    v:  [0.4489552  0.19448806 0.26600664]\n",
      "diff_2:  r:  [-1.64618541e-10 -7.54880602e-11 -9.91775551e-11]    v:  [ 5.99520433e-15 -1.40165657e-14  1.11022302e-16]\n",
      "diff_3:  r:  [-1.42790668e-10 -6.45741238e-11 -8.53646043e-11]    v:  [ 5.10702591e-15 -1.20181642e-14  0.00000000e+00]\n"
     ]
    }
   ],
   "source": [
    "import numpy as np\n",
    "r = np.array([2.26220387e+03, -4.84587269e+03, 1.03375971e+02])\n",
    "v = np.array([4.48955202e-01, 1.94488060e-01,  2.66006639e-01])\n",
    "\n",
    "eq_1 = pk.ic2par(r,v,mu)\n",
    "print(\"eq_1: \", eq_1)\n",
    "r_1,v_1 = pk.par2ic(eq,mu)\n",
    "r_1 = np.array(r_1)\n",
    "v_1 = np.array(v_1)\n",
    "print(\"r: \", r_1, \"   v: \",v_1)\n",
    "diff1_r = r-r_1\n",
    "diff1_v = v-v_1\n",
    "print(\"diff_1: \", \"r: \", diff1_r, \"   v: \", diff1_v)\n",
    "\n",
    "\n",
    "eq_2 = pk.ic2par(r,v,1)\n",
    "print(\"eq_2: \", eq_2)\n",
    "r_2,v_2 = pk.par2ic(eq_2,1)\n",
    "r_2 = np.array(r_2)\n",
    "v_2 = np.array(v_2)\n",
    "print(\"r: \", r_2, \"   v: \",v_2)\n",
    "diff2_r = r-r_2\n",
    "diff2_v = v-v_2\n",
    "print(\"diff_2: \", \"r: \", diff2_r, \"   v: \", diff2_v)\n",
    "\n",
    "diff3_r = r_1 - r_2 \n",
    "diff3_v = v_1 - v_2\n",
    "print(\"diff_3: \", \"r: \", diff3_r, \"   v: \", diff3_v)\n",
    "\n",
    "\n",
    "\n",
    "\n",
    "\n",
    "\n",
    "\n",
    "\n",
    "\n",
    "\n"
   ]
  },
  {
   "cell_type": "code",
   "execution_count": 80,
   "metadata": {},
   "outputs": [
    {
     "data": {
      "application/vnd.jupyter.widget-view+json": {
       "model_id": "a4fd037e4ac3472e8e0898d5747595a8",
       "version_major": 2,
       "version_minor": 0
      },
      "text/plain": [
       "BokehModel(combine_events=True, render_bundle={'docs_json': {'884629fe-62a2-4c81-b481-67345fe65b0b': {'defs': …"
      ]
     },
     "metadata": {},
     "output_type": "display_data"
    },
    {
     "data": {
      "text/html": [
       "<div style=\"display: none\"></div>"
      ]
     },
     "metadata": {},
     "output_type": "display_data"
    }
   ],
   "source": [
    "# Plot optimized trajectory\n",
    "udp.plot_trajectory(r_store)"
   ]
  }
 ],
 "metadata": {
  "kernelspec": {
   "display_name": "67P_Swarm",
   "language": "python",
   "name": "python3"
  },
  "language_info": {
   "codemirror_mode": {
    "name": "ipython",
    "version": 3
   },
   "file_extension": ".py",
   "mimetype": "text/x-python",
   "name": "python",
   "nbconvert_exporter": "python",
   "pygments_lexer": "ipython3",
   "version": "3.8.15"
  },
  "vscode": {
   "interpreter": {
    "hash": "b9a187d1fd3efa5ced9dbeaa8c09dd6c19f147abf025ef1bac0fa81a1ca86d3e"
   }
  }
 },
 "nbformat": 4,
 "nbformat_minor": 2
}
