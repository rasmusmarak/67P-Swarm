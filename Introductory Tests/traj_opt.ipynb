{
 "cells": [
  {
   "cell_type": "code",
   "execution_count": 24,
   "metadata": {},
   "outputs": [
    {
     "name": "stdout",
     "output_type": "stream",
     "text": [
      "The autoreload extension is already loaded. To reload it, use:\n",
      "  %reload_ext autoreload\n"
     ]
    }
   ],
   "source": [
    "%load_ext autoreload\n",
    "%autoreload 2"
   ]
  },
  {
   "cell_type": "code",
   "execution_count": 2,
   "metadata": {},
   "outputs": [],
   "source": [
    "# For optimization using pygmo\n",
    "import pygmo as pg\n",
    "import numpy as np\n",
    "from udp_initial_condition import udp_initial_condition\n",
    "\n",
    "# For Plotting\n",
    "import matplotlib.pyplot as plt\n",
    "\n",
    "# For cProfile evaluation\n",
    "import cProfile\n",
    "import pstats"
   ]
  },
  {
   "cell_type": "code",
   "execution_count": 3,
   "metadata": {},
   "outputs": [],
   "source": [
    "def setup_parameters():\n",
    "    \"\"\"Set up of required hyperparameters for the optimization scheme. \n",
    "\n",
    "    Returns:\n",
    "        body_density (_float_): Body density of celestial body.\n",
    "        target_altitude (_float_): Squared value of the satellite's orbital target altitude.\n",
    "        final_time (_float_): Final time for the integration of trajectory.\n",
    "        start_time (_float_): Start time for the integration of trajectory.\n",
    "        time_step (_float_): Size of initial time step for integration of trajectory.\n",
    "        lower_bounds (_np.ndarray_): Lower boundary values for the initial state vector.\n",
    "        upper_bounds (_np.ndarray_): Lower boundary values for the initial state vector.\n",
    "        algorithm (_int_): Choice of algorithm (see file Integrator for references).\n",
    "        population_size (_int_): Number of chromosomes to compare at each generation.\n",
    "        number_of_generations (_int_): Number of generations for the genetic opimization.\n",
    "    \"\"\"\n",
    "    # Setup hyperparameters:\n",
    "    body_density = 533                  # https://sci.esa.int/web/rosetta/-/14615-comet-67p\n",
    "    target_altitude = 5000**2           # Target altitude squared\n",
    "    final_time = 20*3600.0              # Final time\n",
    "    start_time = 0                      # Starting time\n",
    "    time_step = 600                     # Time step size for trajectory propagation.\n",
    "\n",
    "    # Bounds for initial variable domain: [r_x,r_y,r_z,v_x,v_y,v_z]\n",
    "    lower_bounds, upper_bounds = np.array([-6000,-6000,-6000,0,0,0]),np.array([6000,6000,6000,2.5,2.5,2.5])\n",
    "\n",
    "    # Choose numerical integrator:\n",
    "    algorithm = 3\n",
    "\n",
    "    # Optimization parameters\n",
    "    population_size = 10 #10\n",
    "    number_of_generations = 32 #32\n",
    "\n",
    "    return body_density, target_altitude, final_time, start_time, time_step, lower_bounds, upper_bounds, algorithm, population_size, number_of_generations"
   ]
  },
  {
   "cell_type": "code",
   "execution_count": 27,
   "metadata": {},
   "outputs": [
    {
     "name": "stdout",
     "output_type": "stream",
     "text": [
      "Physical dimension along x (UN-normalized):  5002.5703125 Km\n",
      "Problem name: <class 'udp_initial_condition.udp_initial_condition'>\n",
      "\tC++ class name: pybind11::object\n",
      "\n",
      "\tGlobal dimension:\t\t\t6\n",
      "\tInteger dimension:\t\t\t0\n",
      "\tFitness dimension:\t\t\t1\n",
      "\tNumber of objectives:\t\t\t1\n",
      "\tEquality constraints dimension:\t\t0\n",
      "\tInequality constraints dimension:\t0\n",
      "\tLower bounds: [-6000, -6000, -6000, 0, 0, ... ]\n",
      "\tUpper bounds: [6000, 6000, 6000, 2.5, 2.5, ... ]\n",
      "\tHas batch fitness evaluation: false\n",
      "\n",
      "\tHas gradient: false\n",
      "\tUser implemented gradient sparsity: false\n",
      "\tHas hessians: false\n",
      "\tUser implemented hessians sparsity: false\n",
      "\n",
      "\tFitness evaluations: 0\n",
      "\n",
      "\tThread safety: none\n",
      "\n",
      "\n",
      "   Gen:        Fevals:          Best:             F:            CR:            dx:            df:\n",
      "      1             10    2.01782e+09       0.499094       0.216494        13612.2    2.43676e+10\n",
      "      2             20    2.01782e+09       0.499094       0.216494        16159.6    9.95702e+09\n",
      "      3             30    1.60605e+09       0.499094       0.216494        15572.9    9.45369e+09\n",
      "      4             40    1.60605e+09       0.499094       0.216494        15572.9    9.45369e+09\n",
      "      5             50    1.60605e+09       0.499094       0.216494        15572.9    9.45369e+09\n",
      "      6             60    1.44598e+09       0.499094       0.216494        6000.72    9.61376e+09\n",
      "      7             70    1.73241e+07       0.603024       0.251098        22857.2    1.10424e+10\n",
      "      8             80    1.73241e+07       0.603024       0.251098        22857.2    1.09561e+10\n",
      "      9             90    8.40158e+06       0.603024        0.50263        20141.8     9.5896e+09\n",
      "     10            100    8.40158e+06       0.603024        0.50263        20141.8     9.5896e+09\n",
      "     11            110    8.40158e+06       0.603024        0.50263        20141.8     9.5896e+09\n",
      "     12            120    8.40158e+06       0.603024        0.50263        20141.8     9.5896e+09\n",
      "     13            130    8.40158e+06       0.603024        0.50263        19019.6    2.49244e+09\n",
      "     14            140    8.40158e+06       0.603024        0.50263        15863.8    1.26678e+09\n",
      "     15            150    8.40158e+06       0.603024        0.50263        17574.1    8.29955e+08\n",
      "     16            160    8.40158e+06       0.603024        0.50263        17574.1    8.29955e+08\n",
      "     17            170    8.40158e+06       0.603024        0.50263        17574.1    8.29955e+08\n",
      "     18            180    8.40158e+06       0.603024        0.50263        17574.1    8.29955e+08\n",
      "     19            190    8.40158e+06       0.603024        0.50263        19075.1    5.79706e+08\n",
      "     20            200    8.40158e+06       0.603024        0.50263        15863.1    1.40621e+08\n",
      "     21            210    8.40158e+06       0.603024        0.50263        15863.1    1.40621e+08\n",
      "     22            220    8.40158e+06       0.603024        0.50263        15863.1    1.40621e+08\n",
      "     23            230    8.40158e+06       0.603024        0.50263        9147.45     7.3071e+07\n",
      "     24            240    6.29398e+06       0.566741       0.976485        5432.43    7.51786e+07\n",
      "     25            250    6.29398e+06       0.566741       0.976485        5432.43    7.51786e+07\n",
      "     26            260    6.29398e+06       0.566741       0.976485        5432.43    7.51786e+07\n",
      "     27            270    6.29398e+06       0.566741       0.976485        16041.2    1.80126e+07\n",
      "     28            280    6.29398e+06       0.566741       0.976485        16041.2    1.80126e+07\n",
      "     29            290    6.29398e+06       0.566741       0.976485        16041.2    1.80126e+07\n",
      "     30            300    5.95399e+06       0.566741       0.976485        10230.1    1.77244e+07\n",
      "     31            310    5.95399e+06       0.566741       0.976485        10230.1    1.77244e+07\n",
      "Champion fitness value:      32            320     5.1077e+06       0.365841       0.162686        11983.9    1.85707e+07\n",
      "Exit condition -- generations = 32\n",
      " [5107699.81873282]\n",
      "Champion chromosome:  [-2.75209276e+03 -4.21643758e+03  2.65538571e+03  1.40636432e-01\n",
      "  1.23604444e-01  4.96017581e-01]\n"
     ]
    },
    {
     "data": {
      "application/vnd.jupyter.widget-view+json": {
       "model_id": "ffc07fe676d9426fa83806114a1bfd90",
       "version_major": 2,
       "version_minor": 0
      },
      "text/plain": [
       "BokehModel(combine_events=True, render_bundle={'docs_json': {'261587ec-c6a1-4e98-9652-e7976a2da218': {'defs': …"
      ]
     },
     "metadata": {},
     "output_type": "display_data"
    },
    {
     "data": {
      "text/html": [
       "<div style=\"display: none\"></div>"
      ]
     },
     "metadata": {},
     "output_type": "display_data"
    },
    {
     "data": {
      "text/plain": [
       "[<matplotlib.lines.Line2D at 0x7feaf1b99d30>]"
      ]
     },
     "execution_count": 27,
     "metadata": {},
     "output_type": "execute_result"
    },
    {
     "data": {
      "image/png": "[encoded data removed]",
      "text/plain": [
       "<Figure size 640x480 with 1 Axes>"
      ]
     },
     "metadata": {},
     "output_type": "display_data"
    }
   ],
   "source": [
    "# Setup class\n",
    "udp = udp_initial_condition(body_density, target_altitude, final_time, start_time, time_step, lower_bounds, upper_bounds)\n",
    "\n",
    "# Setup user defined problem (udp)\n",
    "prob = pg.problem(udp)\n",
    "print(prob)\n",
    "\n",
    "# Setup optimization algorithm\n",
    "algo = pg.algorithm(pg.sade(gen = number_of_generations))\n",
    "pop = pg.population(prob = prob, size = population_size)\n",
    "\n",
    "# Run optimization\n",
    "algo.set_verbosity(1)\n",
    "pop = algo.evolve(pop)\n",
    "\n",
    "# Logs for output\n",
    "print(\"Champion fitness value: \", pop.champion_f) \n",
    "print(\"Champion chromosome: \", pop.champion_x) \n",
    "\n",
    "# Retrieving champion chromosome\n",
    "x = pop.champion_x\n",
    "\n",
    "# Compute optimized trajectory\n",
    "fit_val, r_store, v_store, a_store = udp.compute_trajectory(x)\n",
    "\n",
    "# Plot optimized trajectory\n",
    "udp.plot_trajectory(r_store)\n",
    "\n",
    "plt.plot(r_store[1],r_store[2])"
   ]
  },
  {
   "cell_type": "code",
   "execution_count": 20,
   "metadata": {},
   "outputs": [
    {
     "data": {
      "application/vnd.jupyter.widget-view+json": {
       "model_id": "3f5af42e535a4d849d5d25c8e350f245",
       "version_major": 2,
       "version_minor": 0
      },
      "text/plain": [
       "BokehModel(combine_events=True, render_bundle={'docs_json': {'b51fa9fd-ece7-4cf2-9bac-e488e3b9ba6d': {'defs': …"
      ]
     },
     "metadata": {},
     "output_type": "display_data"
    },
    {
     "data": {
      "text/html": [
       "<div style=\"display: none\"></div>"
      ]
     },
     "metadata": {},
     "output_type": "display_data"
    }
   ],
   "source": [
    "# Plot optimized trajectory\n",
    "udp.plot_trajectory(r_store)"
   ]
  }
 ],
 "metadata": {
  "kernelspec": {
   "display_name": "67P_Swarm",
   "language": "python",
   "name": "python3"
  },
  "language_info": {
   "codemirror_mode": {
    "name": "ipython",
    "version": 3
   },
   "file_extension": ".py",
   "mimetype": "text/x-python",
   "name": "python",
   "nbconvert_exporter": "python",
   "pygments_lexer": "ipython3",
   "version": "3.8.15 | packaged by conda-forge | (default, Jan 26 2023, 10:52:53) \n[Clang 14.0.6 ]"
  },
  "vscode": {
   "interpreter": {
    "hash": "b9a187d1fd3efa5ced9dbeaa8c09dd6c19f147abf025ef1bac0fa81a1ca86d3e"
   }
  }
 },
 "nbformat": 4,
 "nbformat_minor": 2
}
