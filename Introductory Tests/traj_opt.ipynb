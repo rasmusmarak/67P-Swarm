{
 "cells": [
  {
   "cell_type": "code",
   "execution_count": 22,
   "metadata": {},
   "outputs": [
    {
     "name": "stdout",
     "output_type": "stream",
     "text": [
      "The autoreload extension is already loaded. To reload it, use:\n",
      "  %reload_ext autoreload\n"
     ]
    }
   ],
   "source": [
    "%load_ext autoreload\n",
    "%autoreload 2"
   ]
  },
  {
   "cell_type": "code",
   "execution_count": 23,
   "metadata": {},
   "outputs": [],
   "source": [
    "# For optimization using pygmo\n",
    "import pygmo as pg\n",
    "import numpy as np\n",
    "from udp_initial_condition import udp_initial_condition\n",
    "\n",
    "# For Plotting\n",
    "import matplotlib.pyplot as plt"
   ]
  },
  {
   "cell_type": "code",
   "execution_count": 24,
   "metadata": {},
   "outputs": [],
   "source": [
    "# Setup hyperparameters:\n",
    "body_density = 533                  # https://sci.esa.int/web/rosetta/-/14615-comet-67p\n",
    "target_altitude = 5000**2           # Target altitude squared\n",
    "final_time = 20*3600.0              # Final time\n",
    "start_time = 0                      # Starting time\n",
    "time_step = 800              # Time step size for trajectory propagation.\n",
    "\n",
    "# Bounds for initial variable domain: [r_x,r_y,r_z,v_x,v_y,v_z]\n",
    "lower_bounds, upper_bounds = np.array([-6000,-6000,-6000,0,0,0]),np.array([6000,6000,6000,2.5,2.5,2.5])\n",
    "\n",
    "# Optimization parameters\n",
    "population_size = 10\n",
    "number_of_generations = 32"
   ]
  },
  {
   "cell_type": "code",
   "execution_count": 29,
   "metadata": {},
   "outputs": [
    {
     "name": "stdout",
     "output_type": "stream",
     "text": [
      "Physical dimension along x (UN-normalized):  5002.5703125 Km\n",
      "\n",
      "   Gen:        Fevals:          Best:             F:            CR:            dx:            df:\n",
      "      1             10     2.4475e+09       0.983287       0.275102        15855.3    1.36342e+10\n"
     ]
    },
    {
     "ename": "KeyboardInterrupt",
     "evalue": "",
     "output_type": "error",
     "traceback": [
      "\u001b[0;31m---------------------------------------------------------------------------\u001b[0m",
      "\u001b[0;31mKeyboardInterrupt\u001b[0m                         Traceback (most recent call last)",
      "Cell \u001b[0;32mIn[29], line 17\u001b[0m\n\u001b[1;32m     15\u001b[0m \u001b[39m# Run optimization\u001b[39;00m\n\u001b[1;32m     16\u001b[0m algo\u001b[39m.\u001b[39mset_verbosity(\u001b[39m1\u001b[39m)\n\u001b[0;32m---> 17\u001b[0m pop \u001b[39m=\u001b[39m algo\u001b[39m.\u001b[39;49mevolve(pop)\n\u001b[1;32m     19\u001b[0m \u001b[39m# Logs for output\u001b[39;00m\n\u001b[1;32m     20\u001b[0m \u001b[39mprint\u001b[39m(\u001b[39m\"\u001b[39m\u001b[39mChampion fitness value: \u001b[39m\u001b[39m\"\u001b[39m, pop\u001b[39m.\u001b[39mchampion_f) \n",
      "File \u001b[0;32m~/Master Thesis/My Repositories/67P-Swarm/Introductory Tests/udp_initial_condition.py:73\u001b[0m, in \u001b[0;36mudp_initial_condition.fitness\u001b[0;34m(self, x)\u001b[0m\n\u001b[1;32m     64\u001b[0m \u001b[39mdef\u001b[39;00m \u001b[39mfitness\u001b[39m(\u001b[39mself\u001b[39m, x: np\u001b[39m.\u001b[39mndarray) \u001b[39m-\u001b[39m\u001b[39m>\u001b[39m \u001b[39mfloat\u001b[39m:\n\u001b[1;32m     65\u001b[0m \u001b[39m    \u001b[39m\u001b[39m\"\"\" fitness evaluates the proximity of the satallite to target altitude.\u001b[39;00m\n\u001b[1;32m     66\u001b[0m \n\u001b[1;32m     67\u001b[0m \u001b[39m    Args:\u001b[39;00m\n\u001b[0;32m   (...)\u001b[0m\n\u001b[1;32m     71\u001b[0m \u001b[39m        fitness value (float): Difference between squared values of current and target altitude of satellite.\u001b[39;00m\n\u001b[1;32m     72\u001b[0m \u001b[39m    \"\"\"\u001b[39;00m\n\u001b[0;32m---> 73\u001b[0m     fitness_value, _ \u001b[39m=\u001b[39m \u001b[39mself\u001b[39;49m\u001b[39m.\u001b[39;49mcompute_trajectory(np\u001b[39m.\u001b[39;49marray(x))\n\u001b[1;32m     74\u001b[0m     \u001b[39mreturn\u001b[39;00m [fitness_value]\n",
      "File \u001b[0;32m~/Master Thesis/My Repositories/67P-Swarm/Introductory Tests/udp_initial_condition.py:101\u001b[0m, in \u001b[0;36mudp_initial_condition.compute_trajectory\u001b[0;34m(self, x)\u001b[0m\n\u001b[1;32m     98\u001b[0m fitness_value \u001b[39m=\u001b[39m \u001b[39m0\u001b[39m\n\u001b[1;32m    100\u001b[0m \u001b[39m# Integrate trajectory\u001b[39;00m\n\u001b[0;32m--> 101\u001b[0m trajectory_info \u001b[39m=\u001b[39m \u001b[39mself\u001b[39;49m\u001b[39m.\u001b[39;49mintegrator\u001b[39m.\u001b[39;49mrun_integration(x)\n\u001b[1;32m    103\u001b[0m \u001b[39m# Return fitness value for the computed trajectory\u001b[39;00m\n\u001b[1;32m    104\u001b[0m squared_altitudes \u001b[39m=\u001b[39m trajectory_info[\u001b[39m0\u001b[39m,:]\u001b[39m*\u001b[39m\u001b[39m*\u001b[39m\u001b[39m2\u001b[39m \u001b[39m+\u001b[39m trajectory_info[\u001b[39m1\u001b[39m,:]\u001b[39m*\u001b[39m\u001b[39m*\u001b[39m\u001b[39m2\u001b[39m \u001b[39m+\u001b[39m trajectory_info[\u001b[39m2\u001b[39m,:]\u001b[39m*\u001b[39m\u001b[39m*\u001b[39m\u001b[39m2\u001b[39m\n",
      "File \u001b[0;32m~/Master Thesis/My Repositories/67P-Swarm/Introductory Tests/Integrator.py:62\u001b[0m, in \u001b[0;36mIntegrator.run_integration\u001b[0;34m(self, x)\u001b[0m\n\u001b[1;32m     53\u001b[0m \u001b[39mdef\u001b[39;00m \u001b[39mrun_integration\u001b[39m(\u001b[39mself\u001b[39m, x: np\u001b[39m.\u001b[39mndarray) \u001b[39m-\u001b[39m\u001b[39m>\u001b[39m np\u001b[39m.\u001b[39mndarray:\n\u001b[1;32m     54\u001b[0m \u001b[39m    \u001b[39m\u001b[39m\"\"\" Calls the correct numerical integration algorithm.\u001b[39;00m\n\u001b[1;32m     55\u001b[0m \n\u001b[1;32m     56\u001b[0m \u001b[39m    Args:\u001b[39;00m\n\u001b[0;32m   (...)\u001b[0m\n\u001b[1;32m     60\u001b[0m \u001b[39m        NDArray containing information on position and velocity at every time step.\u001b[39;00m\n\u001b[1;32m     61\u001b[0m \u001b[39m    \"\"\"\u001b[39;00m\n\u001b[0;32m---> 62\u001b[0m     \u001b[39mreturn\u001b[39;00m \u001b[39mself\u001b[39;49m\u001b[39m.\u001b[39;49mintegrator(x)\n",
      "File \u001b[0;32m~/Master Thesis/My Repositories/67P-Swarm/Introductory Tests/Integrator.py:193\u001b[0m, in \u001b[0;36mIntegrator.new_rkf78\u001b[0;34m(self, x)\u001b[0m\n\u001b[1;32m    191\u001b[0m k1 \u001b[39m=\u001b[39m \u001b[39mself\u001b[39m\u001b[39m.\u001b[39meq_of_motion\u001b[39m.\u001b[39mcompute_motion(x \u001b[39m+\u001b[39m h\u001b[39m*\u001b[39m(\u001b[39mself\u001b[39m\u001b[39m.\u001b[39ma[\u001b[39m1\u001b[39m,\u001b[39m0\u001b[39m]\u001b[39m*\u001b[39mk0), t)\n\u001b[1;32m    192\u001b[0m k2 \u001b[39m=\u001b[39m \u001b[39mself\u001b[39m\u001b[39m.\u001b[39meq_of_motion\u001b[39m.\u001b[39mcompute_motion(x \u001b[39m+\u001b[39m h\u001b[39m*\u001b[39m(\u001b[39mself\u001b[39m\u001b[39m.\u001b[39ma[\u001b[39m2\u001b[39m,\u001b[39m0\u001b[39m]\u001b[39m*\u001b[39mk0 \u001b[39m+\u001b[39m \u001b[39mself\u001b[39m\u001b[39m.\u001b[39ma[\u001b[39m2\u001b[39m,\u001b[39m1\u001b[39m]\u001b[39m*\u001b[39mk1),t)\n\u001b[0;32m--> 193\u001b[0m k3 \u001b[39m=\u001b[39m \u001b[39mself\u001b[39;49m\u001b[39m.\u001b[39;49meq_of_motion\u001b[39m.\u001b[39;49mcompute_motion(x \u001b[39m+\u001b[39;49m h\u001b[39m*\u001b[39;49m(\u001b[39mself\u001b[39;49m\u001b[39m.\u001b[39;49ma[\u001b[39m3\u001b[39;49m,\u001b[39m0\u001b[39;49m]\u001b[39m*\u001b[39;49mk0 \u001b[39m+\u001b[39;49m \u001b[39mself\u001b[39;49m\u001b[39m.\u001b[39;49ma[\u001b[39m3\u001b[39;49m,\u001b[39m1\u001b[39;49m]\u001b[39m*\u001b[39;49mk1 \u001b[39m+\u001b[39;49m \u001b[39mself\u001b[39;49m\u001b[39m.\u001b[39;49ma[\u001b[39m3\u001b[39;49m,\u001b[39m2\u001b[39;49m]\u001b[39m*\u001b[39;49mk2), t)\n\u001b[1;32m    194\u001b[0m k4 \u001b[39m=\u001b[39m \u001b[39mself\u001b[39m\u001b[39m.\u001b[39meq_of_motion\u001b[39m.\u001b[39mcompute_motion(x \u001b[39m+\u001b[39m h\u001b[39m*\u001b[39m(\u001b[39mself\u001b[39m\u001b[39m.\u001b[39ma[\u001b[39m4\u001b[39m,\u001b[39m0\u001b[39m]\u001b[39m*\u001b[39mk0 \u001b[39m+\u001b[39m \u001b[39mself\u001b[39m\u001b[39m.\u001b[39ma[\u001b[39m4\u001b[39m,\u001b[39m1\u001b[39m]\u001b[39m*\u001b[39mk1 \u001b[39m+\u001b[39m \u001b[39mself\u001b[39m\u001b[39m.\u001b[39ma[\u001b[39m4\u001b[39m,\u001b[39m2\u001b[39m]\u001b[39m*\u001b[39mk2 \u001b[39m+\u001b[39m \u001b[39mself\u001b[39m\u001b[39m.\u001b[39ma[\u001b[39m4\u001b[39m,\u001b[39m3\u001b[39m]\u001b[39m*\u001b[39mk3), t)\n\u001b[1;32m    195\u001b[0m k5 \u001b[39m=\u001b[39m \u001b[39mself\u001b[39m\u001b[39m.\u001b[39meq_of_motion\u001b[39m.\u001b[39mcompute_motion(x \u001b[39m+\u001b[39m h\u001b[39m*\u001b[39m(\u001b[39mself\u001b[39m\u001b[39m.\u001b[39ma[\u001b[39m5\u001b[39m,\u001b[39m0\u001b[39m]\u001b[39m*\u001b[39mk0 \u001b[39m+\u001b[39m \u001b[39mself\u001b[39m\u001b[39m.\u001b[39ma[\u001b[39m5\u001b[39m,\u001b[39m1\u001b[39m]\u001b[39m*\u001b[39mk1 \u001b[39m+\u001b[39m \u001b[39mself\u001b[39m\u001b[39m.\u001b[39ma[\u001b[39m5\u001b[39m,\u001b[39m2\u001b[39m]\u001b[39m*\u001b[39mk2 \u001b[39m+\u001b[39m \u001b[39mself\u001b[39m\u001b[39m.\u001b[39ma[\u001b[39m5\u001b[39m,\u001b[39m3\u001b[39m]\u001b[39m*\u001b[39mk3 \u001b[39m+\u001b[39m \u001b[39mself\u001b[39m\u001b[39m.\u001b[39ma[\u001b[39m5\u001b[39m,\u001b[39m4\u001b[39m]\u001b[39m*\u001b[39mk4), t)\n",
      "File \u001b[0;32m~/Master Thesis/My Repositories/67P-Swarm/Introductory Tests/Equations_of_motion.py:31\u001b[0m, in \u001b[0;36mEquations_of_motion.compute_motion\u001b[0;34m(self, x, t)\u001b[0m\n\u001b[1;32m     21\u001b[0m \u001b[39mdef\u001b[39;00m \u001b[39mcompute_motion\u001b[39m(\u001b[39mself\u001b[39m, x: np\u001b[39m.\u001b[39mndarray, t: \u001b[39mfloat\u001b[39m \u001b[39m=\u001b[39m \u001b[39mNone\u001b[39;00m) \u001b[39m-\u001b[39m\u001b[39m>\u001b[39m np\u001b[39m.\u001b[39mndarray:\n\u001b[1;32m     22\u001b[0m \u001b[39m    \u001b[39m\u001b[39m\"\"\" State update equation for RK-type algorithms. \u001b[39;00m\n\u001b[1;32m     23\u001b[0m \n\u001b[1;32m     24\u001b[0m \u001b[39m    Args:\u001b[39;00m\n\u001b[0;32m   (...)\u001b[0m\n\u001b[1;32m     29\u001b[0m \u001b[39m        State vector used for computing state at the following time step.\u001b[39;00m\n\u001b[1;32m     30\u001b[0m \u001b[39m    \"\"\"\u001b[39;00m\n\u001b[0;32m---> 31\u001b[0m     a \u001b[39m=\u001b[39m \u001b[39mself\u001b[39;49m\u001b[39m.\u001b[39;49mcompute_acceleration(x[\u001b[39m0\u001b[39;49m:\u001b[39m3\u001b[39;49m])\n\u001b[1;32m     32\u001b[0m     kx \u001b[39m=\u001b[39m x[\u001b[39m3\u001b[39m:\u001b[39m6\u001b[39m] \n\u001b[1;32m     33\u001b[0m     kv \u001b[39m=\u001b[39m a \n",
      "File \u001b[0;32m~/Master Thesis/My Repositories/67P-Swarm/Introductory Tests/Equations_of_motion.py:17\u001b[0m, in \u001b[0;36mEquations_of_motion.compute_acceleration\u001b[0;34m(self, x)\u001b[0m\n\u001b[1;32m     16\u001b[0m \u001b[39mdef\u001b[39;00m \u001b[39mcompute_acceleration\u001b[39m(\u001b[39mself\u001b[39m, x: np\u001b[39m.\u001b[39mndarray) \u001b[39m-\u001b[39m\u001b[39m>\u001b[39m np\u001b[39m.\u001b[39mndarray:\n\u001b[0;32m---> 17\u001b[0m     _, a, _ \u001b[39m=\u001b[39m model\u001b[39m.\u001b[39;49mevaluate(\u001b[39mself\u001b[39;49m\u001b[39m.\u001b[39;49mmesh_vertices, \u001b[39mself\u001b[39;49m\u001b[39m.\u001b[39;49mmesh_faces, \u001b[39mself\u001b[39;49m\u001b[39m.\u001b[39;49mbody_density, x)\n\u001b[1;32m     18\u001b[0m     \u001b[39mreturn\u001b[39;00m \u001b[39m-\u001b[39mnp\u001b[39m.\u001b[39marray(a)\n",
      "\u001b[0;31mKeyboardInterrupt\u001b[0m: "
     ]
    }
   ],
   "source": [
    "# Choose algorithm: \n",
    "#  - \"RKF78\", \"Euler\" or \"DP8713M\"\n",
    "algorithm = \"RKF78\"\n",
    "\n",
    "# Setup problem class\n",
    "udp = udp_initial_condition(body_density, target_altitude, final_time, start_time, time_step, lower_bounds, upper_bounds, algorithm)\n",
    "\n",
    "# Setup user defined problem (udp)\n",
    "prob = pg.problem(udp)\n",
    "\n",
    "# Setup optimization algorithm\n",
    "algo = pg.algorithm(pg.sade(gen = number_of_generations))\n",
    "pop = pg.population(prob = prob, size = population_size)\n",
    "\n",
    "# Run optimization\n",
    "algo.set_verbosity(1)\n",
    "pop = algo.evolve(pop)\n",
    "\n",
    "# Logs for output\n",
    "print(\"Champion fitness value: \", pop.champion_f) \n",
    "print(\"Champion chromosome: \", pop.champion_x) \n",
    "\n",
    "# Retrieving champion chromosome\n",
    "x = pop.champion_x\n",
    "\n",
    "# Compute optimized trajectory\n",
    "fit_val, r_store, v_store, a_store = udp.compute_trajectory(x)\n",
    "\n",
    "# Plot optimized trajectory\n",
    "udp.plot_trajectory(r_store)\n",
    "\n",
    "plt.plot(r_store[1],r_store[2])"
   ]
  }
 ],
 "metadata": {
  "kernelspec": {
   "display_name": "67P_Swarm",
   "language": "python",
   "name": "python3"
  },
  "language_info": {
   "codemirror_mode": {
    "name": "ipython",
    "version": 3
   },
   "file_extension": ".py",
   "mimetype": "text/x-python",
   "name": "python",
   "nbconvert_exporter": "python",
   "pygments_lexer": "ipython3",
   "version": "3.8.15"
  },
  "vscode": {
   "interpreter": {
    "hash": "b9a187d1fd3efa5ced9dbeaa8c09dd6c19f147abf025ef1bac0fa81a1ca86d3e"
   }
  }
 },
 "nbformat": 4,
 "nbformat_minor": 2
}
