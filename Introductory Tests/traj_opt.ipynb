{
 "cells": [
  {
   "cell_type": "code",
   "execution_count": 39,
   "metadata": {},
   "outputs": [
    {
     "name": "stdout",
     "output_type": "stream",
     "text": [
      "The autoreload extension is already loaded. To reload it, use:\n",
      "  %reload_ext autoreload\n"
     ]
    }
   ],
   "source": [
    "%load_ext autoreload\n",
    "%autoreload 2"
   ]
  },
  {
   "cell_type": "code",
   "execution_count": 40,
   "metadata": {},
   "outputs": [],
   "source": [
    "# For optimization using pygmo\n",
    "import pygmo as pg\n",
    "import numpy as np\n",
    "from math import pi\n",
    "from udp_initial_condition import udp_initial_condition\n",
    "\n",
    "# For computing trajectory\n",
    "from Trajectory import Trajectory\n",
    "\n",
    "# For Plotting\n",
    "import matplotlib.pyplot as plt\n",
    "\n",
    "# For cProfile evaluation\n",
    "import cProfile\n",
    "import pstats"
   ]
  },
  {
   "cell_type": "code",
   "execution_count": 15,
   "metadata": {},
   "outputs": [],
   "source": [
    "def setup_parameters():\n",
    "    \"\"\"Set up of required hyperparameters for the optimization scheme. \n",
    "\n",
    "    Returns:\n",
    "        body_density (float): Body density of celestial body.\n",
    "        target_altitude (float): Squared value of the satellite's orbital target altitude.\n",
    "        final_time (float): Final time for the integration of trajectory.\n",
    "        start_time (float): Start time for the integration of trajectory.\n",
    "        time_step (float): Size of initial time step for integration of trajectory.\n",
    "        lower_bounds (np.ndarray): Lower boundary values for the initial state vector.\n",
    "        upper_bounds (np.ndarray): Lower boundary values for the initial state vector.\n",
    "        algorithm (int): Choice of algorithm (see file Integrator for references).\n",
    "        radius_bounding_sphere (float): Radius of the bounding sphere representing risk zone for collisions with celestial body.\n",
    "        population_size (int): Number of chromosomes to compare at each generation.\n",
    "        number_of_generations (int): Number of generations for the genetic opimization.\n",
    "    \"\"\"\n",
    "    # Setup hyperparameters:\n",
    "    body_density = 533                  # https://sci.esa.int/web/rosetta/-/14615-comet-67p\n",
    "    target_altitude = 5000**2           # Target altitude squared\n",
    "    final_time = 20*3600.0              # Final time\n",
    "    start_time = 0                      # Starting time\n",
    "    time_step = 600                     # Time step size for trajectory propagation.\n",
    "    radius_bounding_sphere = 3500       # Radius of the bounding sphere representing risk zone for collisions with celestial body.\n",
    "\n",
    "    # Bounds for initial variable domain: [r_x,r_y,r_z,v_x,v_y,v_z]\n",
    "    #lower_bounds, upper_bounds = np.array([-6000,-6000,-6000,0,0,0]),np.array([6000,6000,6000,2.5,2.5,2.5])\n",
    "\n",
    "    # Defining the parameter space for the optimization\n",
    "    #   (Parameters are defined in osculating orbital elements)\n",
    "    a = [5000, 15000] # Semi-major axis\n",
    "    e = [0, 1]        # Eccentricity [0, 1]\n",
    "    o = [0, 2*pi]     # Right ascension of ascending node [0,2*pi]\n",
    "    w = [0, 2*pi]     # Argument of periapsis [0, 2*pi]\n",
    "    i = [0, pi]       # Inclination [0, pi] \n",
    "    ea = [0, 2*pi]    # Eccentric anomaly [0, 2*pi]\n",
    "\n",
    "    lower_bounds = np.array([a[0], e[0], i[0], o[0], w[0], ea[0]])\n",
    "    upper_bounds = np.array([a[1], e[1], i[1], o[1], w[1], ea[1]])\n",
    "\n",
    "    # Choose numerical integrator:\n",
    "    algorithm = 3\n",
    "\n",
    "    # Optimization parameters\n",
    "    population_size = 10 #10\n",
    "    number_of_generations = 32 #32\n",
    "\n",
    "    return body_density, target_altitude, final_time, start_time, time_step, lower_bounds, upper_bounds, algorithm, radius_bounding_sphere, population_size, number_of_generations"
   ]
  },
  {
   "cell_type": "code",
   "execution_count": 16,
   "metadata": {},
   "outputs": [
    {
     "name": "stdout",
     "output_type": "stream",
     "text": [
      "Retrieving user defined parameters...\n",
      "Setting up the UDP...\n",
      "Setting up the optimization algorithm...\n",
      "Initializing the optimization:\n",
      "\n",
      "   Gen:        Fevals:          Best:             F:            CR:            dx:            df:\n",
      "      1             10     2.5851e+07       0.269865        0.72306        9576.66    1.64239e+13\n",
      "      2             20     2.5851e+07       0.269865        0.72306         9026.1    4.13892e+09\n",
      "      3             30     2.5851e+07       0.269865        0.72306        9027.02    4.12145e+09\n",
      "      4             40     2.5851e+07       0.269865        0.72306        9295.08    3.79157e+09\n",
      "      5             50     2.5851e+07       0.269865        0.72306        7072.82    3.01775e+09\n",
      "      6             60     2.5851e+07       0.269865        0.72306        7072.82    3.01775e+09\n",
      "      7             70     2.5851e+07       0.269865        0.72306        7072.82    3.01775e+09\n",
      "      8             80     2.5851e+07       0.269865        0.72306        7749.44    6.95949e+08\n",
      "      9             90     2.5851e+07       0.269865        0.72306        1271.82    5.77413e+08\n",
      "     10            100     2.5851e+07       0.269865        0.72306        1271.82    5.77413e+08\n",
      "     11            110     2.5851e+07       0.269865        0.72306        4282.29    4.55431e+08\n",
      "     12            120     2.5851e+07       0.269865        0.72306        4282.29    4.55431e+08\n",
      "     13            130     2.5851e+07       0.269865        0.72306        4282.29    4.55431e+08\n",
      "     14            140    2.37375e+07       0.269865        0.72306        4280.93    4.57545e+08\n",
      "     15            150    2.37375e+07       0.269865        0.72306        4280.93    4.57545e+08\n",
      "     16            160    1.75944e+07       0.764427        0.96602        2436.55    4.63688e+08\n",
      "     17            170    1.54645e+07       0.786142       0.964448        2387.17    4.65818e+08\n",
      "     18            180    1.01986e+07       0.774957       0.386441        2421.08    4.41961e+08\n",
      "     19            190    9.36203e+06       0.774957       0.386441        2420.91    4.42797e+08\n",
      "     20            200    9.36203e+06       0.774957       0.386441        2420.91    4.42797e+08\n",
      "     21            210    5.85481e+06       0.774957       0.386441        2421.21    4.46093e+08\n",
      "     22            220     4.4975e+06       0.774957       0.386441        2422.46    4.47451e+08\n",
      "     23            230    3.31196e+06       0.774957       0.386441        1809.71    4.48636e+08\n",
      "     24            240    3.31196e+06       0.774957       0.386441        1809.71    4.48636e+08\n",
      "     25            250    3.31196e+06       0.774957       0.386441        1809.71    4.48636e+08\n",
      "     26            260    3.31196e+06       0.774957       0.386441        1809.71    4.48636e+08\n",
      "     27            270    2.54191e+06        0.32556       0.985776        3052.43    4.49406e+08\n",
      "     28            280    2.54191e+06        0.32556       0.985776        3052.43    4.49406e+08\n",
      "     29            290    2.54191e+06        0.32556       0.985776        3052.43    4.49406e+08\n",
      "     30            300    2.54191e+06        0.32556       0.985776        3052.43    4.49406e+08\n",
      "     31            310    2.54191e+06        0.32556       0.985776        3053.79    4.30305e+08\n",
      "Champion fitness value:      32            320    2.54191e+06        0.32556       0.985776        238.658    2.96827e+08\n",
      "Exit condition -- generations = 32\n",
      " [2541907.18984342]\n",
      "Champion chromosome:  [8.85314903e+03 1.55562924e+00 1.78703924e+00 4.03913836e+00\n",
      " 3.94643261e+00 6.19774685e+00]\n"
     ]
    },
    {
     "name": "stderr",
     "output_type": "stream",
     "text": [
      "\u001b[0m\u001b[33m2023-03-01 18:20:43.460 (4469.271s) [           4A78A]       vtkAxesActor.cxx:424   WARN| One or more normalized shaft lengths       are < 0 or > 1 and may produce unexpected results.\u001b[0m\n"
     ]
    },
    {
     "data": {
      "application/vnd.jupyter.widget-view+json": {
       "model_id": "fb55eb2fb2e449139f67cbfc7d7bb3c5",
       "version_major": 2,
       "version_minor": 0
      },
      "text/plain": [
       "BokehModel(combine_events=True, render_bundle={'docs_json': {'369524dc-998d-47e5-8873-a4151157d57a': {'defs': …"
      ]
     },
     "metadata": {},
     "output_type": "display_data"
    },
    {
     "data": {
      "image/png": "[encoded data removed]",
      "text/plain": [
       "<Figure size 640x480 with 1 Axes>"
      ]
     },
     "metadata": {},
     "output_type": "display_data"
    }
   ],
   "source": [
    "# Main script:\n",
    "\n",
    "def run():\n",
    "    \"\"\"\n",
    "    Main function for optimizing the initial state for deterministic trajectories around a \n",
    "    small celstial body using a mesh.\n",
    "    \"\"\"\n",
    "    \n",
    "    print(\"Retrieving user defined parameters...\")\n",
    "    body_density, target_altitude, final_time, start_time, time_step, lower_bounds, upper_bounds, algorithm, radius_bounding_sphere, population_size, number_of_generations = setup_parameters()\n",
    "\n",
    "    # Setup User-Defined Problem (UDP)\n",
    "    print(\"Setting up the UDP...\")\n",
    "    udp = udp_initial_condition(body_density, target_altitude, final_time, start_time, time_step, lower_bounds, upper_bounds, algorithm, radius_bounding_sphere)\n",
    "    prob = pg.problem(udp)\n",
    "\n",
    "    # Setup optimization algorithm\n",
    "    print(\"Setting up the optimization algorithm...\")\n",
    "    algo = pg.algorithm(pg.sade(gen = number_of_generations))\n",
    "    pop = pg.population(prob = prob, size = population_size)\n",
    "    \n",
    "    # Run optimization\n",
    "    print(\"Initializing the optimization:\")\n",
    "    algo.set_verbosity(1)\n",
    "    pop = algo.evolve(pop)\n",
    "\n",
    "    # Logs for output\n",
    "    print(\"Champion fitness value: \", pop.champion_f) \n",
    "    print(\"Champion chromosome: \", pop.champion_x) \n",
    "\n",
    "    # Retrieving champion chromosome\n",
    "    x = pop.champion_x\n",
    "\n",
    "    # Compute optimized trajectory\n",
    "    trajectory = Trajectory(body_density, final_time, start_time, time_step, algorithm, radius_bounding_sphere)\n",
    "    trajectory_info, _, _  = trajectory.integrate(x)\n",
    "\n",
    "    # Plot optimized trajectory\n",
    "    trajectory.plot_trajectory(trajectory_info[0:3,:])\n",
    "\n",
    "    plt.plot(trajectory_info[0,:],trajectory_info[1,:])\n",
    "\n",
    "def main():\n",
    "    run()\n",
    "\n",
    "if __name__ == \"__main__\":\n",
    "    cProfile.run(\"main()\", \"output.dat\")\n",
    "\n",
    "    with open(\"output_time.txt\", \"w\") as f:\n",
    "        p = pstats.Stats(\"output.dat\", stream=f)\n",
    "        p.sort_stats(\"time\").print_stats()\n",
    "    \n",
    "    with open(\"output_calls.txt\", \"w\") as f:\n",
    "        p = pstats.Stats(\"output.dat\", stream=f)\n",
    "        p.sort_stats(\"calls\").print_stats()\n"
   ]
  },
  {
   "cell_type": "code",
   "execution_count": 41,
   "metadata": {},
   "outputs": [],
   "source": [
    "import pykep as pk\n",
    "x = [8.85314903e+03, 1.55562924e+00, 1.78703924e+00, 4.03913836e+00, 3.94643261e+00, 6.19774685e+00]\n",
    "\n",
    "# Convert osculating orbital elements to cartesian for integration\n",
    "body_mu = 665.666\n",
    "r, v = pk.par2ic(E=x, mu=body_mu)\n",
    "r = np.array(r)\n",
    "v = np.array(v)\n",
    "x_cartesian = np.concatenate((r,v), axis=None)"
   ]
  },
  {
   "cell_type": "code",
   "execution_count": 42,
   "metadata": {},
   "outputs": [
    {
     "name": "stdout",
     "output_type": "stream",
     "text": [
      "Retrieving user defined parameters...\n",
      "Setting up the UDP...\n"
     ]
    }
   ],
   "source": [
    "print(\"Retrieving user defined parameters...\")\n",
    "body_density, target_altitude, final_time, start_time, time_step, lower_bounds, upper_bounds, algorithm, radius_bounding_sphere, population_size, number_of_generations = setup_parameters()\n",
    "\n",
    "# Setup User-Defined Problem (UDP)\n",
    "print(\"Setting up the UDP...\")\n",
    "udp = udp_initial_condition(body_density, target_altitude, final_time, start_time, time_step, lower_bounds, upper_bounds, algorithm, radius_bounding_sphere)\n"
   ]
  },
  {
   "cell_type": "code",
   "execution_count": 47,
   "metadata": {},
   "outputs": [],
   "source": [
    "# Compute optimized trajectory\n",
    "trajectory = Trajectory(body_density, final_time, start_time, time_step, algorithm, radius_bounding_sphere)\n"
   ]
  },
  {
   "cell_type": "code",
   "execution_count": 44,
   "metadata": {},
   "outputs": [],
   "source": [
    "trajectory_info, _, _  = trajectory.integrate(x_cartesian)"
   ]
  },
  {
   "cell_type": "code",
   "execution_count": 45,
   "metadata": {},
   "outputs": [
    {
     "name": "stdout",
     "output_type": "stream",
     "text": [
      "(7, 94)\n"
     ]
    }
   ],
   "source": [
    "print(trajectory_info.shape)\n",
    "#print(trajectory_info[0:3,:])"
   ]
  },
  {
   "cell_type": "code",
   "execution_count": 48,
   "metadata": {},
   "outputs": [
    {
     "data": {
      "application/vnd.jupyter.widget-view+json": {
       "model_id": "e66ef460103c4345a9b3aefe21ac9ba6",
       "version_major": 2,
       "version_minor": 0
      },
      "text/plain": [
       "BokehModel(combine_events=True, render_bundle={'docs_json': {'bf484c40-4375-443a-9535-a2d2ac92e8db': {'defs': …"
      ]
     },
     "metadata": {},
     "output_type": "display_data"
    },
    {
     "data": {
      "text/plain": [
       "[<matplotlib.lines.Line2D at 0x7fa1e278de50>]"
      ]
     },
     "execution_count": 48,
     "metadata": {},
     "output_type": "execute_result"
    },
    {
     "data": {
      "image/png": "[encoded data removed]",
      "text/plain": [
       "<Figure size 640x480 with 1 Axes>"
      ]
     },
     "metadata": {},
     "output_type": "display_data"
    }
   ],
   "source": [
    "# Plot optimized trajectory\n",
    "trajectory.plot_trajectory(trajectory_info[0:3,:])\n",
    "\n",
    "plt.plot(trajectory_info[0,:],trajectory_info[1,:])"
   ]
  }
 ],
 "metadata": {
  "kernelspec": {
   "display_name": "67P_Swarm",
   "language": "python",
   "name": "python3"
  },
  "language_info": {
   "codemirror_mode": {
    "name": "ipython",
    "version": 3
   },
   "file_extension": ".py",
   "mimetype": "text/x-python",
   "name": "python",
   "nbconvert_exporter": "python",
   "pygments_lexer": "ipython3",
   "version": "3.8.15"
  },
  "vscode": {
   "interpreter": {
    "hash": "b9a187d1fd3efa5ced9dbeaa8c09dd6c19f147abf025ef1bac0fa81a1ca86d3e"
   }
  }
 },
 "nbformat": 4,
 "nbformat_minor": 2
}
