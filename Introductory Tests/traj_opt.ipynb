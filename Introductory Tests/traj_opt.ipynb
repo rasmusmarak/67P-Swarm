{
 "cells": [
  {
   "cell_type": "code",
   "execution_count": 5,
   "metadata": {},
   "outputs": [
    {
     "name": "stdout",
     "output_type": "stream",
     "text": [
      "The autoreload extension is already loaded. To reload it, use:\n",
      "  %reload_ext autoreload\n"
     ]
    }
   ],
   "source": [
    "%load_ext autoreload\n",
    "%autoreload 2"
   ]
  },
  {
   "cell_type": "code",
   "execution_count": 6,
   "metadata": {},
   "outputs": [],
   "source": [
    "# For optimization using pygmo\n",
    "import pygmo as pg\n",
    "import numpy as np\n",
    "from udp_initial_condition import udp_initial_condition\n",
    "\n",
    "# For Plotting\n",
    "import matplotlib.pyplot as plt\n",
    "\n",
    "# For cProfile evaluation\n",
    "import cProfile\n",
    "import pstats"
   ]
  },
  {
   "cell_type": "code",
   "execution_count": 1,
   "metadata": {},
   "outputs": [
    {
     "ename": "NameError",
     "evalue": "name 'np' is not defined",
     "output_type": "error",
     "traceback": [
      "\u001b[0;31m---------------------------------------------------------------------------\u001b[0m",
      "\u001b[0;31mNameError\u001b[0m                                 Traceback (most recent call last)",
      "Cell \u001b[0;32mIn[1], line 9\u001b[0m\n\u001b[1;32m      6\u001b[0m time_step \u001b[39m=\u001b[39m \u001b[39m600\u001b[39m              \u001b[39m# Time step size for trajectory propagation.\u001b[39;00m\n\u001b[1;32m      8\u001b[0m \u001b[39m# Bounds for initial variable domain: [r_x,r_y,r_z,v_x,v_y,v_z]\u001b[39;00m\n\u001b[0;32m----> 9\u001b[0m lower_bounds, upper_bounds \u001b[39m=\u001b[39m np\u001b[39m.\u001b[39marray([\u001b[39m-\u001b[39m\u001b[39m6000\u001b[39m,\u001b[39m-\u001b[39m\u001b[39m6000\u001b[39m,\u001b[39m-\u001b[39m\u001b[39m6000\u001b[39m,\u001b[39m0\u001b[39m,\u001b[39m0\u001b[39m,\u001b[39m0\u001b[39m]),np\u001b[39m.\u001b[39marray([\u001b[39m6000\u001b[39m,\u001b[39m6000\u001b[39m,\u001b[39m6000\u001b[39m,\u001b[39m2.5\u001b[39m,\u001b[39m2.5\u001b[39m,\u001b[39m2.5\u001b[39m])\n\u001b[1;32m     11\u001b[0m \u001b[39m# Optimization parameters\u001b[39;00m\n\u001b[1;32m     12\u001b[0m population_size \u001b[39m=\u001b[39m \u001b[39m10\u001b[39m \u001b[39m#10\u001b[39;00m\n",
      "\u001b[0;31mNameError\u001b[0m: name 'np' is not defined"
     ]
    }
   ],
   "source": [
    "# Setup hyperparameters:\n",
    "body_density = 533                  # https://sci.esa.int/web/rosetta/-/14615-comet-67p\n",
    "target_altitude = 5000**2           # Target altitude squared\n",
    "final_time = 20*3600.0              # Final time\n",
    "start_time = 0                      # Starting time\n",
    "time_step = 800              # Time step size for trajectory propagation.\n",
    "\n",
    "# Bounds for initial variable domain: [r_x,r_y,r_z,v_x,v_y,v_z]\n",
    "lower_bounds, upper_bounds = np.array([-6000,-6000,-6000,0,0,0]),np.array([6000,6000,6000,2.5,2.5,2.5])\n",
    "\n",
    "# Optimization parameters\n",
    "population_size = 10 #10\n",
    "number_of_generations = 32 #32"
   ]
  },
  {
   "cell_type": "code",
   "execution_count": 5,
   "metadata": {},
   "outputs": [
    {
     "name": "stdout",
     "output_type": "stream",
     "text": [
      "Physical dimension along x (UN-normalized):  5002.5703125 Km\n",
      "\n",
      "   Gen:        Fevals:          Best:             F:            CR:            dx:            df:\n",
      "      1             10    2.68538e+07        0.19635       0.211993        10202.6    1.20524e+10\n",
      "      2             20    2.68538e+07        0.19635       0.211993        7144.54    1.14885e+10\n",
      "      3             30    2.68538e+07        0.19635       0.211993        20314.1    1.09225e+10\n",
      "      4             40    2.24456e+07       0.489608       0.407986        4975.88    9.48585e+09\n",
      "      5             50    1.11203e+07       0.489608       0.407986        6106.45    9.46942e+09\n",
      "      6             60    1.11203e+07       0.489608       0.407986        6106.45    9.46942e+09\n",
      "      7             70    9.94289e+06        0.19635       0.211993         3389.8     5.5291e+09\n",
      "      8             80    9.94289e+06        0.19635       0.211993        12354.1    4.17547e+09\n"
     ]
    },
    {
     "ename": "KeyboardInterrupt",
     "evalue": "",
     "output_type": "error",
     "traceback": [
      "\u001b[0;31m---------------------------------------------------------------------------\u001b[0m",
      "\u001b[0;31mKeyboardInterrupt\u001b[0m                         Traceback (most recent call last)",
      "Cell \u001b[0;32mIn[5], line 60\u001b[0m\n\u001b[1;32m     56\u001b[0m     trajectory_info \u001b[39m=\u001b[39m run()\n\u001b[1;32m     59\u001b[0m \u001b[39mif\u001b[39;00m \u001b[39m__name__\u001b[39m \u001b[39m==\u001b[39m \u001b[39m\"\u001b[39m\u001b[39m__main__\u001b[39m\u001b[39m\"\u001b[39m:\n\u001b[0;32m---> 60\u001b[0m     cProfile\u001b[39m.\u001b[39;49mrun(\u001b[39m\"\u001b[39;49m\u001b[39mmain()\u001b[39;49m\u001b[39m\"\u001b[39;49m, \u001b[39m\"\u001b[39;49m\u001b[39moutput.dat\u001b[39;49m\u001b[39m\"\u001b[39;49m)\n\u001b[1;32m     62\u001b[0m     \u001b[39mwith\u001b[39;00m \u001b[39mopen\u001b[39m(\u001b[39m\"\u001b[39m\u001b[39moutput_time.txt\u001b[39m\u001b[39m\"\u001b[39m, \u001b[39m\"\u001b[39m\u001b[39mw\u001b[39m\u001b[39m\"\u001b[39m) \u001b[39mas\u001b[39;00m f:\n\u001b[1;32m     63\u001b[0m         p \u001b[39m=\u001b[39m pstats\u001b[39m.\u001b[39mStats(\u001b[39m\"\u001b[39m\u001b[39moutput.dat\u001b[39m\u001b[39m\"\u001b[39m, stream\u001b[39m=\u001b[39mf)\n",
      "File \u001b[0;32m~/opt/anaconda3/envs/67P_Swarm/lib/python3.8/cProfile.py:16\u001b[0m, in \u001b[0;36mrun\u001b[0;34m(statement, filename, sort)\u001b[0m\n\u001b[1;32m     15\u001b[0m \u001b[39mdef\u001b[39;00m \u001b[39mrun\u001b[39m(statement, filename\u001b[39m=\u001b[39m\u001b[39mNone\u001b[39;00m, sort\u001b[39m=\u001b[39m\u001b[39m-\u001b[39m\u001b[39m1\u001b[39m):\n\u001b[0;32m---> 16\u001b[0m     \u001b[39mreturn\u001b[39;00m _pyprofile\u001b[39m.\u001b[39;49m_Utils(Profile)\u001b[39m.\u001b[39;49mrun(statement, filename, sort)\n",
      "File \u001b[0;32m~/opt/anaconda3/envs/67P_Swarm/lib/python3.8/profile.py:53\u001b[0m, in \u001b[0;36m_Utils.run\u001b[0;34m(self, statement, filename, sort)\u001b[0m\n\u001b[1;32m     51\u001b[0m prof \u001b[39m=\u001b[39m \u001b[39mself\u001b[39m\u001b[39m.\u001b[39mprofiler()\n\u001b[1;32m     52\u001b[0m \u001b[39mtry\u001b[39;00m:\n\u001b[0;32m---> 53\u001b[0m     prof\u001b[39m.\u001b[39;49mrun(statement)\n\u001b[1;32m     54\u001b[0m \u001b[39mexcept\u001b[39;00m \u001b[39mSystemExit\u001b[39;00m:\n\u001b[1;32m     55\u001b[0m     \u001b[39mpass\u001b[39;00m\n",
      "File \u001b[0;32m~/opt/anaconda3/envs/67P_Swarm/lib/python3.8/cProfile.py:95\u001b[0m, in \u001b[0;36mProfile.run\u001b[0;34m(self, cmd)\u001b[0m\n\u001b[1;32m     93\u001b[0m \u001b[39mimport\u001b[39;00m \u001b[39m__main__\u001b[39;00m\n\u001b[1;32m     94\u001b[0m \u001b[39mdict\u001b[39m \u001b[39m=\u001b[39m __main__\u001b[39m.\u001b[39m\u001b[39m__dict__\u001b[39m\n\u001b[0;32m---> 95\u001b[0m \u001b[39mreturn\u001b[39;00m \u001b[39mself\u001b[39;49m\u001b[39m.\u001b[39;49mrunctx(cmd, \u001b[39mdict\u001b[39;49m, \u001b[39mdict\u001b[39;49m)\n",
      "File \u001b[0;32m~/opt/anaconda3/envs/67P_Swarm/lib/python3.8/cProfile.py:100\u001b[0m, in \u001b[0;36mProfile.runctx\u001b[0;34m(self, cmd, globals, locals)\u001b[0m\n\u001b[1;32m     98\u001b[0m \u001b[39mself\u001b[39m\u001b[39m.\u001b[39menable()\n\u001b[1;32m     99\u001b[0m \u001b[39mtry\u001b[39;00m:\n\u001b[0;32m--> 100\u001b[0m     exec(cmd, \u001b[39mglobals\u001b[39;49m, \u001b[39mlocals\u001b[39;49m)\n\u001b[1;32m    101\u001b[0m \u001b[39mfinally\u001b[39;00m:\n\u001b[1;32m    102\u001b[0m     \u001b[39mself\u001b[39m\u001b[39m.\u001b[39mdisable()\n",
      "File \u001b[0;32m<string>:1\u001b[0m\n",
      "Cell \u001b[0;32mIn[5], line 56\u001b[0m, in \u001b[0;36mmain\u001b[0;34m()\u001b[0m\n\u001b[1;32m     55\u001b[0m \u001b[39mdef\u001b[39;00m \u001b[39mmain\u001b[39m():\n\u001b[0;32m---> 56\u001b[0m     trajectory_info \u001b[39m=\u001b[39m run()\n",
      "Cell \u001b[0;32mIn[5], line 35\u001b[0m, in \u001b[0;36mrun\u001b[0;34m()\u001b[0m\n\u001b[1;32m     33\u001b[0m \u001b[39m# Run optimization\u001b[39;00m\n\u001b[1;32m     34\u001b[0m algo\u001b[39m.\u001b[39mset_verbosity(\u001b[39m1\u001b[39m)\n\u001b[0;32m---> 35\u001b[0m pop \u001b[39m=\u001b[39m algo\u001b[39m.\u001b[39;49mevolve(pop)\n\u001b[1;32m     37\u001b[0m \u001b[39m# Logs for output\u001b[39;00m\n\u001b[1;32m     38\u001b[0m \u001b[39mprint\u001b[39m(\u001b[39m\"\u001b[39m\u001b[39mChampion fitness value: \u001b[39m\u001b[39m\"\u001b[39m, pop\u001b[39m.\u001b[39mchampion_f) \n",
      "File \u001b[0;32m~/Master Thesis/My Repositories/67P-Swarm/Introductory Tests/udp_initial_condition.py:73\u001b[0m, in \u001b[0;36mudp_initial_condition.fitness\u001b[0;34m(self, x)\u001b[0m\n\u001b[1;32m     64\u001b[0m \u001b[39mdef\u001b[39;00m \u001b[39mfitness\u001b[39m(\u001b[39mself\u001b[39m, x: np\u001b[39m.\u001b[39mndarray) \u001b[39m-\u001b[39m\u001b[39m>\u001b[39m \u001b[39mfloat\u001b[39m:\n\u001b[1;32m     65\u001b[0m \u001b[39m    \u001b[39m\u001b[39m\"\"\" fitness evaluates the proximity of the satallite to target altitude.\u001b[39;00m\n\u001b[1;32m     66\u001b[0m \n\u001b[1;32m     67\u001b[0m \u001b[39m    Args:\u001b[39;00m\n\u001b[0;32m   (...)\u001b[0m\n\u001b[1;32m     71\u001b[0m \u001b[39m        fitness value (float): Difference between squared values of current and target altitude of satellite.\u001b[39;00m\n\u001b[1;32m     72\u001b[0m \u001b[39m    \"\"\"\u001b[39;00m\n\u001b[0;32m---> 73\u001b[0m     fitness_value, _ \u001b[39m=\u001b[39m \u001b[39mself\u001b[39;49m\u001b[39m.\u001b[39;49mcompute_trajectory(np\u001b[39m.\u001b[39;49marray(x))\n\u001b[1;32m     74\u001b[0m     \u001b[39mreturn\u001b[39;00m [fitness_value]\n",
      "File \u001b[0;32m~/Master Thesis/My Repositories/67P-Swarm/Introductory Tests/udp_initial_condition.py:101\u001b[0m, in \u001b[0;36mudp_initial_condition.compute_trajectory\u001b[0;34m(self, x)\u001b[0m\n\u001b[1;32m     98\u001b[0m fitness_value \u001b[39m=\u001b[39m \u001b[39m0\u001b[39m\n\u001b[1;32m    100\u001b[0m \u001b[39m# Integrate trajectory\u001b[39;00m\n\u001b[0;32m--> 101\u001b[0m trajectory_info \u001b[39m=\u001b[39m \u001b[39mself\u001b[39;49m\u001b[39m.\u001b[39;49mintegrator\u001b[39m.\u001b[39;49mrun_integration(x)\n\u001b[1;32m    103\u001b[0m \u001b[39m# Return fitness value for the computed trajectory\u001b[39;00m\n\u001b[1;32m    104\u001b[0m squared_altitudes \u001b[39m=\u001b[39m trajectory_info[\u001b[39m0\u001b[39m,:]\u001b[39m*\u001b[39m\u001b[39m*\u001b[39m\u001b[39m2\u001b[39m \u001b[39m+\u001b[39m trajectory_info[\u001b[39m1\u001b[39m,:]\u001b[39m*\u001b[39m\u001b[39m*\u001b[39m\u001b[39m2\u001b[39m \u001b[39m+\u001b[39m trajectory_info[\u001b[39m2\u001b[39m,:]\u001b[39m*\u001b[39m\u001b[39m*\u001b[39m\u001b[39m2\u001b[39m\n",
      "File \u001b[0;32m~/Master Thesis/My Repositories/67P-Swarm/Introductory Tests/Integrator.py:73\u001b[0m, in \u001b[0;36mIntegrator.run_integration\u001b[0;34m(self, x)\u001b[0m\n\u001b[1;32m     64\u001b[0m \u001b[39mdef\u001b[39;00m \u001b[39mrun_integration\u001b[39m(\u001b[39mself\u001b[39m, x: np\u001b[39m.\u001b[39mndarray) \u001b[39m-\u001b[39m\u001b[39m>\u001b[39m np\u001b[39m.\u001b[39mndarray:\n\u001b[1;32m     65\u001b[0m \u001b[39m    \u001b[39m\u001b[39m\"\"\" Calls the correct numerical integration algorithm.\u001b[39;00m\n\u001b[1;32m     66\u001b[0m \n\u001b[1;32m     67\u001b[0m \u001b[39m    Args:\u001b[39;00m\n\u001b[0;32m   (...)\u001b[0m\n\u001b[1;32m     71\u001b[0m \u001b[39m        NDArray containing information on position and velocity at every time step.\u001b[39;00m\n\u001b[1;32m     72\u001b[0m \u001b[39m    \"\"\"\u001b[39;00m\n\u001b[0;32m---> 73\u001b[0m     \u001b[39mreturn\u001b[39;00m \u001b[39mself\u001b[39;49m\u001b[39m.\u001b[39;49mintegrator(x)\n",
      "File \u001b[0;32m~/Master Thesis/My Repositories/67P-Swarm/Introductory Tests/Integrator.py:201\u001b[0m, in \u001b[0;36mIntegrator.new_rkf78\u001b[0;34m(self, x)\u001b[0m\n\u001b[1;32m    198\u001b[0m \u001b[39melif\u001b[39;00m h \u001b[39m>\u001b[39m h_max:\n\u001b[1;32m    199\u001b[0m     h \u001b[39m=\u001b[39m h_max\n\u001b[0;32m--> 201\u001b[0m k0 \u001b[39m=\u001b[39m \u001b[39mself\u001b[39;49m\u001b[39m.\u001b[39;49meq_of_motion\u001b[39m.\u001b[39;49mcompute_motion(x, t)\n\u001b[1;32m    202\u001b[0m k1 \u001b[39m=\u001b[39m \u001b[39mself\u001b[39m\u001b[39m.\u001b[39meq_of_motion\u001b[39m.\u001b[39mcompute_motion(x \u001b[39m+\u001b[39m h\u001b[39m*\u001b[39m(\u001b[39mself\u001b[39m\u001b[39m.\u001b[39ma[\u001b[39m1\u001b[39m,\u001b[39m0\u001b[39m]\u001b[39m*\u001b[39mk0), t)\n\u001b[1;32m    203\u001b[0m k2 \u001b[39m=\u001b[39m \u001b[39mself\u001b[39m\u001b[39m.\u001b[39meq_of_motion\u001b[39m.\u001b[39mcompute_motion(x \u001b[39m+\u001b[39m h\u001b[39m*\u001b[39m(\u001b[39mself\u001b[39m\u001b[39m.\u001b[39ma[\u001b[39m2\u001b[39m,\u001b[39m0\u001b[39m]\u001b[39m*\u001b[39mk0 \u001b[39m+\u001b[39m \u001b[39mself\u001b[39m\u001b[39m.\u001b[39ma[\u001b[39m2\u001b[39m,\u001b[39m1\u001b[39m]\u001b[39m*\u001b[39mk1),t)\n",
      "File \u001b[0;32m~/Master Thesis/My Repositories/67P-Swarm/Introductory Tests/Equations_of_motion.py:31\u001b[0m, in \u001b[0;36mEquations_of_motion.compute_motion\u001b[0;34m(self, x, t)\u001b[0m\n\u001b[1;32m     21\u001b[0m \u001b[39mdef\u001b[39;00m \u001b[39mcompute_motion\u001b[39m(\u001b[39mself\u001b[39m, x: np\u001b[39m.\u001b[39mndarray, t: \u001b[39mfloat\u001b[39m \u001b[39m=\u001b[39m \u001b[39mNone\u001b[39;00m) \u001b[39m-\u001b[39m\u001b[39m>\u001b[39m np\u001b[39m.\u001b[39mndarray:\n\u001b[1;32m     22\u001b[0m \u001b[39m    \u001b[39m\u001b[39m\"\"\" State update equation for RK-type algorithms. \u001b[39;00m\n\u001b[1;32m     23\u001b[0m \n\u001b[1;32m     24\u001b[0m \u001b[39m    Args:\u001b[39;00m\n\u001b[0;32m   (...)\u001b[0m\n\u001b[1;32m     29\u001b[0m \u001b[39m        State vector used for computing state at the following time step.\u001b[39;00m\n\u001b[1;32m     30\u001b[0m \u001b[39m    \"\"\"\u001b[39;00m\n\u001b[0;32m---> 31\u001b[0m     a \u001b[39m=\u001b[39m \u001b[39mself\u001b[39;49m\u001b[39m.\u001b[39;49mcompute_acceleration(x[\u001b[39m0\u001b[39;49m:\u001b[39m3\u001b[39;49m])\n\u001b[1;32m     32\u001b[0m     kx \u001b[39m=\u001b[39m x[\u001b[39m3\u001b[39m:\u001b[39m6\u001b[39m] \n\u001b[1;32m     33\u001b[0m     kv \u001b[39m=\u001b[39m a \n",
      "File \u001b[0;32m~/Master Thesis/My Repositories/67P-Swarm/Introductory Tests/Equations_of_motion.py:17\u001b[0m, in \u001b[0;36mEquations_of_motion.compute_acceleration\u001b[0;34m(self, x)\u001b[0m\n\u001b[1;32m     16\u001b[0m \u001b[39mdef\u001b[39;00m \u001b[39mcompute_acceleration\u001b[39m(\u001b[39mself\u001b[39m, x: np\u001b[39m.\u001b[39mndarray) \u001b[39m-\u001b[39m\u001b[39m>\u001b[39m np\u001b[39m.\u001b[39mndarray:\n\u001b[0;32m---> 17\u001b[0m     _, a, _ \u001b[39m=\u001b[39m model\u001b[39m.\u001b[39;49mevaluate(\u001b[39mself\u001b[39;49m\u001b[39m.\u001b[39;49mmesh_vertices, \u001b[39mself\u001b[39;49m\u001b[39m.\u001b[39;49mmesh_faces, \u001b[39mself\u001b[39;49m\u001b[39m.\u001b[39;49mbody_density, x)\n\u001b[1;32m     18\u001b[0m     \u001b[39mreturn\u001b[39;00m \u001b[39m-\u001b[39mnp\u001b[39m.\u001b[39marray(a)\n",
      "\u001b[0;31mKeyboardInterrupt\u001b[0m: "
     ]
    }
   ],
   "source": [
    "# Main script:\n",
    "\n",
    "def run():\n",
    "\n",
    "    # Setup hyperparameters:\n",
    "    body_density = 533                  # https://sci.esa.int/web/rosetta/-/14615-comet-67p\n",
    "    target_altitude = 5000**2           # Target altitude squared\n",
    "    final_time = 20*3600.0              # Final time\n",
    "    start_time = 0                      # Starting time\n",
    "    time_step = 800              # Time step size for trajectory propagation.\n",
    "\n",
    "    # Bounds for initial variable domain: [r_x,r_y,r_z,v_x,v_y,v_z]\n",
    "    lower_bounds, upper_bounds = np.array([-6000,-6000,-6000,0,0,0]),np.array([6000,6000,6000,2.5,2.5,2.5])\n",
    "\n",
    "    # Optimization parameters\n",
    "    population_size = 10\n",
    "    number_of_generations = 32\n",
    "\n",
    "    # Choose algorithm: \n",
    "    #  - \"RKF78\", \"Euler\" or \"DP8713M\"\n",
    "    algorithm = \"RKF78\"\n",
    "\n",
    "    # Setup problem class\n",
    "    udp = udp_initial_condition(body_density, target_altitude, final_time, start_time, time_step, lower_bounds, upper_bounds, algorithm)\n",
    "\n",
    "    # Setup user defined problem (udp)\n",
    "    prob = pg.problem(udp)\n",
    "\n",
    "    # Setup optimization algorithm\n",
    "    algo = pg.algorithm(pg.sade(gen = number_of_generations))\n",
    "    pop = pg.population(prob = prob, size = population_size)\n",
    "    \n",
    "    # Run optimization\n",
    "    algo.set_verbosity(1)\n",
    "    pop = algo.evolve(pop)\n",
    "\n",
    "    # Logs for output\n",
    "    print(\"Champion fitness value: \", pop.champion_f) \n",
    "    print(\"Champion chromosome: \", pop.champion_x) \n",
    "\n",
    "    # Retrieving champion chromosome\n",
    "    x = pop.champion_x\n",
    "\n",
    "    # Compute optimized trajectory\n",
    "    fitness_value, trajectory_info  = udp.compute_trajectory(x)\n",
    "\n",
    "    # Plot optimized trajectory\n",
    "    udp.plot_trajectory(trajectory_info[0:3,:])\n",
    "\n",
    "    plt.plot(trajectory_info[0,:],trajectory_info[1,:])\n",
    "\n",
    "    return trajectory_info\n",
    "\n",
    "\n",
    "def main():\n",
    "    trajectory_info = run()\n",
    "\n",
    "\n",
    "if __name__ == \"__main__\":\n",
    "    cProfile.run(\"main()\", \"output.dat\")\n",
    "\n",
    "    with open(\"output_time.txt\", \"w\") as f:\n",
    "        p = pstats.Stats(\"output.dat\", stream=f)\n",
    "        p.sort_stats(\"time\").print_stats()\n",
    "    \n",
    "    with open(\"output_calls.txt\", \"w\") as f:\n",
    "        p = pstats.Stats(\"output.dat\", stream=f)\n",
    "        p.sort_stats(\"calls\").print_stats()\n"
   ]
  },
  {
   "cell_type": "code",
   "execution_count": null,
   "metadata": {},
   "outputs": [],
   "source": []
  },
  {
   "cell_type": "code",
   "execution_count": null,
   "metadata": {},
   "outputs": [],
   "source": []
  },
  {
   "cell_type": "code",
   "execution_count": null,
   "metadata": {},
   "outputs": [],
   "source": [
    "\n",
    "# THIS IS FOR TESTING HEYOKA #"
   ]
  },
  {
   "cell_type": "code",
   "execution_count": null,
   "metadata": {},
   "outputs": [],
   "source": [
    "# For optimization using pygmo\n",
    "import pygmo as pg\n",
    "import numpy as np\n",
    "from udp_initial_condition import udp_initial_condition\n",
    "\n",
    "# For Plotting\n",
    "import matplotlib.pyplot as plt"
   ]
  },
  {
   "cell_type": "code",
   "execution_count": 17,
   "metadata": {},
   "outputs": [
    {
     "name": "stdout",
     "output_type": "stream",
     "text": [
      "Physical dimension along x (UN-normalized):  5002.5703125 Km\n"
     ]
    }
   ],
   "source": [
    "# Setup hyperparameters:\n",
    "body_density = 533                  # https://sci.esa.int/web/rosetta/-/14615-comet-67p\n",
    "target_altitude = 5000**2           # Target altitude squared\n",
    "final_time = 20*3600.0              # Final time\n",
    "start_time = 0                      # Starting time\n",
    "time_step = 800              # Time step size for trajectory propagation.\n",
    "\n",
    "# Bounds for initial variable domain: [r_x,r_y,r_z,v_x,v_y,v_z]\n",
    "lower_bounds, upper_bounds = np.array([-6000,-6000,-6000,0,0,0]),np.array([6000,6000,6000,2.5,2.5,2.5])\n",
    "\n",
    "# Optimization parameters\n",
    "population_size = 10\n",
    "number_of_generations = 32\n",
    "\n",
    "# Choose algorithm: \n",
    "#  - \"RKF78\", \"Euler\" or \"DP8713M\"\n",
    "algorithm = \"RKF78\"\n",
    "\n",
    "# Setup problem class\n",
    "udp = udp_initial_condition(body_density, target_altitude, final_time, start_time, time_step, lower_bounds, upper_bounds, algorithm)\n"
   ]
  },
  {
   "cell_type": "code",
   "execution_count": 18,
   "metadata": {},
   "outputs": [
    {
     "ename": "TypeError",
     "evalue": "evaluate(): incompatible function arguments. The following argument types are supported:\n    1. (vertices: List[List[float[3]]], faces: List[List[int[3]]], density: float, computation_point: List[float[3]]) -> Tuple[float, List[float[3]], List[float[6]]]\n    2. (vertices: List[List[float[3]]], faces: List[List[int[3]]], density: float, computation_points: List[List[float[3]]]) -> List[Tuple[float, List[float[3]], List[float[6]]]]\n    3. (input_files: List[str], density: float, computation_point: List[float[3]]) -> Tuple[float, List[float[3]], List[float[6]]]\n    4. (input_files: List[str], density: float, computation_points: List[List[float[3]]]) -> List[Tuple[float, List[float[3]], List[float[6]]]]\n\nInvoked with: array([[-1863.98704789,  2793.53966379,  -244.63722469],\n       [-1840.52626511,  2925.80906249,   -58.07903007],\n       [-1965.05644625,  2685.63458841,  -225.7048335 ],\n       ...,\n       [  852.47190008, -3211.33785321,   116.79048962],\n       [  858.58453008, -3273.9960988 ,   423.73789815],\n       [  442.32196682, -3505.02501017,    73.57453905]]), array([[  5,   2,   4],\n       [  3,   4,   2],\n       [  8,   9,   6],\n       ...,\n       [851, 858, 852],\n       [858, 857, 852],\n       [857, 848, 852]]), 533, [x, y, z]",
     "output_type": "error",
     "traceback": [
      "\u001b[0;31m---------------------------------------------------------------------------\u001b[0m",
      "\u001b[0;31mTypeError\u001b[0m                                 Traceback (most recent call last)",
      "Cell \u001b[0;32mIn[18], line 3\u001b[0m\n\u001b[1;32m      1\u001b[0m \u001b[39m# Compute optimized trajectory\u001b[39;00m\n\u001b[1;32m      2\u001b[0m x \u001b[39m=\u001b[39m [\u001b[39m-\u001b[39m\u001b[39m1.06437413e+03\u001b[39m, \u001b[39m4.33471220e+03\u001b[39m, \u001b[39m-\u001b[39m\u001b[39m3.29768568e+03\u001b[39m, \u001b[39m2.67521306e-01\u001b[39m, \u001b[39m3.42036498e-01\u001b[39m, \u001b[39m3.66164107e-01\u001b[39m]\n\u001b[0;32m----> 3\u001b[0m fitness_value, trajectory_info  \u001b[39m=\u001b[39m udp\u001b[39m.\u001b[39;49mcompute_trajectory(x)\n",
      "File \u001b[0;32m~/Master Thesis/My Repositories/67P-Swarm/Introductory Tests/udp_initial_condition.py:130\u001b[0m, in \u001b[0;36mudp_initial_condition.compute_trajectory\u001b[0;34m(self, initial_state)\u001b[0m\n\u001b[1;32m    124\u001b[0m x,y,z,vx,vy,vz \u001b[39m=\u001b[39m hk\u001b[39m.\u001b[39mmake_vars(\u001b[39m\"\u001b[39m\u001b[39mx\u001b[39m\u001b[39m\"\u001b[39m,\u001b[39m\"\u001b[39m\u001b[39my\u001b[39m\u001b[39m\"\u001b[39m,\u001b[39m\"\u001b[39m\u001b[39mz\u001b[39m\u001b[39m\"\u001b[39m,\u001b[39m\"\u001b[39m\u001b[39mvx\u001b[39m\u001b[39m\"\u001b[39m,\u001b[39m\"\u001b[39m\u001b[39mvy\u001b[39m\u001b[39m\"\u001b[39m,\u001b[39m\"\u001b[39m\u001b[39mvz\u001b[39m\u001b[39m\"\u001b[39m)\n\u001b[1;32m    127\u001b[0m \u001b[39m#results = lambda x,y,z: model.evaluate(self.mesh_vertices, self.mesh_faces, self.body_density, [x,y,z])\u001b[39;00m\n\u001b[1;32m    128\u001b[0m \u001b[39m#a = -np.array(reults(1))\u001b[39;00m\n\u001b[0;32m--> 130\u001b[0m a \u001b[39m=\u001b[39m model\u001b[39m.\u001b[39;49mevaluate(\u001b[39mself\u001b[39;49m\u001b[39m.\u001b[39;49mmesh_vertices, \u001b[39mself\u001b[39;49m\u001b[39m.\u001b[39;49mmesh_faces, \u001b[39mself\u001b[39;49m\u001b[39m.\u001b[39;49mbody_density, [x,y,z])\n\u001b[1;32m    131\u001b[0m \u001b[39m#a = -np.array(a)\u001b[39;00m\n\u001b[1;32m    132\u001b[0m \n\u001b[1;32m    133\u001b[0m \u001b[39m# EOM\u001b[39;00m\n\u001b[1;32m    134\u001b[0m dxdt \u001b[39m=\u001b[39m vx\n",
      "\u001b[0;31mTypeError\u001b[0m: evaluate(): incompatible function arguments. The following argument types are supported:\n    1. (vertices: List[List[float[3]]], faces: List[List[int[3]]], density: float, computation_point: List[float[3]]) -> Tuple[float, List[float[3]], List[float[6]]]\n    2. (vertices: List[List[float[3]]], faces: List[List[int[3]]], density: float, computation_points: List[List[float[3]]]) -> List[Tuple[float, List[float[3]], List[float[6]]]]\n    3. (input_files: List[str], density: float, computation_point: List[float[3]]) -> Tuple[float, List[float[3]], List[float[6]]]\n    4. (input_files: List[str], density: float, computation_points: List[List[float[3]]]) -> List[Tuple[float, List[float[3]], List[float[6]]]]\n\nInvoked with: array([[-1863.98704789,  2793.53966379,  -244.63722469],\n       [-1840.52626511,  2925.80906249,   -58.07903007],\n       [-1965.05644625,  2685.63458841,  -225.7048335 ],\n       ...,\n       [  852.47190008, -3211.33785321,   116.79048962],\n       [  858.58453008, -3273.9960988 ,   423.73789815],\n       [  442.32196682, -3505.02501017,    73.57453905]]), array([[  5,   2,   4],\n       [  3,   4,   2],\n       [  8,   9,   6],\n       ...,\n       [851, 858, 852],\n       [858, 857, 852],\n       [857, 848, 852]]), 533, [x, y, z]"
     ]
    }
   ],
   "source": [
    "# Compute optimized trajectory\n",
    "x = [-1.06437413e+03, 4.33471220e+03, -3.29768568e+03, 2.67521306e-01, 3.42036498e-01, 3.66164107e-01]\n",
    "fitness_value, trajectory_info  = udp.compute_trajectory(x)"
   ]
  },
  {
   "cell_type": "code",
   "execution_count": null,
   "metadata": {},
   "outputs": [],
   "source": [
    "# Plot optimized trajectory\n",
    "udp.plot_trajectory(trajectory_info[0:3,:])\n",
    "\n",
    "plt.plot(trajectory_info[0,:],trajectory_info[1,:])"
   ]
  }
 ],
 "metadata": {
  "kernelspec": {
   "display_name": "67P_Swarm",
   "language": "python",
   "name": "python3"
  },
  "language_info": {
   "codemirror_mode": {
    "name": "ipython",
    "version": 3
   },
   "file_extension": ".py",
   "mimetype": "text/x-python",
   "name": "python",
   "nbconvert_exporter": "python",
   "pygments_lexer": "ipython3",
   "version": "3.8.15"
  },
  "vscode": {
   "interpreter": {
    "hash": "b9a187d1fd3efa5ced9dbeaa8c09dd6c19f147abf025ef1bac0fa81a1ca86d3e"
   }
  }
 },
 "nbformat": 4,
 "nbformat_minor": 2
}
