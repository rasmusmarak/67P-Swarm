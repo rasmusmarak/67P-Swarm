{
 "cells": [
  {
   "cell_type": "code",
   "execution_count": 24,
   "metadata": {},
   "outputs": [
    {
     "name": "stdout",
     "output_type": "stream",
     "text": [
      "The autoreload extension is already loaded. To reload it, use:\n",
      "  %reload_ext autoreload\n"
     ]
    }
   ],
   "source": [
    "%load_ext autoreload\n",
    "%autoreload 2"
   ]
  },
  {
   "cell_type": "code",
   "execution_count": 2,
   "metadata": {},
   "outputs": [],
   "source": [
    "# For optimization using pygmo\n",
    "import pygmo as pg\n",
    "import numpy as np\n",
    "from udp_initial_condition import udp_initial_condition\n",
    "\n",
    "# For Plotting\n",
    "import matplotlib.pyplot as plt\n",
    "\n",
    "# For cProfile evaluation\n",
    "import cProfile\n",
    "import pstats"
   ]
  },
  {
   "cell_type": "code",
   "execution_count": 3,
   "metadata": {},
   "outputs": [],
   "source": [
    "def setup_parameters():\n",
    "    \"\"\"Set up of required hyperparameters for the optimization scheme. \n",
    "\n",
    "    Returns:\n",
    "        body_density (_float_): Body density of celestial body.\n",
    "        target_altitude (_float_): Squared value of the satellite's orbital target altitude.\n",
    "        final_time (_float_): Final time for the integration of trajectory.\n",
    "        start_time (_float_): Start time for the integration of trajectory.\n",
    "        time_step (_float_): Size of initial time step for integration of trajectory.\n",
    "        lower_bounds (_np.ndarray_): Lower boundary values for the initial state vector.\n",
    "        upper_bounds (_np.ndarray_): Lower boundary values for the initial state vector.\n",
    "        algorithm (_int_): Choice of algorithm (see file Integrator for references).\n",
    "        population_size (_int_): Number of chromosomes to compare at each generation.\n",
    "        number_of_generations (_int_): Number of generations for the genetic opimization.\n",
    "    \"\"\"\n",
    "    # Setup hyperparameters:\n",
    "    body_density = 533                  # https://sci.esa.int/web/rosetta/-/14615-comet-67p\n",
    "    target_altitude = 5000**2           # Target altitude squared\n",
    "    final_time = 20*3600.0              # Final time\n",
    "    start_time = 0                      # Starting time\n",
    "    time_step = 600                     # Time step size for trajectory propagation.\n",
    "\n",
    "    # Bounds for initial variable domain: [r_x,r_y,r_z,v_x,v_y,v_z]\n",
    "    lower_bounds, upper_bounds = np.array([-6000,-6000,-6000,0,0,0]),np.array([6000,6000,6000,2.5,2.5,2.5])\n",
    "\n",
    "    # Choose numerical integrator:\n",
    "    algorithm = 3\n",
    "\n",
    "    # Optimization parameters\n",
    "    population_size = 10 #10\n",
    "    number_of_generations = 32 #32\n",
    "\n",
    "    return body_density, target_altitude, final_time, start_time, time_step, lower_bounds, upper_bounds, algorithm, population_size, number_of_generations"
   ]
  },
  {
   "cell_type": "code",
   "execution_count": null,
   "metadata": {},
   "outputs": [],
   "source": [
    "# Main script:\n",
    "\n",
    "def run():\n",
    "    \"\"\"\n",
    "    Main function for optimizing the initial state for deterministic trajectories around a \n",
    "    small celstial body using a mesh.\n",
    "    \"\"\"\n",
    "\n",
    "    body_density, target_altitude, final_time, start_time, time_step, lower_bounds, upper_bounds, algorithm, population_size, number_of_generations = setup_parameters()\n",
    "\n",
    "    # Setup problem class\n",
    "    udp = udp_initial_condition(body_density, target_altitude, final_time, start_time, time_step, lower_bounds, upper_bounds, algorithm)\n",
    "\n",
    "    # Setup user defined problem (udp)\n",
    "    prob = pg.problem(udp)\n",
    "\n",
    "    # Setup optimization algorithm\n",
    "    algo = pg.algorithm(pg.sade(gen = number_of_generations))\n",
    "    pop = pg.population(prob = prob, size = population_size)\n",
    "    \n",
    "    # Run optimization\n",
    "    algo.set_verbosity(1)\n",
    "    pop = algo.evolve(pop)\n",
    "\n",
    "    # Logs for output\n",
    "    print(\"Champion fitness value: \", pop.champion_f) \n",
    "    print(\"Champion chromosome: \", pop.champion_x) \n",
    "\n",
    "    # Retrieving champion chromosome\n",
    "    x = pop.champion_x\n",
    "\n",
    "    # Compute optimized trajectory\n",
    "    _, trajectory_info  = udp.compute_trajectory(x)\n",
    "\n",
    "    # Plot optimized trajectory\n",
    "    udp.plot_trajectory(trajectory_info[0:3,:])\n",
    "\n",
    "    plt.plot(trajectory_info[0,:],trajectory_info[1,:])\n",
    "\n",
    "def main():\n",
    "    run()\n",
    "\n",
    "if __name__ == \"__main__\":\n",
    "    cProfile.run(\"main()\", \"output.dat\")\n",
    "\n",
    "    with open(\"output_time.txt\", \"w\") as f:\n",
    "        p = pstats.Stats(\"output.dat\", stream=f)\n",
    "        p.sort_stats(\"time\").print_stats()\n",
    "    \n",
    "    with open(\"output_calls.txt\", \"w\") as f:\n",
    "        p = pstats.Stats(\"output.dat\", stream=f)\n",
    "        p.sort_stats(\"calls\").print_stats()\n"
   ]
  }
 ],
 "metadata": {
  "kernelspec": {
   "display_name": "67P_Swarm",
   "language": "python",
   "name": "python3"
  },
  "language_info": {
   "codemirror_mode": {
    "name": "ipython",
    "version": 3
   },
   "file_extension": ".py",
   "mimetype": "text/x-python",
   "name": "python",
   "nbconvert_exporter": "python",
   "pygments_lexer": "ipython3",
   "version": "3.8.15 | packaged by conda-forge | (default, Jan 26 2023, 10:52:53) \n[Clang 14.0.6 ]"
  },
  "vscode": {
   "interpreter": {
    "hash": "b9a187d1fd3efa5ced9dbeaa8c09dd6c19f147abf025ef1bac0fa81a1ca86d3e"
   }
  }
 },
 "nbformat": 4,
 "nbformat_minor": 2
}
