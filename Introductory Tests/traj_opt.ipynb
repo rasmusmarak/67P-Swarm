{
 "cells": [
  {
   "cell_type": "code",
   "execution_count": 80,
   "metadata": {},
   "outputs": [
    {
     "name": "stdout",
     "output_type": "stream",
     "text": [
      "The autoreload extension is already loaded. To reload it, use:\n",
      "  %reload_ext autoreload\n"
     ]
    }
   ],
   "source": [
    "%load_ext autoreload\n",
    "%autoreload 2"
   ]
  },
  {
   "cell_type": "code",
   "execution_count": 81,
   "metadata": {},
   "outputs": [],
   "source": [
    "# For optimization using pygmo\n",
    "import pygmo as pg\n",
    "from udp_initial_condition import udp_initial_condition\n",
    "\n",
    "# For Plotting\n",
    "import matplotlib.pyplot as plt\n",
    "from math import pi\n",
    "\n",
    "# Setup problem hyperparameters:\n",
    "body_density = 533           # https://sci.esa.int/web/rosetta/-/14615-comet-67p\n",
    "body_mu = 665.666            # Gravitational parameter for 67P/C-G\n",
    "target_altitude = 5000**2    # Target altitude squared\n",
    "final_time = 20*3600.0       # Final time\n",
    "start_time = 0               # Starting time\n",
    "time_step = 600.0            # Time step size for trajectory propagation.\n",
    "\n",
    "# Defining the parameter space for the optimization\n",
    "#   (Parameters are defined in osculating orbital elements)\n",
    "a = [5000, 15000] # Semi-major axis\n",
    "e = [0, 1]        # Eccentricity [0, 1]\n",
    "o = [0, 2*pi]     # Right ascension of ascending node [0,2*pi]\n",
    "w = [0, 2*pi]     # Argument of periapsis [0, 2*pi]\n",
    "i = [0, pi]       # Inclination [0, pi] \n",
    "ea = [0, 2*pi]    # Eccentric anomaly [0, 2*pi]\n",
    "\n",
    "lower_bounds = [a[0], e[0], i[0], o[0], w[0], ea[0]]\n",
    "upper_bounds = [a[1], e[1], i[1], o[1], w[1], ea[1]]\n",
    "\n",
    "\n",
    "# Optimization algorithm hyperparameters\n",
    "population_size = 10 \n",
    "number_of_generations = 32 \n",
    "\n",
    "\n",
    "\n",
    "\n",
    "# Setup class\n",
    "udp = udp_initial_condition(body_density, body_mu, target_altitude, final_time, start_time, time_step, lower_bounds, upper_bounds)\n",
    "\n",
    "# Setup user defined problem (udp)\n",
    "prob = pg.problem(udp)\n",
    "\n",
    "# Setup optimization algorithm\n",
    "algo = pg.algorithm(pg.sade(gen = number_of_generations))\n",
    "pop = pg.population(prob = prob, size = population_size)\n",
    "\n",
    "# Run optimization\n",
    "algo.set_verbosity(1)\n",
    "pop = algo.evolve(pop)\n",
    "\n",
    "# Logs for output\n",
    "print(\"Champion fitness value: \", pop.champion_f) \n",
    "print(\"Champion chromosome: \", pop.champion_x) \n",
    "\n",
    "# Retrieving champion chromosome\n",
    "x = pop.champion_x\n",
    "\n",
    "# Compute optimized trajectory\n",
    "r_store, v_store, a_store = udp.compute_trajectory(x)\n",
    "\n",
    "# Plot optimized trajectory\n",
    "udp.plot_trajectory(r_store)\n",
    "plt.plot(r_store[1],r_store[2]) \n"
   ]
  }
 ],
 "metadata": {
  "kernelspec": {
   "display_name": "67P_Swarm",
   "language": "python",
   "name": "python3"
  },
  "language_info": {
   "codemirror_mode": {
    "name": "ipython",
    "version": 3
   },
   "file_extension": ".py",
   "mimetype": "text/x-python",
   "name": "python",
   "nbconvert_exporter": "python",
   "pygments_lexer": "ipython3",
   "version": "3.8.15"
  },
  "vscode": {
   "interpreter": {
    "hash": "b9a187d1fd3efa5ced9dbeaa8c09dd6c19f147abf025ef1bac0fa81a1ca86d3e"
   }
  }
 },
 "nbformat": 4,
 "nbformat_minor": 2
}
