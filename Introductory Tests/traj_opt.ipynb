{
 "cells": [
  {
   "cell_type": "code",
   "execution_count": 33,
   "metadata": {},
   "outputs": [
    {
     "name": "stdout",
     "output_type": "stream",
     "text": [
      "The autoreload extension is already loaded. To reload it, use:\n",
      "  %reload_ext autoreload\n"
     ]
    }
   ],
   "source": [
    "%load_ext autoreload\n",
    "%autoreload 2"
   ]
  },
  {
   "cell_type": "code",
   "execution_count": 34,
   "metadata": {},
   "outputs": [],
   "source": [
    "# For optimization using pygmo\n",
    "import pygmo as pg\n",
    "import numpy as np\n",
    "from udp_initial_condition import udp_initial_condition\n",
    "\n",
    "# For Plotting\n",
    "import matplotlib.pyplot as plt\n",
    "\n",
    "# For cProfile evaluation\n",
    "import cProfile\n",
    "import pstats"
   ]
  },
  {
   "cell_type": "code",
   "execution_count": 1,
   "metadata": {},
   "outputs": [
    {
     "ename": "NameError",
     "evalue": "name 'np' is not defined",
     "output_type": "error",
     "traceback": [
      "\u001b[0;31m---------------------------------------------------------------------------\u001b[0m",
      "\u001b[0;31mNameError\u001b[0m                                 Traceback (most recent call last)",
      "Cell \u001b[0;32mIn[1], line 9\u001b[0m\n\u001b[1;32m      6\u001b[0m time_step \u001b[39m=\u001b[39m \u001b[39m600\u001b[39m              \u001b[39m# Time step size for trajectory propagation.\u001b[39;00m\n\u001b[1;32m      8\u001b[0m \u001b[39m# Bounds for initial variable domain: [r_x,r_y,r_z,v_x,v_y,v_z]\u001b[39;00m\n\u001b[0;32m----> 9\u001b[0m lower_bounds, upper_bounds \u001b[39m=\u001b[39m np\u001b[39m.\u001b[39marray([\u001b[39m-\u001b[39m\u001b[39m6000\u001b[39m,\u001b[39m-\u001b[39m\u001b[39m6000\u001b[39m,\u001b[39m-\u001b[39m\u001b[39m6000\u001b[39m,\u001b[39m0\u001b[39m,\u001b[39m0\u001b[39m,\u001b[39m0\u001b[39m]),np\u001b[39m.\u001b[39marray([\u001b[39m6000\u001b[39m,\u001b[39m6000\u001b[39m,\u001b[39m6000\u001b[39m,\u001b[39m2.5\u001b[39m,\u001b[39m2.5\u001b[39m,\u001b[39m2.5\u001b[39m])\n\u001b[1;32m     11\u001b[0m \u001b[39m# Optimization parameters\u001b[39;00m\n\u001b[1;32m     12\u001b[0m population_size \u001b[39m=\u001b[39m \u001b[39m10\u001b[39m \u001b[39m#10\u001b[39;00m\n",
      "\u001b[0;31mNameError\u001b[0m: name 'np' is not defined"
     ]
    }
   ],
   "source": [
    "# Setup hyperparameters:\n",
    "body_density = 533                  # https://sci.esa.int/web/rosetta/-/14615-comet-67p\n",
    "target_altitude = 5000**2           # Target altitude squared\n",
    "final_time = 20*3600.0              # Final time\n",
    "start_time = 0                      # Starting time\n",
    "time_step = 600              # Time step size for trajectory propagation.\n",
    "\n",
    "# Bounds for initial variable domain: [r_x,r_y,r_z,v_x,v_y,v_z]\n",
    "lower_bounds, upper_bounds = np.array([-6000,-6000,-6000,0,0,0]),np.array([6000,6000,6000,2.5,2.5,2.5])\n",
    "\n",
    "# Optimization parameters\n",
    "population_size = 10 #10\n",
    "number_of_generations = 32 #32"
   ]
  },
  {
   "cell_type": "code",
   "execution_count": 5,
   "metadata": {},
   "outputs": [
    {
     "name": "stdout",
     "output_type": "stream",
     "text": [
      "Physical dimension along x (UN-normalized):  5002.5703125 Km\n",
      "\n",
      "   Gen:        Fevals:          Best:             F:            CR:            dx:            df:\n",
      "      1             10    2.68538e+07        0.19635       0.211993        10202.6    1.20524e+10\n",
      "      2             20    2.68538e+07        0.19635       0.211993        7144.54    1.14885e+10\n",
      "      3             30    2.68538e+07        0.19635       0.211993        20314.1    1.09225e+10\n",
      "      4             40    2.24456e+07       0.489608       0.407986        4975.88    9.48585e+09\n",
      "      5             50    1.11203e+07       0.489608       0.407986        6106.45    9.46942e+09\n",
      "      6             60    1.11203e+07       0.489608       0.407986        6106.45    9.46942e+09\n",
      "      7             70    9.94289e+06        0.19635       0.211993         3389.8     5.5291e+09\n",
      "      8             80    9.94289e+06        0.19635       0.211993        12354.1    4.17547e+09\n"
     ]
    },
    {
     "ename": "KeyboardInterrupt",
     "evalue": "",
     "output_type": "error",
     "traceback": [
      "\u001b[0;31m---------------------------------------------------------------------------\u001b[0m",
      "\u001b[0;31mKeyboardInterrupt\u001b[0m                         Traceback (most recent call last)",
      "Cell \u001b[0;32mIn[5], line 60\u001b[0m\n\u001b[1;32m     56\u001b[0m     trajectory_info \u001b[39m=\u001b[39m run()\n\u001b[1;32m     59\u001b[0m \u001b[39mif\u001b[39;00m \u001b[39m__name__\u001b[39m \u001b[39m==\u001b[39m \u001b[39m\"\u001b[39m\u001b[39m__main__\u001b[39m\u001b[39m\"\u001b[39m:\n\u001b[0;32m---> 60\u001b[0m     cProfile\u001b[39m.\u001b[39;49mrun(\u001b[39m\"\u001b[39;49m\u001b[39mmain()\u001b[39;49m\u001b[39m\"\u001b[39;49m, \u001b[39m\"\u001b[39;49m\u001b[39moutput.dat\u001b[39;49m\u001b[39m\"\u001b[39;49m)\n\u001b[1;32m     62\u001b[0m     \u001b[39mwith\u001b[39;00m \u001b[39mopen\u001b[39m(\u001b[39m\"\u001b[39m\u001b[39moutput_time.txt\u001b[39m\u001b[39m\"\u001b[39m, \u001b[39m\"\u001b[39m\u001b[39mw\u001b[39m\u001b[39m\"\u001b[39m) \u001b[39mas\u001b[39;00m f:\n\u001b[1;32m     63\u001b[0m         p \u001b[39m=\u001b[39m pstats\u001b[39m.\u001b[39mStats(\u001b[39m\"\u001b[39m\u001b[39moutput.dat\u001b[39m\u001b[39m\"\u001b[39m, stream\u001b[39m=\u001b[39mf)\n",
      "File \u001b[0;32m~/opt/anaconda3/envs/67P_Swarm/lib/python3.8/cProfile.py:16\u001b[0m, in \u001b[0;36mrun\u001b[0;34m(statement, filename, sort)\u001b[0m\n\u001b[1;32m     15\u001b[0m \u001b[39mdef\u001b[39;00m \u001b[39mrun\u001b[39m(statement, filename\u001b[39m=\u001b[39m\u001b[39mNone\u001b[39;00m, sort\u001b[39m=\u001b[39m\u001b[39m-\u001b[39m\u001b[39m1\u001b[39m):\n\u001b[0;32m---> 16\u001b[0m     \u001b[39mreturn\u001b[39;00m _pyprofile\u001b[39m.\u001b[39;49m_Utils(Profile)\u001b[39m.\u001b[39;49mrun(statement, filename, sort)\n",
      "File \u001b[0;32m~/opt/anaconda3/envs/67P_Swarm/lib/python3.8/profile.py:53\u001b[0m, in \u001b[0;36m_Utils.run\u001b[0;34m(self, statement, filename, sort)\u001b[0m\n\u001b[1;32m     51\u001b[0m prof \u001b[39m=\u001b[39m \u001b[39mself\u001b[39m\u001b[39m.\u001b[39mprofiler()\n\u001b[1;32m     52\u001b[0m \u001b[39mtry\u001b[39;00m:\n\u001b[0;32m---> 53\u001b[0m     prof\u001b[39m.\u001b[39;49mrun(statement)\n\u001b[1;32m     54\u001b[0m \u001b[39mexcept\u001b[39;00m \u001b[39mSystemExit\u001b[39;00m:\n\u001b[1;32m     55\u001b[0m     \u001b[39mpass\u001b[39;00m\n",
      "File \u001b[0;32m~/opt/anaconda3/envs/67P_Swarm/lib/python3.8/cProfile.py:95\u001b[0m, in \u001b[0;36mProfile.run\u001b[0;34m(self, cmd)\u001b[0m\n\u001b[1;32m     93\u001b[0m \u001b[39mimport\u001b[39;00m \u001b[39m__main__\u001b[39;00m\n\u001b[1;32m     94\u001b[0m \u001b[39mdict\u001b[39m \u001b[39m=\u001b[39m __main__\u001b[39m.\u001b[39m\u001b[39m__dict__\u001b[39m\n\u001b[0;32m---> 95\u001b[0m \u001b[39mreturn\u001b[39;00m \u001b[39mself\u001b[39;49m\u001b[39m.\u001b[39;49mrunctx(cmd, \u001b[39mdict\u001b[39;49m, \u001b[39mdict\u001b[39;49m)\n",
      "File \u001b[0;32m~/opt/anaconda3/envs/67P_Swarm/lib/python3.8/cProfile.py:100\u001b[0m, in \u001b[0;36mProfile.runctx\u001b[0;34m(self, cmd, globals, locals)\u001b[0m\n\u001b[1;32m     98\u001b[0m \u001b[39mself\u001b[39m\u001b[39m.\u001b[39menable()\n\u001b[1;32m     99\u001b[0m \u001b[39mtry\u001b[39;00m:\n\u001b[0;32m--> 100\u001b[0m     exec(cmd, \u001b[39mglobals\u001b[39;49m, \u001b[39mlocals\u001b[39;49m)\n\u001b[1;32m    101\u001b[0m \u001b[39mfinally\u001b[39;00m:\n\u001b[1;32m    102\u001b[0m     \u001b[39mself\u001b[39m\u001b[39m.\u001b[39mdisable()\n",
      "File \u001b[0;32m<string>:1\u001b[0m\n",
      "Cell \u001b[0;32mIn[5], line 56\u001b[0m, in \u001b[0;36mmain\u001b[0;34m()\u001b[0m\n\u001b[1;32m     55\u001b[0m \u001b[39mdef\u001b[39;00m \u001b[39mmain\u001b[39m():\n\u001b[0;32m---> 56\u001b[0m     trajectory_info \u001b[39m=\u001b[39m run()\n",
      "Cell \u001b[0;32mIn[5], line 35\u001b[0m, in \u001b[0;36mrun\u001b[0;34m()\u001b[0m\n\u001b[1;32m     33\u001b[0m \u001b[39m# Run optimization\u001b[39;00m\n\u001b[1;32m     34\u001b[0m algo\u001b[39m.\u001b[39mset_verbosity(\u001b[39m1\u001b[39m)\n\u001b[0;32m---> 35\u001b[0m pop \u001b[39m=\u001b[39m algo\u001b[39m.\u001b[39;49mevolve(pop)\n\u001b[1;32m     37\u001b[0m \u001b[39m# Logs for output\u001b[39;00m\n\u001b[1;32m     38\u001b[0m \u001b[39mprint\u001b[39m(\u001b[39m\"\u001b[39m\u001b[39mChampion fitness value: \u001b[39m\u001b[39m\"\u001b[39m, pop\u001b[39m.\u001b[39mchampion_f) \n",
      "File \u001b[0;32m~/Master Thesis/My Repositories/67P-Swarm/Introductory Tests/udp_initial_condition.py:73\u001b[0m, in \u001b[0;36mudp_initial_condition.fitness\u001b[0;34m(self, x)\u001b[0m\n\u001b[1;32m     64\u001b[0m \u001b[39mdef\u001b[39;00m \u001b[39mfitness\u001b[39m(\u001b[39mself\u001b[39m, x: np\u001b[39m.\u001b[39mndarray) \u001b[39m-\u001b[39m\u001b[39m>\u001b[39m \u001b[39mfloat\u001b[39m:\n\u001b[1;32m     65\u001b[0m \u001b[39m    \u001b[39m\u001b[39m\"\"\" fitness evaluates the proximity of the satallite to target altitude.\u001b[39;00m\n\u001b[1;32m     66\u001b[0m \n\u001b[1;32m     67\u001b[0m \u001b[39m    Args:\u001b[39;00m\n\u001b[0;32m   (...)\u001b[0m\n\u001b[1;32m     71\u001b[0m \u001b[39m        fitness value (float): Difference between squared values of current and target altitude of satellite.\u001b[39;00m\n\u001b[1;32m     72\u001b[0m \u001b[39m    \"\"\"\u001b[39;00m\n\u001b[0;32m---> 73\u001b[0m     fitness_value, _ \u001b[39m=\u001b[39m \u001b[39mself\u001b[39;49m\u001b[39m.\u001b[39;49mcompute_trajectory(np\u001b[39m.\u001b[39;49marray(x))\n\u001b[1;32m     74\u001b[0m     \u001b[39mreturn\u001b[39;00m [fitness_value]\n",
      "File \u001b[0;32m~/Master Thesis/My Repositories/67P-Swarm/Introductory Tests/udp_initial_condition.py:101\u001b[0m, in \u001b[0;36mudp_initial_condition.compute_trajectory\u001b[0;34m(self, x)\u001b[0m\n\u001b[1;32m     98\u001b[0m fitness_value \u001b[39m=\u001b[39m \u001b[39m0\u001b[39m\n\u001b[1;32m    100\u001b[0m \u001b[39m# Integrate trajectory\u001b[39;00m\n\u001b[0;32m--> 101\u001b[0m trajectory_info \u001b[39m=\u001b[39m \u001b[39mself\u001b[39;49m\u001b[39m.\u001b[39;49mintegrator\u001b[39m.\u001b[39;49mrun_integration(x)\n\u001b[1;32m    103\u001b[0m \u001b[39m# Return fitness value for the computed trajectory\u001b[39;00m\n\u001b[1;32m    104\u001b[0m squared_altitudes \u001b[39m=\u001b[39m trajectory_info[\u001b[39m0\u001b[39m,:]\u001b[39m*\u001b[39m\u001b[39m*\u001b[39m\u001b[39m2\u001b[39m \u001b[39m+\u001b[39m trajectory_info[\u001b[39m1\u001b[39m,:]\u001b[39m*\u001b[39m\u001b[39m*\u001b[39m\u001b[39m2\u001b[39m \u001b[39m+\u001b[39m trajectory_info[\u001b[39m2\u001b[39m,:]\u001b[39m*\u001b[39m\u001b[39m*\u001b[39m\u001b[39m2\u001b[39m\n",
      "File \u001b[0;32m~/Master Thesis/My Repositories/67P-Swarm/Introductory Tests/Integrator.py:73\u001b[0m, in \u001b[0;36mIntegrator.run_integration\u001b[0;34m(self, x)\u001b[0m\n\u001b[1;32m     64\u001b[0m \u001b[39mdef\u001b[39;00m \u001b[39mrun_integration\u001b[39m(\u001b[39mself\u001b[39m, x: np\u001b[39m.\u001b[39mndarray) \u001b[39m-\u001b[39m\u001b[39m>\u001b[39m np\u001b[39m.\u001b[39mndarray:\n\u001b[1;32m     65\u001b[0m \u001b[39m    \u001b[39m\u001b[39m\"\"\" Calls the correct numerical integration algorithm.\u001b[39;00m\n\u001b[1;32m     66\u001b[0m \n\u001b[1;32m     67\u001b[0m \u001b[39m    Args:\u001b[39;00m\n\u001b[0;32m   (...)\u001b[0m\n\u001b[1;32m     71\u001b[0m \u001b[39m        NDArray containing information on position and velocity at every time step.\u001b[39;00m\n\u001b[1;32m     72\u001b[0m \u001b[39m    \"\"\"\u001b[39;00m\n\u001b[0;32m---> 73\u001b[0m     \u001b[39mreturn\u001b[39;00m \u001b[39mself\u001b[39;49m\u001b[39m.\u001b[39;49mintegrator(x)\n",
      "File \u001b[0;32m~/Master Thesis/My Repositories/67P-Swarm/Introductory Tests/Integrator.py:201\u001b[0m, in \u001b[0;36mIntegrator.new_rkf78\u001b[0;34m(self, x)\u001b[0m\n\u001b[1;32m    198\u001b[0m \u001b[39melif\u001b[39;00m h \u001b[39m>\u001b[39m h_max:\n\u001b[1;32m    199\u001b[0m     h \u001b[39m=\u001b[39m h_max\n\u001b[0;32m--> 201\u001b[0m k0 \u001b[39m=\u001b[39m \u001b[39mself\u001b[39;49m\u001b[39m.\u001b[39;49meq_of_motion\u001b[39m.\u001b[39;49mcompute_motion(x, t)\n\u001b[1;32m    202\u001b[0m k1 \u001b[39m=\u001b[39m \u001b[39mself\u001b[39m\u001b[39m.\u001b[39meq_of_motion\u001b[39m.\u001b[39mcompute_motion(x \u001b[39m+\u001b[39m h\u001b[39m*\u001b[39m(\u001b[39mself\u001b[39m\u001b[39m.\u001b[39ma[\u001b[39m1\u001b[39m,\u001b[39m0\u001b[39m]\u001b[39m*\u001b[39mk0), t)\n\u001b[1;32m    203\u001b[0m k2 \u001b[39m=\u001b[39m \u001b[39mself\u001b[39m\u001b[39m.\u001b[39meq_of_motion\u001b[39m.\u001b[39mcompute_motion(x \u001b[39m+\u001b[39m h\u001b[39m*\u001b[39m(\u001b[39mself\u001b[39m\u001b[39m.\u001b[39ma[\u001b[39m2\u001b[39m,\u001b[39m0\u001b[39m]\u001b[39m*\u001b[39mk0 \u001b[39m+\u001b[39m \u001b[39mself\u001b[39m\u001b[39m.\u001b[39ma[\u001b[39m2\u001b[39m,\u001b[39m1\u001b[39m]\u001b[39m*\u001b[39mk1),t)\n",
      "File \u001b[0;32m~/Master Thesis/My Repositories/67P-Swarm/Introductory Tests/Equations_of_motion.py:31\u001b[0m, in \u001b[0;36mEquations_of_motion.compute_motion\u001b[0;34m(self, x, t)\u001b[0m\n\u001b[1;32m     21\u001b[0m \u001b[39mdef\u001b[39;00m \u001b[39mcompute_motion\u001b[39m(\u001b[39mself\u001b[39m, x: np\u001b[39m.\u001b[39mndarray, t: \u001b[39mfloat\u001b[39m \u001b[39m=\u001b[39m \u001b[39mNone\u001b[39;00m) \u001b[39m-\u001b[39m\u001b[39m>\u001b[39m np\u001b[39m.\u001b[39mndarray:\n\u001b[1;32m     22\u001b[0m \u001b[39m    \u001b[39m\u001b[39m\"\"\" State update equation for RK-type algorithms. \u001b[39;00m\n\u001b[1;32m     23\u001b[0m \n\u001b[1;32m     24\u001b[0m \u001b[39m    Args:\u001b[39;00m\n\u001b[0;32m   (...)\u001b[0m\n\u001b[1;32m     29\u001b[0m \u001b[39m        State vector used for computing state at the following time step.\u001b[39;00m\n\u001b[1;32m     30\u001b[0m \u001b[39m    \"\"\"\u001b[39;00m\n\u001b[0;32m---> 31\u001b[0m     a \u001b[39m=\u001b[39m \u001b[39mself\u001b[39;49m\u001b[39m.\u001b[39;49mcompute_acceleration(x[\u001b[39m0\u001b[39;49m:\u001b[39m3\u001b[39;49m])\n\u001b[1;32m     32\u001b[0m     kx \u001b[39m=\u001b[39m x[\u001b[39m3\u001b[39m:\u001b[39m6\u001b[39m] \n\u001b[1;32m     33\u001b[0m     kv \u001b[39m=\u001b[39m a \n",
      "File \u001b[0;32m~/Master Thesis/My Repositories/67P-Swarm/Introductory Tests/Equations_of_motion.py:17\u001b[0m, in \u001b[0;36mEquations_of_motion.compute_acceleration\u001b[0;34m(self, x)\u001b[0m\n\u001b[1;32m     16\u001b[0m \u001b[39mdef\u001b[39;00m \u001b[39mcompute_acceleration\u001b[39m(\u001b[39mself\u001b[39m, x: np\u001b[39m.\u001b[39mndarray) \u001b[39m-\u001b[39m\u001b[39m>\u001b[39m np\u001b[39m.\u001b[39mndarray:\n\u001b[0;32m---> 17\u001b[0m     _, a, _ \u001b[39m=\u001b[39m model\u001b[39m.\u001b[39;49mevaluate(\u001b[39mself\u001b[39;49m\u001b[39m.\u001b[39;49mmesh_vertices, \u001b[39mself\u001b[39;49m\u001b[39m.\u001b[39;49mmesh_faces, \u001b[39mself\u001b[39;49m\u001b[39m.\u001b[39;49mbody_density, x)\n\u001b[1;32m     18\u001b[0m     \u001b[39mreturn\u001b[39;00m \u001b[39m-\u001b[39mnp\u001b[39m.\u001b[39marray(a)\n",
      "\u001b[0;31mKeyboardInterrupt\u001b[0m: "
     ]
    }
   ],
   "source": [
    "# Main script:\n",
    "\n",
    "def run():\n",
    "\n",
    "    # Setup hyperparameters:\n",
    "    body_density = 533                  # https://sci.esa.int/web/rosetta/-/14615-comet-67p\n",
    "    target_altitude = 5000**2           # Target altitude squared\n",
    "    final_time = 20*3600.0              # Final time\n",
    "    start_time = 0                      # Starting time\n",
    "    time_step = 800              # Time step size for trajectory propagation.\n",
    "\n",
    "    # Bounds for initial variable domain: [r_x,r_y,r_z,v_x,v_y,v_z]\n",
    "    lower_bounds, upper_bounds = np.array([-6000,-6000,-6000,0,0,0]),np.array([6000,6000,6000,2.5,2.5,2.5])\n",
    "\n",
    "    # Optimization parameters\n",
    "    population_size = 10\n",
    "    number_of_generations = 32\n",
    "\n",
    "    # Choose algorithm: \n",
    "    #  - \"RKF78\", \"Euler\" or \"DP8713M\"\n",
    "    algorithm = \"RKF78\"\n",
    "\n",
    "    # Setup problem class\n",
    "    udp = udp_initial_condition(body_density, target_altitude, final_time, start_time, time_step, lower_bounds, upper_bounds, algorithm)\n",
    "\n",
    "    # Setup user defined problem (udp)\n",
    "    prob = pg.problem(udp)\n",
    "\n",
    "    # Setup optimization algorithm\n",
    "    algo = pg.algorithm(pg.sade(gen = number_of_generations))\n",
    "    pop = pg.population(prob = prob, size = population_size)\n",
    "    \n",
    "    # Run optimization\n",
    "    algo.set_verbosity(1)\n",
    "    pop = algo.evolve(pop)\n",
    "\n",
    "    # Logs for output\n",
    "    print(\"Champion fitness value: \", pop.champion_f) \n",
    "    print(\"Champion chromosome: \", pop.champion_x) \n",
    "\n",
    "    # Retrieving champion chromosome\n",
    "    x = pop.champion_x\n",
    "\n",
    "    # Compute optimized trajectory\n",
    "    fitness_value, trajectory_info  = udp.compute_trajectory(x)\n",
    "\n",
    "    # Plot optimized trajectory\n",
    "    udp.plot_trajectory(trajectory_info[0:3,:])\n",
    "\n",
    "    plt.plot(trajectory_info[0,:],trajectory_info[1,:])\n",
    "\n",
    "    return trajectory_info\n",
    "\n",
    "\n",
    "def main():\n",
    "    trajectory_info = run()\n",
    "\n",
    "\n",
    "if __name__ == \"__main__\":\n",
    "    cProfile.run(\"main()\", \"output.dat\")\n",
    "\n",
    "    with open(\"output_time.txt\", \"w\") as f:\n",
    "        p = pstats.Stats(\"output.dat\", stream=f)\n",
    "        p.sort_stats(\"time\").print_stats()\n",
    "    \n",
    "    with open(\"output_calls.txt\", \"w\") as f:\n",
    "        p = pstats.Stats(\"output.dat\", stream=f)\n",
    "        p.sort_stats(\"calls\").print_stats()\n"
   ]
  },
  {
   "cell_type": "code",
   "execution_count": null,
   "metadata": {},
   "outputs": [],
   "source": []
  },
  {
   "cell_type": "code",
   "execution_count": null,
   "metadata": {},
   "outputs": [],
   "source": []
  },
  {
   "cell_type": "code",
   "execution_count": null,
   "metadata": {},
   "outputs": [],
   "source": [
    "\n",
    "# THIS IS FOR TESTING HEYOKA #"
   ]
  },
  {
   "cell_type": "code",
   "execution_count": 29,
   "metadata": {},
   "outputs": [],
   "source": [
    "# For optimization using pygmo\n",
    "import pygmo as pg\n",
    "import numpy as np\n",
    "from udp_initial_condition import udp_initial_condition\n",
    "\n",
    "# For Plotting\n",
    "import matplotlib.pyplot as plt"
   ]
  },
  {
   "cell_type": "code",
   "execution_count": 53,
   "metadata": {},
   "outputs": [
    {
     "name": "stdout",
     "output_type": "stream",
     "text": [
      "Physical dimension along x (UN-normalized):  5002.5703125 Km\n"
     ]
    }
   ],
   "source": [
    "# Setup hyperparameters:\n",
    "body_density = 533                  # https://sci.esa.int/web/rosetta/-/14615-comet-67p\n",
    "target_altitude = 5000**2           # Target altitude squared\n",
    "final_time = 20*3600.0              # Final time\n",
    "start_time = 0                      # Starting time\n",
    "time_step = 800              # Time step size for trajectory propagation.\n",
    "\n",
    "# Bounds for initial variable domain: [r_x,r_y,r_z,v_x,v_y,v_z]\n",
    "lower_bounds, upper_bounds = np.array([-6000,-6000,-6000,0,0,0]),np.array([6000,6000,6000,2.5,2.5,2.5])\n",
    "\n",
    "# Optimization parameters\n",
    "population_size = 10\n",
    "number_of_generations = 32\n",
    "\n",
    "# Choose algorithm: \n",
    "#  - \"RKF78\", \"Euler\" or \"DP8713M\"\n",
    "algorithm = \"RKF78\"\n",
    "\n",
    "# Setup problem class\n",
    "udp = udp_initial_condition(body_density, target_altitude, final_time, start_time, time_step, lower_bounds, upper_bounds, algorithm)\n"
   ]
  },
  {
   "cell_type": "code",
   "execution_count": 54,
   "metadata": {},
   "outputs": [],
   "source": [
    "# Compute optimized trajectory\n",
    "x = [-1.06437413e+03, 4.33471220e+03, -3.29768568e+03, 2.67521306e-01, 3.42036498e-01, 3.66164107e-01]\n",
    "fitness_value, trajectory_info  = udp.compute_trajectory(x)"
   ]
  },
  {
   "cell_type": "code",
   "execution_count": 55,
   "metadata": {},
   "outputs": [
    {
     "name": "stdout",
     "output_type": "stream",
     "text": [
      "fitness:  5222502.066078605\n",
      "traj shape:  (6, 81)\n",
      "traj:  [[ 2.67521306e-01  2.75032539e-01  2.81267327e-01  2.84221218e-01\n",
      "   2.84344820e-01  2.81785198e-01  2.76591108e-01  2.68886909e-01\n",
      "   2.58159298e-01  2.45101355e-01  2.29616690e-01  2.12260599e-01\n",
      "   1.94006873e-01  1.74077778e-01  1.54527749e-01  1.34098423e-01\n",
      "   1.14049527e-01  9.30001291e-02  7.21881212e-02  5.11945293e-02\n",
      "   2.99072740e-02  8.66381567e-03 -1.32804322e-02 -3.54779666e-02\n",
      "  -5.76596013e-02 -8.10985802e-02 -1.04625049e-01 -1.28377344e-01\n",
      "  -1.49860247e-01 -1.68363608e-01 -1.85301936e-01 -2.00842527e-01\n",
      "  -2.14108785e-01 -2.25518090e-01 -2.35144381e-01 -2.42795137e-01\n",
      "  -2.48776272e-01 -2.53175355e-01 -2.55498264e-01 -2.55824952e-01\n",
      "  -2.53974333e-01 -2.49391449e-01 -2.41471097e-01 -2.31790995e-01\n",
      "  -2.20901669e-01 -2.08544227e-01 -1.95273480e-01 -1.80279754e-01\n",
      "  -1.64490089e-01 -1.47122464e-01 -1.27732926e-01 -1.07385127e-01\n",
      "  -8.57690273e-02 -6.29307729e-02 -3.88314401e-02 -1.36604355e-02\n",
      "   1.16616174e-02  3.68255511e-02  6.13841995e-02  8.50682559e-02\n",
      "   1.08324226e-01  1.31068605e-01  1.52660153e-01  1.73538873e-01\n",
      "   1.93106890e-01  2.10123655e-01  2.23566301e-01  2.31808239e-01\n",
      "   2.36786547e-01  2.38919539e-01  2.38639081e-01  2.36112998e-01\n",
      "   2.31371157e-01  2.24497244e-01  2.15078555e-01  2.03679688e-01\n",
      "   1.90211303e-01  1.75388430e-01  1.59805582e-01  1.43344995e-01\n",
      "   1.40051064e-01]\n",
      " [ 3.42036498e-01  3.05879296e-01  2.58980680e-01  2.12216549e-01\n",
      "   1.62875948e-01  1.13637526e-01  6.26103888e-02  1.08535602e-02\n",
      "  -4.41513291e-02 -9.83484699e-02 -1.52374026e-01 -2.04451346e-01\n",
      "  -2.52378104e-01 -2.98586349e-01 -3.38868695e-01 -3.76410811e-01\n",
      "  -4.09241309e-01 -4.39804585e-01 -4.66339136e-01 -4.89554522e-01\n",
      "  -5.09542545e-01 -5.25949828e-01 -5.39151394e-01 -5.48531521e-01\n",
      "  -5.53740619e-01 -5.54436708e-01 -5.49734892e-01 -5.38843911e-01\n",
      "  -5.22841776e-01 -5.03448802e-01 -4.80044871e-01 -4.52409400e-01\n",
      "  -4.22437046e-01 -3.89824944e-01 -3.54625735e-01 -3.18028447e-01\n",
      "  -2.78903749e-01 -2.35190296e-01 -1.90637110e-01 -1.42593444e-01\n",
      "  -9.26292245e-02 -3.63813676e-02  2.50734969e-02  8.01750440e-02\n",
      "   1.29869278e-01  1.77063360e-01  2.20516679e-01  2.63155326e-01\n",
      "   3.02429469e-01  3.40351234e-01  3.77347439e-01  4.11082504e-01\n",
      "   4.41998980e-01  4.69788682e-01  4.94180081e-01  5.14603872e-01\n",
      "   5.30126884e-01  5.40568708e-01  5.45799128e-01  5.45860366e-01\n",
      "   5.40613081e-01  5.29566333e-01  5.12465864e-01  4.87947949e-01\n",
      "   4.54837795e-01  4.13217348e-01  3.64177512e-01  3.17503191e-01\n",
      "   2.69695502e-01  2.22393411e-01  1.72905197e-01  1.23379714e-01\n",
      "   7.20388956e-02  1.97085550e-02 -3.58605657e-02 -9.08528069e-02\n",
      "  -1.45853917e-01 -1.98228561e-01 -2.46657588e-01 -2.92077234e-01\n",
      "  -3.00556096e-01]\n",
      " [ 3.66164107e-01  3.95970694e-01  4.28581125e-01  4.55399464e-01\n",
      "   4.78367747e-01  4.96394458e-01  5.10302629e-01  5.19685374e-01\n",
      "   5.24560575e-01  5.24202667e-01  5.18564496e-01  5.07791702e-01\n",
      "   4.92762041e-01  4.72965491e-01  4.50698553e-01  4.24827732e-01\n",
      "   3.97125848e-01  3.65783545e-01  3.32670664e-01  2.97240533e-01\n",
      "   2.59318238e-01  2.19530766e-01  1.76437737e-01  1.30816940e-01\n",
      "   8.32036091e-02  3.06878809e-02 -2.43340678e-02 -8.23204958e-02\n",
      "  -1.37035477e-01 -1.86115464e-01 -2.32942883e-01 -2.77944612e-01\n",
      "  -3.18469800e-01 -3.55599739e-01 -3.89514646e-01 -4.19401654e-01\n",
      "  -4.46368422e-01 -4.71342218e-01 -4.91930707e-01 -5.09231054e-01\n",
      "  -5.22288216e-01 -5.31341504e-01 -5.34635080e-01 -5.31744062e-01\n",
      "  -5.24255978e-01 -5.12614870e-01 -4.97680308e-01 -4.78680381e-01\n",
      "  -4.56868476e-01 -4.31239012e-01 -4.01023877e-01 -3.67837184e-01\n",
      "  -3.31187493e-01 -2.91099250e-01 -2.47402934e-01 -2.00290694e-01\n",
      "  -1.51354988e-01 -1.01094802e-01 -5.03062765e-02  5.37527995e-04\n",
      "   5.25688966e-02  1.05926384e-01  1.59460884e-01  2.14822517e-01\n",
      "   2.71380749e-01  3.26564529e-01  3.77752115e-01  4.16917161e-01\n",
      "   4.49700352e-01  4.76134819e-01  4.98272987e-01  5.15355571e-01\n",
      "   5.28104621e-01  5.36151341e-01  5.39348418e-01  5.37057113e-01\n",
      "   5.29133163e-01  5.15974795e-01  4.98408851e-01  4.76537525e-01\n",
      "   4.71803199e-01]]\n"
     ]
    }
   ],
   "source": [
    "print(\"fitness: \", fitness_value)\n",
    "print(\"traj shape: \", trajectory_info.shape)\n",
    "print(\"traj: \", trajectory_info[3:6,:])"
   ]
  },
  {
   "cell_type": "code",
   "execution_count": 56,
   "metadata": {},
   "outputs": [
    {
     "ename": "ValueError",
     "evalue": "An even number of points must be given to define each segment.",
     "output_type": "error",
     "traceback": [
      "\u001b[0;31m---------------------------------------------------------------------------\u001b[0m",
      "\u001b[0;31mValueError\u001b[0m                                Traceback (most recent call last)",
      "Cell \u001b[0;32mIn[56], line 2\u001b[0m\n\u001b[1;32m      1\u001b[0m \u001b[39m# Plot optimized trajectory\u001b[39;00m\n\u001b[0;32m----> 2\u001b[0m udp\u001b[39m.\u001b[39;49mplot_trajectory(trajectory_info[\u001b[39m0\u001b[39;49m:\u001b[39m3\u001b[39;49m,:])\n\u001b[1;32m      4\u001b[0m plt\u001b[39m.\u001b[39mplot(trajectory_info[\u001b[39m0\u001b[39m,:],trajectory_info[\u001b[39m1\u001b[39m,:])\n",
      "File \u001b[0;32m~/Master Thesis/My Repositories/67P-Swarm/Introductory Tests/udp_initial_condition.py:150\u001b[0m, in \u001b[0;36mudp_initial_condition.plot_trajectory\u001b[0;34m(self, r_store)\u001b[0m\n\u001b[1;32m    148\u001b[0m \u001b[39m# Plotting trajectory\u001b[39;00m\n\u001b[1;32m    149\u001b[0m trajectory_plot \u001b[39m=\u001b[39m r_store \u001b[39m#np.transpose(r_store)\u001b[39;00m\n\u001b[0;32m--> 150\u001b[0m mesh_plot\u001b[39m.\u001b[39;49madd_lines(trajectory_plot, color\u001b[39m=\u001b[39;49m\u001b[39m\"\u001b[39;49m\u001b[39mred\u001b[39;49m\u001b[39m\"\u001b[39;49m, width\u001b[39m=\u001b[39;49m\u001b[39m20\u001b[39;49m)\n\u001b[1;32m    152\u001b[0m trajectory_plot \u001b[39m=\u001b[39m pv\u001b[39m.\u001b[39mPolyData(np\u001b[39m.\u001b[39mtranspose(r_store[:,\u001b[39m-\u001b[39m\u001b[39m1\u001b[39m]))\n\u001b[1;32m    153\u001b[0m mesh_plot\u001b[39m.\u001b[39madd_mesh(trajectory_plot, color\u001b[39m=\u001b[39m[\u001b[39m1.0\u001b[39m, \u001b[39m1.0\u001b[39m, \u001b[39m1.0\u001b[39m], style\u001b[39m=\u001b[39m\u001b[39m'\u001b[39m\u001b[39msurface\u001b[39m\u001b[39m'\u001b[39m)\n",
      "File \u001b[0;32m~/opt/anaconda3/envs/67P_Swarm/lib/python3.8/site-packages/pyvista/plotting/plotting.py:4988\u001b[0m, in \u001b[0;36mBasePlotter.add_lines\u001b[0;34m(self, lines, color, width, label, name)\u001b[0m\n\u001b[1;32m   4985\u001b[0m \u001b[39mif\u001b[39;00m \u001b[39mnot\u001b[39;00m \u001b[39misinstance\u001b[39m(lines, np\u001b[39m.\u001b[39mndarray):\n\u001b[1;32m   4986\u001b[0m     \u001b[39mraise\u001b[39;00m \u001b[39mTypeError\u001b[39;00m(\u001b[39m'\u001b[39m\u001b[39mInput should be an array of point segments\u001b[39m\u001b[39m'\u001b[39m)\n\u001b[0;32m-> 4988\u001b[0m lines \u001b[39m=\u001b[39m pyvista\u001b[39m.\u001b[39;49mline_segments_from_points(lines)\n\u001b[1;32m   4990\u001b[0m actor \u001b[39m=\u001b[39m Actor(mapper\u001b[39m=\u001b[39mDataSetMapper(lines))\n\u001b[1;32m   4991\u001b[0m actor\u001b[39m.\u001b[39mprop\u001b[39m.\u001b[39mline_width \u001b[39m=\u001b[39m width\n",
      "File \u001b[0;32m~/opt/anaconda3/envs/67P_Swarm/lib/python3.8/site-packages/pyvista/utilities/helpers.py:582\u001b[0m, in \u001b[0;36mline_segments_from_points\u001b[0;34m(points)\u001b[0m\n\u001b[1;32m    552\u001b[0m \u001b[39m\u001b[39m\u001b[39m\"\"\"Generate non-connected line segments from points.\u001b[39;00m\n\u001b[1;32m    553\u001b[0m \n\u001b[1;32m    554\u001b[0m \u001b[39mAssumes points are ordered as line segments and an even number of\u001b[39;00m\n\u001b[0;32m   (...)\u001b[0m\n\u001b[1;32m    579\u001b[0m \n\u001b[1;32m    580\u001b[0m \u001b[39m\"\"\"\u001b[39;00m\n\u001b[1;32m    581\u001b[0m \u001b[39mif\u001b[39;00m \u001b[39mlen\u001b[39m(points) \u001b[39m%\u001b[39m \u001b[39m2\u001b[39m \u001b[39m!=\u001b[39m \u001b[39m0\u001b[39m:\n\u001b[0;32m--> 582\u001b[0m     \u001b[39mraise\u001b[39;00m \u001b[39mValueError\u001b[39;00m(\u001b[39m\"\u001b[39m\u001b[39mAn even number of points must be given to define each segment.\u001b[39m\u001b[39m\"\u001b[39m)\n\u001b[1;32m    583\u001b[0m \u001b[39m# Assuming ordered points, create array defining line order\u001b[39;00m\n\u001b[1;32m    584\u001b[0m n_points \u001b[39m=\u001b[39m \u001b[39mlen\u001b[39m(points)\n",
      "\u001b[0;31mValueError\u001b[0m: An even number of points must be given to define each segment."
     ]
    }
   ],
   "source": [
    "# Plot optimized trajectory\n",
    "udp.plot_trajectory(trajectory_info[0:3,:])\n",
    "\n",
    "plt.plot(trajectory_info[0,:],trajectory_info[1,:])"
   ]
  }
 ],
 "metadata": {
  "kernelspec": {
   "display_name": "67P_Swarm",
   "language": "python",
   "name": "python3"
  },
  "language_info": {
   "codemirror_mode": {
    "name": "ipython",
    "version": 3
   },
   "file_extension": ".py",
   "mimetype": "text/x-python",
   "name": "python",
   "nbconvert_exporter": "python",
   "pygments_lexer": "ipython3",
   "version": "3.8.15"
  },
  "vscode": {
   "interpreter": {
    "hash": "b9a187d1fd3efa5ced9dbeaa8c09dd6c19f147abf025ef1bac0fa81a1ca86d3e"
   }
  }
 },
 "nbformat": 4,
 "nbformat_minor": 2
}
