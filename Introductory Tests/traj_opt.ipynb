{
 "cells": [
  {
   "cell_type": "code",
   "execution_count": 4,
   "metadata": {},
   "outputs": [],
   "source": [
    "%load_ext autoreload\n",
    "%autoreload 2"
   ]
  },
  {
   "cell_type": "code",
   "execution_count": 11,
   "metadata": {},
   "outputs": [],
   "source": [
    "# Core packages\n",
    "import pygmo as pg\n",
    "import numpy as np\n",
    "from math import pi\n",
    "from dotmap import DotMap\n",
    "\n",
    "# For optimization using pygmo\n",
    "from udp_initial_condition import udp_initial_condition\n",
    "\n",
    "# For computing trajectory\n",
    "from Trajectory import Trajectory\n",
    "import pykep as pk\n",
    "\n",
    "# For Plotting\n",
    "import matplotlib.pyplot as plt\n",
    "\n",
    "# For cProfile evaluation\n",
    "import cProfile\n",
    "import pstats"
   ]
  },
  {
   "cell_type": "code",
   "execution_count": 20,
   "metadata": {},
   "outputs": [],
   "source": [
    "def setup_parameters():\n",
    "    \"\"\"Set up of required hyperparameters for the optimization scheme. \n",
    "\n",
    "    Returns:\n",
    "        body_args (dotmap.DotMap): Paramteers relating to the celestial body:\n",
    "            density (float): Body density of celestial body.\n",
    "            mu (float): Gravitational parameter for celestial body.\n",
    "            declination (float): Declination angle of spin axis.\n",
    "            right_ascension (float): Right ascension angle of spin axis.\n",
    "            spin_period (float): Rotational period around spin axis of the body.\n",
    "        target_altitude (float): Squared value of the satellite's orbital target altitude.\n",
    "        final_time (float): Final time for the integration of trajectory.\n",
    "        start_time (float): Start time for the integration of trajectory.\n",
    "        time_step (float): Size of initial time step for integration of trajectory.\n",
    "        lower_bounds (np.ndarray): Lower boundary values for the initial state vector.\n",
    "        upper_bounds (np.ndarray): Lower boundary values for the initial state vector.\n",
    "        algorithm (int): Choice of algorithm (see file Integrator for references).\n",
    "        radius_bounding_sphere (float): Radius of the bounding sphere representing risk zone for collisions with celestial body.\n",
    "        population_size (int): Number of chromosomes to compare at each generation.\n",
    "        number_of_generations (int): Number of generations for the genetic opimization.\n",
    "    \"\"\"\n",
    "    # Body parameters\n",
    "    body_args = DotMap()\n",
    "    body_args.density = 533                  # https://sci.esa.int/web/rosetta/-/14615-comet-67p\n",
    "    body_args.mu = 665.666                   # Gravitational parameter for 67P/C-G\n",
    "    body_args.declination = 64               # [degrees] https://sci.esa.int/web/rosetta/-/14615-comet-67p\n",
    "    body_args.right_ascension = 69           # [degrees] https://sci.esa.int/web/rosetta/-/14615-comet-67p\n",
    "    body_args.spin_period = 12.06*3600       # [seconds] https://sci.esa.int/web/rosetta/-/14615-comet-67p\n",
    "\n",
    "    # Setup hyperparameters:\n",
    "    target_altitude = 5000**2           # Target altitude squared\n",
    "    final_time = 20*3600.0              # Final time\n",
    "    start_time = 0                      # Starting time\n",
    "    time_step = 600                     # Time step size for trajectory propagation.\n",
    "    radius_bounding_sphere = 3500       # Radius of the bounding sphere representing risk zone for collisions with celestial body.\n",
    "\n",
    "    # Bounds for initial variable domain: [r_x,r_y,r_z,v_x,v_y,v_z]\n",
    "    #lower_bounds, upper_bounds = np.array([-6000,-6000,-6000,0,0,0]),np.array([6000,6000,6000,2.5,2.5,2.5])\n",
    "\n",
    "    # Defining the parameter space for the optimization\n",
    "    #   (Parameters are defined in osculating orbital elements)\n",
    "    a = [5000, 15000] # Semi-major axis\n",
    "    e = [0, 1]        # Eccentricity [0, 1]\n",
    "    o = [0, 2*pi]     # Right ascension of ascending node [0,2*pi]\n",
    "    w = [0, 2*pi]     # Argument of periapsis [0, 2*pi]\n",
    "    i = [0, pi]       # Inclination [0, pi] \n",
    "    ea = [0, 2*pi]    # Eccentric anomaly [0, 2*pi]\n",
    "\n",
    "    lower_bounds = np.array([a[0], e[0], i[0], o[0], w[0], ea[0]])\n",
    "    upper_bounds = np.array([a[1], e[1], i[1], o[1], w[1], ea[1]])\n",
    "\n",
    "    lower_bounds = np.array([a[0], e[0], i[0], o[0], w[0], ea[0]])\n",
    "    upper_bounds = np.array([a[1], e[1], i[1], o[1], w[1], ea[1]])\n",
    "    # Choose numerical integrator:\n",
    "    algorithm = 3\n",
    "\n",
    "    # Optimization parameters\n",
    "    population_size = 10 #10\n",
    "    number_of_generations = 32 #32\n",
    "\n",
    "    return body_args, target_altitude, final_time, start_time, time_step, lower_bounds, upper_bounds, algorithm, radius_bounding_sphere, population_size, number_of_generations"
   ]
  },
  {
   "cell_type": "code",
   "execution_count": 21,
   "metadata": {},
   "outputs": [
    {
     "name": "stdout",
     "output_type": "stream",
     "text": [
      "Retrieving user defined parameters...\n",
      "Setting up the UDP...\n",
      "Setting up the optimization algorithm...\n",
      "Initializing the optimization:\n",
      "\n",
      "   Gen:        Fevals:          Best:             F:            CR:            dx:            df:\n",
      "      1             10    5.12273e+07       0.220405       0.282181        2885.87          1e+30\n"
     ]
    },
    {
     "ename": "KeyboardInterrupt",
     "evalue": "",
     "output_type": "error",
     "traceback": [
      "\u001b[0;31m---------------------------------------------------------------------------\u001b[0m",
      "\u001b[0;31mKeyboardInterrupt\u001b[0m                         Traceback (most recent call last)",
      "Cell \u001b[0;32mIn[21], line 54\u001b[0m\n\u001b[1;32m     51\u001b[0m     run()\n\u001b[1;32m     53\u001b[0m \u001b[39mif\u001b[39;00m \u001b[39m__name__\u001b[39m \u001b[39m==\u001b[39m \u001b[39m\"\u001b[39m\u001b[39m__main__\u001b[39m\u001b[39m\"\u001b[39m:\n\u001b[0;32m---> 54\u001b[0m     cProfile\u001b[39m.\u001b[39;49mrun(\u001b[39m\"\u001b[39;49m\u001b[39mmain()\u001b[39;49m\u001b[39m\"\u001b[39;49m, \u001b[39m\"\u001b[39;49m\u001b[39moutput.dat\u001b[39;49m\u001b[39m\"\u001b[39;49m)\n\u001b[1;32m     56\u001b[0m     \u001b[39mwith\u001b[39;00m \u001b[39mopen\u001b[39m(\u001b[39m\"\u001b[39m\u001b[39moutput_time.txt\u001b[39m\u001b[39m\"\u001b[39m, \u001b[39m\"\u001b[39m\u001b[39mw\u001b[39m\u001b[39m\"\u001b[39m) \u001b[39mas\u001b[39;00m f:\n\u001b[1;32m     57\u001b[0m         p \u001b[39m=\u001b[39m pstats\u001b[39m.\u001b[39mStats(\u001b[39m\"\u001b[39m\u001b[39moutput.dat\u001b[39m\u001b[39m\"\u001b[39m, stream\u001b[39m=\u001b[39mf)\n",
      "File \u001b[0;32m~/opt/anaconda3/envs/67P_Swarm/lib/python3.8/cProfile.py:16\u001b[0m, in \u001b[0;36mrun\u001b[0;34m(statement, filename, sort)\u001b[0m\n\u001b[1;32m     15\u001b[0m \u001b[39mdef\u001b[39;00m \u001b[39mrun\u001b[39m(statement, filename\u001b[39m=\u001b[39m\u001b[39mNone\u001b[39;00m, sort\u001b[39m=\u001b[39m\u001b[39m-\u001b[39m\u001b[39m1\u001b[39m):\n\u001b[0;32m---> 16\u001b[0m     \u001b[39mreturn\u001b[39;00m _pyprofile\u001b[39m.\u001b[39;49m_Utils(Profile)\u001b[39m.\u001b[39;49mrun(statement, filename, sort)\n",
      "File \u001b[0;32m~/opt/anaconda3/envs/67P_Swarm/lib/python3.8/profile.py:53\u001b[0m, in \u001b[0;36m_Utils.run\u001b[0;34m(self, statement, filename, sort)\u001b[0m\n\u001b[1;32m     51\u001b[0m prof \u001b[39m=\u001b[39m \u001b[39mself\u001b[39m\u001b[39m.\u001b[39mprofiler()\n\u001b[1;32m     52\u001b[0m \u001b[39mtry\u001b[39;00m:\n\u001b[0;32m---> 53\u001b[0m     prof\u001b[39m.\u001b[39;49mrun(statement)\n\u001b[1;32m     54\u001b[0m \u001b[39mexcept\u001b[39;00m \u001b[39mSystemExit\u001b[39;00m:\n\u001b[1;32m     55\u001b[0m     \u001b[39mpass\u001b[39;00m\n",
      "File \u001b[0;32m~/opt/anaconda3/envs/67P_Swarm/lib/python3.8/cProfile.py:95\u001b[0m, in \u001b[0;36mProfile.run\u001b[0;34m(self, cmd)\u001b[0m\n\u001b[1;32m     93\u001b[0m \u001b[39mimport\u001b[39;00m \u001b[39m__main__\u001b[39;00m\n\u001b[1;32m     94\u001b[0m \u001b[39mdict\u001b[39m \u001b[39m=\u001b[39m __main__\u001b[39m.\u001b[39m\u001b[39m__dict__\u001b[39m\n\u001b[0;32m---> 95\u001b[0m \u001b[39mreturn\u001b[39;00m \u001b[39mself\u001b[39;49m\u001b[39m.\u001b[39;49mrunctx(cmd, \u001b[39mdict\u001b[39;49m, \u001b[39mdict\u001b[39;49m)\n",
      "File \u001b[0;32m~/opt/anaconda3/envs/67P_Swarm/lib/python3.8/cProfile.py:100\u001b[0m, in \u001b[0;36mProfile.runctx\u001b[0;34m(self, cmd, globals, locals)\u001b[0m\n\u001b[1;32m     98\u001b[0m \u001b[39mself\u001b[39m\u001b[39m.\u001b[39menable()\n\u001b[1;32m     99\u001b[0m \u001b[39mtry\u001b[39;00m:\n\u001b[0;32m--> 100\u001b[0m     exec(cmd, \u001b[39mglobals\u001b[39;49m, \u001b[39mlocals\u001b[39;49m)\n\u001b[1;32m    101\u001b[0m \u001b[39mfinally\u001b[39;00m:\n\u001b[1;32m    102\u001b[0m     \u001b[39mself\u001b[39m\u001b[39m.\u001b[39mdisable()\n",
      "File \u001b[0;32m<string>:1\u001b[0m\n",
      "Cell \u001b[0;32mIn[21], line 51\u001b[0m, in \u001b[0;36mmain\u001b[0;34m()\u001b[0m\n\u001b[1;32m     50\u001b[0m \u001b[39mdef\u001b[39;00m \u001b[39mmain\u001b[39m():\n\u001b[0;32m---> 51\u001b[0m     run()\n",
      "Cell \u001b[0;32mIn[21], line 25\u001b[0m, in \u001b[0;36mrun\u001b[0;34m()\u001b[0m\n\u001b[1;32m     23\u001b[0m \u001b[39mprint\u001b[39m(\u001b[39m\"\u001b[39m\u001b[39mInitializing the optimization:\u001b[39m\u001b[39m\"\u001b[39m)\n\u001b[1;32m     24\u001b[0m algo\u001b[39m.\u001b[39mset_verbosity(\u001b[39m1\u001b[39m)\n\u001b[0;32m---> 25\u001b[0m pop \u001b[39m=\u001b[39m algo\u001b[39m.\u001b[39;49mevolve(pop)\n\u001b[1;32m     27\u001b[0m \u001b[39m# Logs for output\u001b[39;00m\n\u001b[1;32m     28\u001b[0m \u001b[39mprint\u001b[39m(\u001b[39m\"\u001b[39m\u001b[39mChampion fitness value: \u001b[39m\u001b[39m\"\u001b[39m, pop\u001b[39m.\u001b[39mchampion_f) \n",
      "File \u001b[0;32m~/Master Thesis/My Repositories/67P-Swarm/Introductory Tests/udp_initial_condition.py:76\u001b[0m, in \u001b[0;36mudp_initial_condition.fitness\u001b[0;34m(self, x)\u001b[0m\n\u001b[1;32m     73\u001b[0m x_cartesian \u001b[39m=\u001b[39m np\u001b[39m.\u001b[39mconcatenate((r,v), axis\u001b[39m=\u001b[39m\u001b[39mNone\u001b[39;00m)\n\u001b[1;32m     75\u001b[0m \u001b[39m# Integrate trajectory\u001b[39;00m\n\u001b[0;32m---> 76\u001b[0m _, squared_altitudes, collision_detected \u001b[39m=\u001b[39m \u001b[39mself\u001b[39;49m\u001b[39m.\u001b[39;49mtrajectory\u001b[39m.\u001b[39;49mintegrate(x_cartesian) \u001b[39m#np.array(x_cartesian)\u001b[39;00m\n\u001b[1;32m     78\u001b[0m \u001b[39m# Define fitness penalty in the event of at least one collision along the trajectory\u001b[39;00m\n\u001b[1;32m     79\u001b[0m \u001b[39mif\u001b[39;00m collision_detected \u001b[39m==\u001b[39m \u001b[39mTrue\u001b[39;00m:\n",
      "File \u001b[0;32m~/Master Thesis/My Repositories/67P-Swarm/Introductory Tests/Trajectory.py:92\u001b[0m, in \u001b[0;36mintegrate\u001b[0;34m(self, x)\u001b[0m\n\u001b[1;32m     90\u001b[0m point_is_inside_risk_zone\u001b[39m.\u001b[39mis_terminal \u001b[39m=\u001b[39m \u001b[39mFalse\u001b[39;00m\n\u001b[1;32m     91\u001b[0m trajectory\u001b[39m.\u001b[39mintegrate(events\u001b[39m=\u001b[39mpoint_is_inside_risk_zone)\n\u001b[0;32m---> 92\u001b[0m trajectory_info \u001b[39m=\u001b[39m np\u001b[39m.\u001b[39mvstack((np\u001b[39m.\u001b[39mtranspose(trajectory\u001b[39m.\u001b[39my), trajectory\u001b[39m.\u001b[39mt))\n\u001b[1;32m     94\u001b[0m \u001b[39m# Compute average distance to target altitude\u001b[39;00m\n\u001b[1;32m     95\u001b[0m squared_altitudes \u001b[39m=\u001b[39m trajectory_info[\u001b[39m0\u001b[39m,:]\u001b[39m*\u001b[39m\u001b[39m*\u001b[39m\u001b[39m2\u001b[39m \u001b[39m+\u001b[39m trajectory_info[\u001b[39m1\u001b[39m,:]\u001b[39m*\u001b[39m\u001b[39m*\u001b[39m\u001b[39m2\u001b[39m \u001b[39m+\u001b[39m trajectory_info[\u001b[39m2\u001b[39m,:]\u001b[39m*\u001b[39m\u001b[39m*\u001b[39m\u001b[39m2\u001b[39m\n",
      "File \u001b[0;32m~/opt/anaconda3/envs/67P_Swarm/lib/python3.8/site-packages/desolver/differential_system.py:1038\u001b[0m, in \u001b[0;36mOdeSystem.integrate\u001b[0;34m(self, t, callback, eta, events)\u001b[0m\n\u001b[1;32m   1036\u001b[0m \u001b[39mexcept\u001b[39;00m \u001b[39mKeyboardInterrupt\u001b[39;00m \u001b[39mas\u001b[39;00m e:\n\u001b[1;32m   1037\u001b[0m     \u001b[39mself\u001b[39m\u001b[39m.\u001b[39m__int_status \u001b[39m=\u001b[39m e\n\u001b[0;32m-> 1038\u001b[0m     \u001b[39mraise\u001b[39;00m e\n\u001b[1;32m   1039\u001b[0m \u001b[39mexcept\u001b[39;00m \u001b[39mException\u001b[39;00m \u001b[39mas\u001b[39;00m e:\n\u001b[1;32m   1040\u001b[0m     new_e \u001b[39m=\u001b[39m etypes\u001b[39m.\u001b[39mFailedIntegration(\u001b[39m\"\u001b[39m\u001b[39mFailed to integrate system\u001b[39m\u001b[39m\"\u001b[39m)\n",
      "File \u001b[0;32m~/opt/anaconda3/envs/67P_Swarm/lib/python3.8/site-packages/desolver/differential_system.py:947\u001b[0m, in \u001b[0;36mOdeSystem.integrate\u001b[0;34m(self, t, callback, eta, events)\u001b[0m\n\u001b[1;32m    945\u001b[0m \u001b[39mif\u001b[39;00m D\u001b[39m.\u001b[39mabs(\u001b[39mself\u001b[39m\u001b[39m.\u001b[39mdt \u001b[39m+\u001b[39m \u001b[39mself\u001b[39m\u001b[39m.\u001b[39m__t[\u001b[39mself\u001b[39m\u001b[39m.\u001b[39mcounter]) \u001b[39m>\u001b[39m D\u001b[39m.\u001b[39mabs(tf):\n\u001b[1;32m    946\u001b[0m     \u001b[39mself\u001b[39m\u001b[39m.\u001b[39mdt \u001b[39m=\u001b[39m (tf \u001b[39m-\u001b[39m \u001b[39mself\u001b[39m\u001b[39m.\u001b[39m__t[\u001b[39mself\u001b[39m\u001b[39m.\u001b[39mcounter])\n\u001b[0;32m--> 947\u001b[0m \u001b[39mself\u001b[39m\u001b[39m.\u001b[39mdt, (dTime, dState) \u001b[39m=\u001b[39m \u001b[39mself\u001b[39;49m\u001b[39m.\u001b[39;49mintegrator(\u001b[39mself\u001b[39;49m\u001b[39m.\u001b[39;49mequ_rhs, \u001b[39mself\u001b[39;49m\u001b[39m.\u001b[39;49m__t[\u001b[39mself\u001b[39;49m\u001b[39m.\u001b[39;49mcounter], \u001b[39mself\u001b[39;49m\u001b[39m.\u001b[39;49m__y[\u001b[39mself\u001b[39;49m\u001b[39m.\u001b[39;49mcounter],\n\u001b[1;32m    948\u001b[0m                                            \u001b[39mself\u001b[39;49m\u001b[39m.\u001b[39;49mconstants, timestep\u001b[39m=\u001b[39;49m\u001b[39mself\u001b[39;49m\u001b[39m.\u001b[39;49mdt)\n\u001b[1;32m    950\u001b[0m \u001b[39mif\u001b[39;00m \u001b[39mself\u001b[39m\u001b[39m.\u001b[39mcounter \u001b[39m+\u001b[39m \u001b[39m1\u001b[39m \u001b[39m>\u001b[39m\u001b[39m=\u001b[39m \u001b[39mlen\u001b[39m(\u001b[39mself\u001b[39m\u001b[39m.\u001b[39m__y):\n\u001b[1;32m    951\u001b[0m     total_steps \u001b[39m=\u001b[39m \u001b[39mself\u001b[39m\u001b[39m.\u001b[39m__alloc_space_steps(tf \u001b[39m-\u001b[39m dTime) \u001b[39m+\u001b[39m \u001b[39m1\u001b[39m\n",
      "File \u001b[0;32m~/opt/anaconda3/envs/67P_Swarm/lib/python3.8/site-packages/desolver/integrators/integrator_types.py:158\u001b[0m, in \u001b[0;36mRungeKuttaIntegrator.__call__\u001b[0;34m(self, rhs, initial_time, initial_state, constants, timestep)\u001b[0m\n\u001b[1;32m    155\u001b[0m \u001b[39melif\u001b[39;00m \u001b[39mself\u001b[39m\u001b[39m.\u001b[39mfsal \u001b[39mand\u001b[39;00m \u001b[39mself\u001b[39m\u001b[39m.\u001b[39mfinal_rhs \u001b[39mis\u001b[39;00m \u001b[39mnot\u001b[39;00m \u001b[39mNone\u001b[39;00m:\n\u001b[1;32m    156\u001b[0m     \u001b[39mself\u001b[39m\u001b[39m.\u001b[39maux[\u001b[39m0\u001b[39m] \u001b[39m=\u001b[39m \u001b[39mself\u001b[39m\u001b[39m.\u001b[39mfinal_rhs\n\u001b[0;32m--> 158\u001b[0m \u001b[39mself\u001b[39;49m\u001b[39m.\u001b[39;49mstep(rhs\u001b[39m=\u001b[39;49mrhs, initial_time\u001b[39m=\u001b[39;49minitial_time, initial_state\u001b[39m=\u001b[39;49minitial_state,\n\u001b[1;32m    159\u001b[0m           constants\u001b[39m=\u001b[39;49mconstants, timestep\u001b[39m=\u001b[39;49mtimestep)\n\u001b[1;32m    161\u001b[0m \u001b[39mif\u001b[39;00m \u001b[39mself\u001b[39m\u001b[39m.\u001b[39madaptive \u001b[39mor\u001b[39;00m \u001b[39mself\u001b[39m\u001b[39m.\u001b[39mimplicit:\n\u001b[1;32m    162\u001b[0m     \u001b[39mself\u001b[39m\u001b[39m.\u001b[39msolver_dict[\u001b[39m'\u001b[39m\u001b[39mdiff\u001b[39m\u001b[39m'\u001b[39m] \u001b[39m=\u001b[39m timestep \u001b[39m*\u001b[39m \u001b[39mself\u001b[39m\u001b[39m.\u001b[39mget_error_estimate()\n",
      "File \u001b[0;32m~/opt/anaconda3/envs/67P_Swarm/lib/python3.8/site-packages/desolver/integrators/integrator_types.py:283\u001b[0m, in \u001b[0;36mRungeKuttaIntegrator.step\u001b[0;34m(self, rhs, initial_time, initial_state, constants, timestep)\u001b[0m\n\u001b[1;32m    279\u001b[0m current_state \u001b[39m=\u001b[39m initial_state \u001b[39m+\u001b[39m timestep \u001b[39m*\u001b[39m D\u001b[39m.\u001b[39msum(\u001b[39mself\u001b[39m\u001b[39m.\u001b[39mtableau[stage][\u001b[39mself\u001b[39m\u001b[39m.\u001b[39mtableau_idx_expand] \u001b[39m*\u001b[39m \u001b[39mself\u001b[39m\u001b[39m.\u001b[39maux,\n\u001b[1;32m    280\u001b[0m                                                  axis\u001b[39m=\u001b[39m\u001b[39m0\u001b[39m)\n\u001b[1;32m    282\u001b[0m \u001b[39mif\u001b[39;00m stage \u001b[39m>\u001b[39m \u001b[39m0\u001b[39m \u001b[39mor\u001b[39;00m \u001b[39mself\u001b[39m\u001b[39m.\u001b[39mfinal_rhs \u001b[39mis\u001b[39;00m \u001b[39mNone\u001b[39;00m:\n\u001b[0;32m--> 283\u001b[0m     \u001b[39mself\u001b[39m\u001b[39m.\u001b[39maux[stage] \u001b[39m=\u001b[39m rhs(initial_time \u001b[39m+\u001b[39;49m \u001b[39mself\u001b[39;49m\u001b[39m.\u001b[39;49mtableau[stage, \u001b[39m0\u001b[39;49m] \u001b[39m*\u001b[39;49m timestep, current_state, \u001b[39m*\u001b[39;49m\u001b[39m*\u001b[39;49mconstants)\n\u001b[1;32m    285\u001b[0m \u001b[39m# print(\"Current State:\", current_state)\u001b[39;00m\n\u001b[1;32m    286\u001b[0m \u001b[39m# print(\"Auxiliary states:\", self.aux)\u001b[39;00m\n\u001b[1;32m    288\u001b[0m \u001b[39mif\u001b[39;00m stage \u001b[39m==\u001b[39m \u001b[39m0\u001b[39m \u001b[39mand\u001b[39;00m D\u001b[39m.\u001b[39msum(\u001b[39mself\u001b[39m\u001b[39m.\u001b[39mtableau[\u001b[39m0\u001b[39m]) \u001b[39m==\u001b[39m \u001b[39m0.0\u001b[39m:\n",
      "File \u001b[0;32m~/opt/anaconda3/envs/67P_Swarm/lib/python3.8/site-packages/desolver/differential_system.py:305\u001b[0m, in \u001b[0;36mDiffRHS.__call__\u001b[0;34m(self, t, y, *args, **kwargs)\u001b[0m\n\u001b[1;32m    301\u001b[0m \u001b[39mdef\u001b[39;00m \u001b[39m__call__\u001b[39m(\u001b[39mself\u001b[39m, t, y, \u001b[39m*\u001b[39margs, \u001b[39m*\u001b[39m\u001b[39m*\u001b[39mkwargs):\n\u001b[1;32m    302\u001b[0m \u001b[39m    \u001b[39m\u001b[39m\"\"\"Calls the equation represented by self.rhs with the given arguments.\u001b[39;00m\n\u001b[1;32m    303\u001b[0m \u001b[39m    Tracks number of function evaluations.\u001b[39;00m\n\u001b[1;32m    304\u001b[0m \u001b[39m    \"\"\"\u001b[39;00m\n\u001b[0;32m--> 305\u001b[0m     called_val \u001b[39m=\u001b[39m \u001b[39mself\u001b[39;49m\u001b[39m.\u001b[39;49mrhs(t, y, \u001b[39m*\u001b[39;49margs, \u001b[39m*\u001b[39;49m\u001b[39m*\u001b[39;49mkwargs)\n\u001b[1;32m    306\u001b[0m     \u001b[39mself\u001b[39m\u001b[39m.\u001b[39mnfev \u001b[39m+\u001b[39m\u001b[39m=\u001b[39m \u001b[39m1\u001b[39m\n\u001b[1;32m    307\u001b[0m     \u001b[39mreturn\u001b[39;00m called_val\n",
      "File \u001b[0;32m~/Master Thesis/My Repositories/67P-Swarm/Introductory Tests/EquationsOfMotion.py:82\u001b[0m, in \u001b[0;36mEquationsOfMotion.compute_motion\u001b[0;34m(self, t, x, risk_zone_radius)\u001b[0m\n\u001b[1;32m     71\u001b[0m \u001b[39m\u001b[39m\u001b[39m\"\"\" State update equation for RK-type algorithms. \u001b[39;00m\n\u001b[1;32m     72\u001b[0m \n\u001b[1;32m     73\u001b[0m \u001b[39mArgs:\u001b[39;00m\n\u001b[0;32m   (...)\u001b[0m\n\u001b[1;32m     79\u001b[0m \u001b[39m    (np.ndarray): K vector used for computing state at the following time step.\u001b[39;00m\n\u001b[1;32m     80\u001b[0m \u001b[39m\"\"\"\u001b[39;00m\n\u001b[1;32m     81\u001b[0m rotated_position \u001b[39m=\u001b[39m \u001b[39mself\u001b[39m\u001b[39m.\u001b[39morbit_rotation(t, x[\u001b[39m0\u001b[39m:\u001b[39m3\u001b[39m])\n\u001b[0;32m---> 82\u001b[0m a \u001b[39m=\u001b[39m \u001b[39mself\u001b[39;49m\u001b[39m.\u001b[39;49mcompute_acceleration(rotated_position)\n\u001b[1;32m     84\u001b[0m kx \u001b[39m=\u001b[39m x[\u001b[39m3\u001b[39m:\u001b[39m6\u001b[39m]  \n\u001b[1;32m     85\u001b[0m kv \u001b[39m=\u001b[39m a\n",
      "File \u001b[0;32m~/Master Thesis/My Repositories/67P-Swarm/Introductory Tests/EquationsOfMotion.py:66\u001b[0m, in \u001b[0;36mEquationsOfMotion.compute_acceleration\u001b[0;34m(self, x)\u001b[0m\n\u001b[1;32m     55\u001b[0m \u001b[39mdef\u001b[39;00m \u001b[39mcompute_acceleration\u001b[39m(\u001b[39mself\u001b[39m, x: np\u001b[39m.\u001b[39mndarray) \u001b[39m-\u001b[39m\u001b[39m>\u001b[39m np\u001b[39m.\u001b[39mndarray:\n\u001b[1;32m     56\u001b[0m \u001b[39m    \u001b[39m\u001b[39m\"\"\" \u001b[39;00m\n\u001b[1;32m     57\u001b[0m \u001b[39m    Computes acceleration at a given point with respect to a mesh representing\u001b[39;00m\n\u001b[1;32m     58\u001b[0m \u001b[39m    a celestial body of interest. This is done using the Polyhedral-Gravity-Model package.\u001b[39;00m\n\u001b[0;32m   (...)\u001b[0m\n\u001b[1;32m     64\u001b[0m \u001b[39m        (np.ndarray): The acceleration at the given point x with respect to the mesh (celestial body).\u001b[39;00m\n\u001b[1;32m     65\u001b[0m \u001b[39m    \"\"\"\u001b[39;00m\n\u001b[0;32m---> 66\u001b[0m     _, a, _ \u001b[39m=\u001b[39m model\u001b[39m.\u001b[39;49mevaluate(\u001b[39mself\u001b[39;49m\u001b[39m.\u001b[39;49mmesh_vertices, \u001b[39mself\u001b[39;49m\u001b[39m.\u001b[39;49mmesh_faces, \u001b[39mself\u001b[39;49m\u001b[39m.\u001b[39;49mbody_density, x)\n\u001b[1;32m     67\u001b[0m     \u001b[39mreturn\u001b[39;00m \u001b[39m-\u001b[39mnp\u001b[39m.\u001b[39marray(a)\n",
      "\u001b[0;31mKeyboardInterrupt\u001b[0m: "
     ]
    }
   ],
   "source": [
    "# Main script:\n",
    "\n",
    "def run():\n",
    "    \"\"\"\n",
    "    Main function for optimizing the initial state for deterministic trajectories around a \n",
    "    small celestial body using a mesh.\n",
    "    \"\"\"\n",
    "    \n",
    "    print(\"Retrieving user defined parameters...\")\n",
    "    body_args, target_altitude, final_time, start_time, time_step, lower_bounds, upper_bounds, algorithm, radius_bounding_sphere, population_size, number_of_generations = setup_parameters()\n",
    "\n",
    "    # Setup User-Defined Problem (UDP)\n",
    "    print(\"Setting up the UDP...\")\n",
    "    udp = udp_initial_condition(body_args, target_altitude, final_time, start_time, time_step, lower_bounds, upper_bounds, algorithm, radius_bounding_sphere)\n",
    "    prob = pg.problem(udp)\n",
    "\n",
    "    # Setup optimization algorithm\n",
    "    print(\"Setting up the optimization algorithm...\")\n",
    "    algo = pg.algorithm(pg.sade(gen = number_of_generations))\n",
    "    pop = pg.population(prob = prob, size = population_size)\n",
    "    \n",
    "    # Run optimization\n",
    "    print(\"Initializing the optimization:\")\n",
    "    algo.set_verbosity(1)\n",
    "    pop = algo.evolve(pop)\n",
    "\n",
    "    # Logs for output\n",
    "    print(\"Champion fitness value: \", pop.champion_f) \n",
    "    print(\"Champion chromosome: \", pop.champion_x) \n",
    "\n",
    "    # Retrieving champion chromosome\n",
    "    x = pop.champion_x\n",
    "\n",
    "    # Convert osculating orbital elements to cartesian for integration\n",
    "    #body_mu = 665.666\n",
    "    r, v = pk.par2ic(E=x, mu=body_args.mu)\n",
    "    r = np.array(r)\n",
    "    v = np.array(v)\n",
    "    x_cartesian = np.concatenate((r,v), axis=None)\n",
    "\n",
    "    # Compute optimized trajectory\n",
    "    trajectory = Trajectory(body_args, final_time, start_time, time_step, algorithm, radius_bounding_sphere)\n",
    "    trajectory_info, _, _  = trajectory.integrate(x_cartesian)\n",
    "\n",
    "    # Plot optimized trajectory\n",
    "    trajectory.plot_trajectory(trajectory_info[0:3,:])\n",
    "\n",
    "    plt.plot(trajectory_info[0,:],trajectory_info[1,:])\n",
    "\n",
    "def main():\n",
    "    run()\n",
    "\n",
    "if __name__ == \"__main__\":\n",
    "    cProfile.run(\"main()\", \"output.dat\")\n",
    "\n",
    "    with open(\"output_time.txt\", \"w\") as f:\n",
    "        p = pstats.Stats(\"output.dat\", stream=f)\n",
    "        p.sort_stats(\"time\").print_stats()\n",
    "    \n",
    "    with open(\"output_calls.txt\", \"w\") as f:\n",
    "        p = pstats.Stats(\"output.dat\", stream=f)\n",
    "        p.sort_stats(\"calls\").print_stats()\n"
   ]
  },
  {
   "cell_type": "code",
   "execution_count": 8,
   "metadata": {},
   "outputs": [],
   "source": [
    "body_args = DotMap()\n",
    "\n",
    "body_args.density = 533                  # https://sci.esa.int/web/rosetta/-/14615-comet-67p\n",
    "body_args.mu = 665.666                   # Gravitational parameter for 67P/C-G\n",
    "body_args.declination = 64               # [degrees] https://sci.esa.int/web/rosetta/-/14615-comet-67p\n",
    "body_args.right_ascension = 69           # [degrees] https://sci.esa.int/web/rosetta/-/14615-comet-67p\n",
    "body_args.spin_period = 12.06*3600       # [seconds] https://sci.esa.int/web/rosetta/-/14615-comet-67p"
   ]
  },
  {
   "cell_type": "code",
   "execution_count": 22,
   "metadata": {},
   "outputs": [
    {
     "data": {
      "text/plain": [
       "dotmap.DotMap"
      ]
     },
     "execution_count": 22,
     "metadata": {},
     "output_type": "execute_result"
    }
   ],
   "source": [
    "type(body_args)\n"
   ]
  }
 ],
 "metadata": {
  "kernelspec": {
   "display_name": "67P_Swarm",
   "language": "python",
   "name": "python3"
  },
  "language_info": {
   "codemirror_mode": {
    "name": "ipython",
    "version": 3
   },
   "file_extension": ".py",
   "mimetype": "text/x-python",
   "name": "python",
   "nbconvert_exporter": "python",
   "pygments_lexer": "ipython3",
   "version": "3.8.15"
  },
  "vscode": {
   "interpreter": {
    "hash": "b9a187d1fd3efa5ced9dbeaa8c09dd6c19f147abf025ef1bac0fa81a1ca86d3e"
   }
  }
 },
 "nbformat": 4,
 "nbformat_minor": 2
}
