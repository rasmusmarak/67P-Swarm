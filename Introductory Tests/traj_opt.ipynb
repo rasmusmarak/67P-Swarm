{
 "cells": [
  {
   "cell_type": "code",
   "execution_count": 14,
   "metadata": {},
   "outputs": [
    {
     "name": "stdout",
     "output_type": "stream",
     "text": [
      "The autoreload extension is already loaded. To reload it, use:\n",
      "  %reload_ext autoreload\n"
     ]
    }
   ],
   "source": [
    "%load_ext autoreload\n",
    "%autoreload 2"
   ]
  },
  {
   "cell_type": "code",
   "execution_count": 15,
   "metadata": {},
   "outputs": [],
   "source": [
    "# Setup hyperparameters:\n",
    "density = 533           # https://sci.esa.int/web/rosetta/-/14615-comet-67p\n",
    "r_T = 5000**2           # Target altitude squared\n",
    "t_end = 20*3600.0       # Final time\n",
    "t_0 = 0                 # Starting time\n",
    "dt = 800.0              # Number of steps along orbit \n",
    "\n",
    "# Bounds for initial domain: [r_x,r_y,r_z,v_x,v_y,v_z]\n",
    "lb, ub = [-6000,-6000,-6000,0,0,0],[6000,6000,6000,2.5,2.5,2.5]\n",
    "\n",
    "# Optimization\n",
    "pop_size = 10\n",
    "num_gen = 32"
   ]
  },
  {
   "cell_type": "code",
   "execution_count": 16,
   "metadata": {},
   "outputs": [
    {
     "name": "stdout",
     "output_type": "stream",
     "text": [
      "Physical dimension along x (UN-normalized):  5002.5703125 Km\n",
      "Problem name: <class 'udp_class.udp_obj'>\n",
      "\tC++ class name: pybind11::object\n",
      "\n",
      "\tGlobal dimension:\t\t\t6\n",
      "\tInteger dimension:\t\t\t0\n",
      "\tFitness dimension:\t\t\t1\n",
      "\tNumber of objectives:\t\t\t1\n",
      "\tEquality constraints dimension:\t\t0\n",
      "\tInequality constraints dimension:\t0\n",
      "\tLower bounds: [-6000, -6000, -6000, 0, 0, ... ]\n",
      "\tUpper bounds: [6000, 6000, 6000, 2.5, 2.5, ... ]\n",
      "\tHas batch fitness evaluation: false\n",
      "\n",
      "\tHas gradient: false\n",
      "\tUser implemented gradient sparsity: false\n",
      "\tHas hessians: false\n",
      "\tUser implemented hessians sparsity: false\n",
      "\n",
      "\tFitness evaluations: 0\n",
      "\n",
      "\tThread safety: none\n",
      "\n"
     ]
    }
   ],
   "source": [
    "import math\n",
    "import pygmo as pg\n",
    "import matplotlib.pyplot as plt\n",
    "import udp_class\n",
    "\n",
    "# Setup class\n",
    "udp = udp_class.udp_obj(density, r_T, t_end, t_0, dt, lb, ub)\n",
    "\n",
    "# Define problem\n",
    "prob = pg.problem(udp)\n",
    "print(prob)\n",
    "\n",
    "# Setup algorithm\n",
    "algo = pg.algorithm(pg.sade(gen = num_gen))\n",
    "pop = pg.population(prob = prob, size = pop_size)"
   ]
  },
  {
   "cell_type": "code",
   "execution_count": 17,
   "metadata": {},
   "outputs": [
    {
     "name": "stdout",
     "output_type": "stream",
     "text": [
      "\n",
      "   Gen:        Fevals:          Best:             F:            CR:            dx:            df:\n",
      "      1             10    1.88564e+09         0.7954      0.0335655        8904.56    2.09538e+10\n",
      "      2             20    2.51843e+07         0.7954      0.0335655        10821.3    1.45035e+10\n",
      "      3             30    2.51843e+07         0.7954      0.0335655        10820.6    9.86983e+09\n",
      "      4             40    1.45795e+07         0.7954      0.0335655        9044.51    9.88044e+09\n",
      "      5             50    1.45795e+07         0.7954      0.0335655        9044.39    9.13523e+09\n",
      "      6             60    1.45795e+07         0.7954      0.0335655        7367.26    8.08274e+09\n",
      "      7             70    1.22189e+07       0.700871      0.0335655        9333.23     6.6225e+09\n",
      "      8             80    1.22189e+07       0.700871      0.0335655        9333.23     6.6225e+09\n",
      "      9             90    1.11709e+07       0.700871      0.0335655         9143.8    5.66155e+09\n",
      "     10            100    1.11709e+07       0.700871      0.0335655         9143.8    5.66155e+09\n",
      "     11            110    1.11709e+07       0.700871      0.0335655         9143.7    5.19948e+09\n",
      "     12            120    7.61604e+06       0.169039       0.501147        8570.52    5.20303e+09\n",
      "     13            130     6.7844e+06       0.164489       0.860157         8338.8    5.20387e+09\n",
      "     14            140     6.7844e+06       0.164489       0.860157         8338.8    5.20387e+09\n",
      "     15            150     6.7844e+06       0.164489       0.860157        8338.67     5.1181e+09\n",
      "     16            160     6.7844e+06       0.164489       0.860157        8338.67     5.1181e+09\n",
      "     17            170    6.27149e+06       0.164489       0.860157        8150.83    5.11861e+09\n",
      "     18            180    5.85401e+06       0.169039       0.501147        9353.83    2.74893e+09\n",
      "     19            190    5.85401e+06       0.169039       0.501147        9353.79    2.66412e+09\n",
      "     20            200    5.85401e+06       0.169039       0.501147        9353.79    2.66412e+09\n",
      "     21            210    5.85401e+06       0.169039       0.501147        9353.89    2.21691e+09\n",
      "     22            220    5.85401e+06       0.169039       0.501147        9353.89    2.21691e+09\n",
      "     23            230    3.79844e+06       0.373605       0.720967        10390.2    2.19893e+09\n",
      "     24            240    3.79844e+06       0.373605       0.720967        10390.2    2.19893e+09\n",
      "     25            250    3.79844e+06       0.373605       0.720967        10390.2    2.19893e+09\n",
      "     26            260    2.55615e+06       0.934861       0.860157        8397.81    2.20017e+09\n",
      "     27            270    1.93074e+06        0.39092       0.983465        8802.91     2.2008e+09\n",
      "     28            280    1.93074e+06        0.39092       0.983465        8801.59     1.8679e+07\n",
      "     29            290    1.93074e+06        0.39092       0.983465        3474.56    1.59977e+07\n",
      "     30            300    1.93074e+06        0.39092       0.983465        3474.56    1.59977e+07\n",
      "     31            310    1.93074e+06        0.39092       0.983465        3474.56    1.59977e+07\n",
      "     32            320    1.93074e+06        0.39092       0.983465        3636.72     8.0612e+06\n",
      "Exit condition -- generations = 32\n"
     ]
    }
   ],
   "source": [
    "# Run optimization\n",
    "algo.set_verbosity(1)\n",
    "pop = algo.evolve(pop)\n"
   ]
  },
  {
   "cell_type": "code",
   "execution_count": 18,
   "metadata": {
    "scrolled": false
   },
   "outputs": [
    {
     "name": "stdout",
     "output_type": "stream",
     "text": [
      "Champion fitness value:  [1930736.01521631]\n",
      "Champion chromosome:  [ 1.74712997e+03 -1.73935571e+03 -3.97861418e+03  5.63909361e-01\n",
      "  1.93071906e-01  1.40130503e-01]\n"
     ]
    },
    {
     "data": {
      "application/vnd.jupyter.widget-view+json": {
       "model_id": "3c54bed7eb124a439d5413799c6d56ab",
       "version_major": 2,
       "version_minor": 0
      },
      "text/plain": [
       "BokehModel(combine_events=True, render_bundle={'docs_json': {'10f31cdc-b885-476f-ad49-763ecc47f972': {'defs': …"
      ]
     },
     "metadata": {},
     "output_type": "display_data"
    },
    {
     "data": {
      "text/html": [
       "<div style=\"display: none\"></div>"
      ]
     },
     "metadata": {},
     "output_type": "display_data"
    }
   ],
   "source": [
    "# Logs for output\n",
    "print(\"Champion fitness value: \", pop.champion_f) \n",
    "print(\"Champion chromosome: \", pop.champion_x) \n",
    "\n",
    "# Retrieving champion chromosome\n",
    "x = pop.champion_x\n",
    "\n",
    "# Compute optimized trajectory\n",
    "fit_val, r_store, v_store, a_store = udp.compute_trajectory(x)\n",
    "\n",
    "# Plot optimized trajectory\n",
    "udp.plot_trajectory(r_store)"
   ]
  },
  {
   "cell_type": "code",
   "execution_count": 20,
   "metadata": {},
   "outputs": [
    {
     "data": {
      "text/plain": [
       "[<matplotlib.lines.Line2D at 0x7fae2c73acd0>]"
      ]
     },
     "execution_count": 20,
     "metadata": {},
     "output_type": "execute_result"
    },
    {
     "data": {
      "image/png": "[encoded data removed]",
      "text/plain": [
       "<Figure size 640x480 with 1 Axes>"
      ]
     },
     "metadata": {},
     "output_type": "display_data"
    }
   ],
   "source": [
    "plt.plot(r_store[1],r_store[2])"
   ]
  }
 ],
 "metadata": {
  "kernelspec": {
   "display_name": "67P_Swarm",
   "language": "python",
   "name": "python3"
  },
  "language_info": {
   "codemirror_mode": {
    "name": "ipython",
    "version": 3
   },
   "file_extension": ".py",
   "mimetype": "text/x-python",
   "name": "python",
   "nbconvert_exporter": "python",
   "pygments_lexer": "ipython3",
   "version": "3.8.15"
  },
  "vscode": {
   "interpreter": {
    "hash": "b9a187d1fd3efa5ced9dbeaa8c09dd6c19f147abf025ef1bac0fa81a1ca86d3e"
   }
  }
 },
 "nbformat": 4,
 "nbformat_minor": 2
}
