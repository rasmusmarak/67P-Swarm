{
 "cells": [
  {
   "cell_type": "code",
   "execution_count": 34,
   "metadata": {},
   "outputs": [
    {
     "name": "stdout",
     "output_type": "stream",
     "text": [
      "The autoreload extension is already loaded. To reload it, use:\n",
      "  %reload_ext autoreload\n"
     ]
    }
   ],
   "source": [
    "%load_ext autoreload\n",
    "%autoreload 2"
   ]
  },
  {
   "cell_type": "code",
   "execution_count": 40,
   "metadata": {},
   "outputs": [],
   "source": [
    "# Setup hyperparameters:\n",
    "density = 533           # https://sci.esa.int/web/rosetta/-/14615-comet-67p\n",
    "r_T = 5000              # Target altitude\n",
    "t_end = 20*3600.0       # Final time\n",
    "t_0 = 0                 # Starting time\n",
    "dt = 800.0             # Number of steps along orbit \n",
    "\n",
    "# Bounds for initial domain: [r_x,r_y,r_z,v_x,v_y,v_z]\n",
    "lb, ub = [-6000,-6000,-6000,0,0,0],[6000,6000,6000,2.5,2.5,2.5]\n",
    "\n",
    "# Optimization\n",
    "pop_size = 10\n",
    "num_gen = 32"
   ]
  },
  {
   "cell_type": "code",
   "execution_count": 44,
   "metadata": {},
   "outputs": [
    {
     "name": "stdout",
     "output_type": "stream",
     "text": [
      "Physical dimension along x (UN-normalized):  5002.5703125 Km\n",
      "Problem name: <class 'udp_basic.udp_obj'>\n",
      "\tC++ class name: pybind11::object\n",
      "\n",
      "\tGlobal dimension:\t\t\t6\n",
      "\tInteger dimension:\t\t\t0\n",
      "\tFitness dimension:\t\t\t1\n",
      "\tNumber of objectives:\t\t\t1\n",
      "\tEquality constraints dimension:\t\t0\n",
      "\tInequality constraints dimension:\t0\n",
      "\tLower bounds: [-6000, -6000, -6000, 0, 0, ... ]\n",
      "\tUpper bounds: [6000, 6000, 6000, 2.5, 2.5, ... ]\n",
      "\tHas batch fitness evaluation: false\n",
      "\n",
      "\tHas gradient: false\n",
      "\tUser implemented gradient sparsity: false\n",
      "\tHas hessians: false\n",
      "\tUser implemented hessians sparsity: false\n",
      "\n",
      "\tFitness evaluations: 0\n",
      "\n",
      "\tThread safety: none\n",
      "\n"
     ]
    }
   ],
   "source": [
    "import math\n",
    "import pygmo as pg\n",
    "import matplotlib.pyplot as plt\n",
    "import udp_basic\n",
    "\n",
    "# Setup class\n",
    "udp = udp_basic.udp_obj(density, r_T, t_end, t_0, dt, lb, ub)\n",
    "\n",
    "# Define problem\n",
    "prob = pg.problem(udp)\n",
    "print(prob)\n",
    "\n",
    "# Setup algorithm\n",
    "algo = pg.algorithm(pg.sade(gen = num_gen))\n",
    "pop = pg.population(prob = prob, size = pop_size)"
   ]
  },
  {
   "cell_type": "code",
   "execution_count": 45,
   "metadata": {},
   "outputs": [
    {
     "name": "stdout",
     "output_type": "stream",
     "text": [
      "\n",
      "   Gen:        Fevals:          Best:             F:            CR:            dx:            df:\n",
      "      1             10          50312       0.445289       0.800559        14167.8        65379.3\n",
      "      2             20        39162.3       0.448532       0.910111        10535.8        75320.6\n",
      "      3             30          31347       0.448532       0.910111        6320.77        83135.9\n",
      "      4             40          31347       0.448532       0.910111        8997.56        69024.2\n",
      "      5             50          31347       0.448532       0.910111        8997.56        69024.2\n",
      "      6             60        31200.9       0.710011       0.746587        7631.87        65871.9\n",
      "      7             70        31200.9       0.710011       0.746587        6947.95        49338.2\n",
      "      8             80        8833.16       0.710011       0.746587         6947.4        71705.9\n",
      "      9             90        8833.16       0.710011       0.746587        7269.12        48045.5\n",
      "     10            100        8833.16       0.710011       0.746587        8780.08        48009.9\n",
      "     11            110        2185.02       0.837304       0.663783        15147.4        47379.8\n",
      "     12            120        2185.02       0.837304       0.663783        15147.4        47379.8\n",
      "     13            130        1232.68       0.837304       0.663783        15147.2        48332.1\n",
      "     14            140        1201.48       0.252934       0.663783        15147.2        48363.3\n",
      "     15            150        924.173       0.448532       0.910111          11986        31374.9\n",
      "     16            160        924.173       0.448532       0.910111        11985.7        20151.7\n",
      "     17            170        924.173       0.448532       0.910111        11412.1        20015.9\n",
      "     18            180        924.173       0.448532       0.910111        15975.5        15813.9\n",
      "     19            190        924.173       0.448532       0.910111        15975.5        15813.9\n",
      "     20            200        924.173       0.448532       0.910111        15975.5        15813.9\n",
      "     21            210        924.173       0.448532       0.910111        15975.5        15813.9\n",
      "     22            220        714.226       0.441955       0.759655        16405.1         2573.4\n",
      "     23            230        714.226       0.441955       0.759655        16405.1         2573.4\n",
      "     24            240        714.226       0.441955       0.759655        16405.1         2573.4\n",
      "     25            250        714.226       0.441955       0.759655        11547.6        611.591\n",
      "     26            260        714.226       0.441955       0.759655        11547.6        611.591\n",
      "     27            270        714.226       0.441955       0.759655        4412.32        538.894\n",
      "     28            280        421.156       0.441955       0.759655        4412.08        831.964\n",
      "     29            290        421.156       0.441955       0.759655        11547.5        787.092\n",
      "     30            300        421.156       0.441955       0.759655        11547.5        787.092\n",
      "     31            310        421.156       0.441955       0.759655        11547.5        787.092\n",
      "     32            320        421.156       0.441955       0.759655        11547.5        787.092\n",
      "Exit condition -- generations = 32\n"
     ]
    }
   ],
   "source": [
    "# Run optimization\n",
    "algo.set_verbosity(1)\n",
    "pop = algo.evolve(pop)\n"
   ]
  },
  {
   "cell_type": "code",
   "execution_count": 46,
   "metadata": {
    "scrolled": false
   },
   "outputs": [
    {
     "name": "stdout",
     "output_type": "stream",
     "text": [
      "Champion fitness value:  [421.1559934]\n",
      "Champion chromosome:  [ 1.84147342e+03  5.27731301e+02 -4.59747440e+03  2.79962920e-01\n",
      "  5.16364830e-01  9.12182385e-02]\n"
     ]
    },
    {
     "data": {
      "application/vnd.jupyter.widget-view+json": {
       "model_id": "8d8366e23f5440c6875bb683150407d2",
       "version_major": 2,
       "version_minor": 0
      },
      "text/plain": [
       "BokehModel(combine_events=True, render_bundle={'docs_json': {'113df404-3825-44b6-8b03-240b29b7ad10': {'defs': …"
      ]
     },
     "metadata": {},
     "output_type": "display_data"
    },
    {
     "data": {
      "text/html": [
       "<div style=\"display: none\"></div>"
      ]
     },
     "metadata": {},
     "output_type": "display_data"
    }
   ],
   "source": [
    "# Logs for output\n",
    "print(\"Champion fitness value: \", pop.champion_f) \n",
    "print(\"Champion chromosome: \", pop.champion_x) \n",
    "\n",
    "# Retrieving champion chromosome\n",
    "x = pop.champion_x\n",
    "\n",
    "# Compute optimized trajectory\n",
    "fit_val, r_store, v_store, a_store = udp.compute_trajectory(x)\n",
    "\n",
    "# Plot optimized trajectory\n",
    "udp.plot_trajectory(r_store)"
   ]
  },
  {
   "cell_type": "code",
   "execution_count": 50,
   "metadata": {},
   "outputs": [
    {
     "data": {
      "text/plain": [
       "[<matplotlib.lines.Line2D at 0x7fb7b4192100>]"
      ]
     },
     "execution_count": 50,
     "metadata": {},
     "output_type": "execute_result"
    },
    {
     "data": {
      "image/png": "[encoded data removed]",
      "text/plain": [
       "<Figure size 640x480 with 1 Axes>"
      ]
     },
     "metadata": {},
     "output_type": "display_data"
    }
   ],
   "source": [
    "plt.plot(r_store[1],r_store[2])"
   ]
  }
 ],
 "metadata": {
  "kernelspec": {
   "display_name": "67P_Swarm",
   "language": "python",
   "name": "python3"
  },
  "language_info": {
   "codemirror_mode": {
    "name": "ipython",
    "version": 3
   },
   "file_extension": ".py",
   "mimetype": "text/x-python",
   "name": "python",
   "nbconvert_exporter": "python",
   "pygments_lexer": "ipython3",
   "version": "3.8.15"
  },
  "vscode": {
   "interpreter": {
    "hash": "b9a187d1fd3efa5ced9dbeaa8c09dd6c19f147abf025ef1bac0fa81a1ca86d3e"
   }
  }
 },
 "nbformat": 4,
 "nbformat_minor": 2
}
