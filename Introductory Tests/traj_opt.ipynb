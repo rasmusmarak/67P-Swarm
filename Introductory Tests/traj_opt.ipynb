{
 "cells": [
  {
   "cell_type": "code",
   "execution_count": 22,
   "metadata": {},
   "outputs": [
    {
     "name": "stdout",
     "output_type": "stream",
     "text": [
      "The autoreload extension is already loaded. To reload it, use:\n",
      "  %reload_ext autoreload\n"
     ]
    }
   ],
   "source": [
    "%load_ext autoreload\n",
    "%autoreload 2"
   ]
  },
  {
   "cell_type": "code",
   "execution_count": 23,
   "metadata": {},
   "outputs": [],
   "source": [
    "# For optimization using pygmo\n",
    "import pygmo as pg\n",
    "import numpy as np\n",
    "from math import pi\n",
    "from udp_initial_condition import udp_initial_condition\n",
    "\n",
    "# For computing trajectory\n",
    "from Trajectory import Trajectory\n",
    "import pykep as pk\n",
    "\n",
    "# For Plotting\n",
    "import matplotlib.pyplot as plt\n",
    "\n",
    "# For cProfile evaluation\n",
    "import cProfile\n",
    "import pstats"
   ]
  },
  {
   "cell_type": "code",
   "execution_count": 24,
   "metadata": {},
   "outputs": [],
   "source": [
    "def setup_parameters():\n",
    "    \"\"\"Set up of required hyperparameters for the optimization scheme. \n",
    "\n",
    "    Returns:\n",
    "        body_args (np.ndarray): Paramteers relating to the celestial body:\n",
    "            [0] body_density (float): Body density of celestial body.\n",
    "            [1] body_mu (float): Gravitational parameter for celestial body.\n",
    "            [2] body_declination (float): Declination angle of spin axis.\n",
    "            [3] body_right_acension (float): Right ascension angle of spin axis.\n",
    "            [4] body_spin_period (float): Rotational period around spin axis of the body.\n",
    "        target_altitude (float): Squared value of the satellite's orbital target altitude.\n",
    "        final_time (float): Final time for the integration of trajectory.\n",
    "        start_time (float): Start time for the integration of trajectory.\n",
    "        time_step (float): Size of initial time step for integration of trajectory.\n",
    "        lower_bounds (np.ndarray): Lower boundary values for the initial state vector.\n",
    "        upper_bounds (np.ndarray): Lower boundary values for the initial state vector.\n",
    "        algorithm (int): Choice of algorithm (see file Integrator for references).\n",
    "        radius_bounding_sphere (float): Radius of the bounding sphere representing risk zone for collisions with celestial body.\n",
    "        population_size (int): Number of chromosomes to compare at each generation.\n",
    "        number_of_generations (int): Number of generations for the genetic opimization.\n",
    "    \"\"\"\n",
    "    # Body parameters\n",
    "    body_density = 533                  # https://sci.esa.int/web/rosetta/-/14615-comet-67p\n",
    "    body_mu = 665.666                   # Gravitational parameter for 67P/C-G\n",
    "    body_declination = 64               # [degrees] https://sci.esa.int/web/rosetta/-/14615-comet-67p\n",
    "    body_right_ascension = 69           # [degrees] https://sci.esa.int/web/rosetta/-/14615-comet-67p\n",
    "    body_spin_period = 12.06*3600       # [seconds] https://sci.esa.int/web/rosetta/-/14615-comet-67p\n",
    "    body_args = np.array([body_density, body_mu, body_declination, body_right_ascension, body_spin_period])\n",
    "\n",
    "    # Setup hyperparameters:\n",
    "    target_altitude = 5000**2           # Target altitude squared\n",
    "    final_time = 20*3600.0              # Final time\n",
    "    start_time = 0                      # Starting time\n",
    "    time_step = 600                     # Time step size for trajectory propagation.\n",
    "    radius_bounding_sphere = 3500       # Radius of the bounding sphere representing risk zone for collisions with celestial body.\n",
    "\n",
    "    # Bounds for initial variable domain: [r_x,r_y,r_z,v_x,v_y,v_z]\n",
    "    #lower_bounds, upper_bounds = np.array([-6000,-6000,-6000,0,0,0]),np.array([6000,6000,6000,2.5,2.5,2.5])\n",
    "\n",
    "    # Defining the parameter space for the optimization\n",
    "    #   (Parameters are defined in osculating orbital elements)\n",
    "    a = [5000, 15000] # Semi-major axis\n",
    "    e = [0, 5]        # Eccentricity [0, 1]\n",
    "    o = [0, 2*pi]     # Right ascension of ascending node [0,2*pi]\n",
    "    w = [0, 2*pi]     # Argument of periapsis [0, 2*pi]\n",
    "    i = [0, pi]       # Inclination [0, pi] \n",
    "    ea = [0, 2*pi]    # Eccentric anomaly [0, 2*pi]\n",
    "\n",
    "    lower_bounds = np.array([a[0], e[0], i[0], o[0], w[0], ea[0]])\n",
    "    upper_bounds = np.array([a[1], e[1], i[1], o[1], w[1], ea[1]])\n",
    "\n",
    "    # Choose numerical integrator:\n",
    "    algorithm = 3\n",
    "\n",
    "    # Optimization parameters\n",
    "    population_size = 10 #10\n",
    "    number_of_generations = 32 #32\n",
    "\n",
    "    return body_args, target_altitude, final_time, start_time, time_step, lower_bounds, upper_bounds, algorithm, radius_bounding_sphere, population_size, number_of_generations"
   ]
  },
  {
   "cell_type": "code",
   "execution_count": 28,
   "metadata": {},
   "outputs": [
    {
     "name": "stdout",
     "output_type": "stream",
     "text": [
      "Retrieving user defined parameters...\n",
      "Setting up the UDP...\n",
      "Setting up the optimization algorithm...\n",
      "Initializing the optimization:\n",
      "\n",
      "   Gen:        Fevals:          Best:             F:            CR:            dx:            df:\n",
      "      1             10    8.93747e+07       0.422299       0.947494        6507.72    1.02515e+11\n",
      "      2             20    8.93747e+07       0.422299       0.947494        8716.79     2.2005e+10\n",
      "      3             30    8.93747e+07       0.422299       0.947494        6715.44    8.40096e+09\n",
      "      4             40    8.93747e+07       0.422299       0.947494        6715.44    8.40096e+09\n",
      "      5             50    8.93747e+07       0.422299       0.947494        8715.13    5.06026e+09\n",
      "      6             60    8.93747e+07       0.422299       0.947494        8715.13    5.06026e+09\n",
      "      7             70    8.34455e+07        0.55966       0.555493        421.626    1.11538e+09\n",
      "      8             80    8.34455e+07        0.55966       0.555493        421.626    1.11538e+09\n",
      "      9             90    8.34455e+07        0.55966       0.555493        421.626    1.11538e+09\n",
      "     10            100     5.7169e+07       0.476876       0.776767        2978.18    1.14165e+09\n",
      "     11            110    3.76917e+07       0.476876       0.776767         2982.6    1.16113e+09\n",
      "     12            120    3.76917e+07       0.476876       0.776767         2978.9    1.11126e+09\n",
      "     13            130    3.76917e+07       0.476876       0.776767         2978.9    1.11126e+09\n",
      "     14            140    3.76917e+07       0.476876       0.776767         2978.9    1.11126e+09\n",
      "     15            150    3.76917e+07       0.476876       0.776767        2974.74    2.32942e+08\n",
      "     16            160    3.76917e+07       0.476876       0.776767        2976.99    2.23336e+08\n",
      "     17            170    3.76917e+07       0.476876       0.776767        548.331    1.16002e+08\n",
      "     18            180    3.76917e+07       0.476876       0.776767        548.331    1.16002e+08\n",
      "     19            190    3.76917e+07       0.476876       0.776767        2762.35    7.18218e+07\n",
      "     20            200    3.76917e+07       0.476876       0.776767        2762.35    7.18218e+07\n",
      "     21            210    3.76917e+07       0.476876       0.776767        2762.35    7.18218e+07\n",
      "     22            220    3.76917e+07       0.476876       0.776767        2762.35    7.18218e+07\n",
      "     23            230    3.76917e+07       0.476876       0.776767        2762.35    7.18218e+07\n",
      "     24            240    3.76917e+07       0.476876       0.776767        2762.35    7.18218e+07\n",
      "     25            250    2.62865e+07       0.476876       0.776767        2761.02    8.32269e+07\n",
      "     26            260    2.62865e+07       0.476876       0.776767        2761.02    8.32269e+07\n",
      "     27            270    2.62865e+07       0.476876       0.776767        2761.02    8.32269e+07\n",
      "     28            280    2.62865e+07       0.476876       0.776767        2761.02    8.32269e+07\n",
      "     29            290    2.62865e+07       0.476876       0.776767        2761.02    8.32269e+07\n",
      "     30            300    2.35324e+07       0.476876       0.776767        3620.02     8.5981e+07\n",
      "     31            310    2.35324e+07       0.476876       0.776767        3620.02     8.5981e+07\n",
      "Champion fitness value:      32            320    2.35324e+07       0.476876       0.776767        3620.02     8.5981e+07\n",
      "Exit condition -- generations = 32\n",
      " [23532440.32436845]\n",
      "Champion chromosome:  [1.00674770e+04 2.38184228e-01 2.44998928e+00 1.89630497e+00\n",
      " 4.57961408e+00 4.08151969e+00]\n"
     ]
    },
    {
     "name": "stderr",
     "output_type": "stream",
     "text": [
      "\u001b[0m\u001b[33m2023-03-01 20:33:18.450 (6687.926s) [           5AD5B]       vtkAxesActor.cxx:424   WARN| One or more normalized shaft lengths       are < 0 or > 1 and may produce unexpected results.\u001b[0m\n"
     ]
    },
    {
     "data": {
      "application/vnd.jupyter.widget-view+json": {
       "model_id": "8de1de73d1e34e3b93be068f58cc04d5",
       "version_major": 2,
       "version_minor": 0
      },
      "text/plain": [
       "BokehModel(combine_events=True, render_bundle={'docs_json': {'342a1f0a-9973-4d16-9e99-1c42c284d068': {'defs': …"
      ]
     },
     "metadata": {},
     "output_type": "display_data"
    },
    {
     "data": {
      "image/png": "[encoded data removed]",
      "text/plain": [
       "<Figure size 640x480 with 1 Axes>"
      ]
     },
     "metadata": {},
     "output_type": "display_data"
    }
   ],
   "source": [
    "# Main script:\n",
    "\n",
    "def run():\n",
    "    \"\"\"\n",
    "    Main function for optimizing the initial state for deterministic trajectories around a \n",
    "    small celstial body using a mesh.\n",
    "    \"\"\"\n",
    "    \n",
    "    print(\"Retrieving user defined parameters...\")\n",
    "    body_args, target_altitude, final_time, start_time, time_step, lower_bounds, upper_bounds, algorithm, radius_bounding_sphere, population_size, number_of_generations = setup_parameters()\n",
    "\n",
    "    # Setup User-Defined Problem (UDP)\n",
    "    print(\"Setting up the UDP...\")\n",
    "    udp = udp_initial_condition(body_args, target_altitude, final_time, start_time, time_step, lower_bounds, upper_bounds, algorithm, radius_bounding_sphere)\n",
    "    prob = pg.problem(udp)\n",
    "\n",
    "    # Setup optimization algorithm\n",
    "    print(\"Setting up the optimization algorithm...\")\n",
    "    algo = pg.algorithm(pg.sade(gen = number_of_generations))\n",
    "    pop = pg.population(prob = prob, size = population_size)\n",
    "    \n",
    "    # Run optimization\n",
    "    print(\"Initializing the optimization:\")\n",
    "    algo.set_verbosity(1)\n",
    "    pop = algo.evolve(pop)\n",
    "\n",
    "    # Logs for output\n",
    "    print(\"Champion fitness value: \", pop.champion_f) \n",
    "    print(\"Champion chromosome: \", pop.champion_x) \n",
    "\n",
    "    # Retrieving champion chromosome\n",
    "    x = pop.champion_x\n",
    "\n",
    "    # Convert osculating orbital elements to cartesian for integration\n",
    "    body_mu = 665.666\n",
    "    r, v = pk.par2ic(E=x, mu=body_mu)\n",
    "    r = np.array(r)\n",
    "    v = np.array(v)\n",
    "    x_cartesian = np.concatenate((r,v), axis=None)\n",
    "\n",
    "    # Compute optimized trajectory\n",
    "    trajectory = Trajectory(body_args, final_time, start_time, time_step, algorithm, radius_bounding_sphere)\n",
    "    trajectory_info, _, _  = trajectory.integrate(x_cartesian)\n",
    "\n",
    "    # Plot optimized trajectory\n",
    "    trajectory.plot_trajectory(trajectory_info[0:3,:])\n",
    "\n",
    "    plt.plot(trajectory_info[0,:],trajectory_info[1,:])\n",
    "\n",
    "def main():\n",
    "    run()\n",
    "\n",
    "if __name__ == \"__main__\":\n",
    "    cProfile.run(\"main()\", \"output.dat\")\n",
    "\n",
    "    with open(\"output_time.txt\", \"w\") as f:\n",
    "        p = pstats.Stats(\"output.dat\", stream=f)\n",
    "        p.sort_stats(\"time\").print_stats()\n",
    "    \n",
    "    with open(\"output_calls.txt\", \"w\") as f:\n",
    "        p = pstats.Stats(\"output.dat\", stream=f)\n",
    "        p.sort_stats(\"calls\").print_stats()\n"
   ]
  },
  {
   "cell_type": "code",
   "execution_count": 4,
   "metadata": {},
   "outputs": [],
   "source": [
    "import pykep as pk\n",
    "x = [8.85314903e+03, 1.55562924e+00, 1.78703924e+00, 4.03913836e+00, 3.94643261e+00, 6.19774685e+00]\n",
    "\n",
    "# Convert osculating orbital elements to cartesian for integration\n",
    "body_mu = 665.666\n",
    "r, v = pk.par2ic(E=x, mu=body_mu)\n",
    "r = np.array(r)\n",
    "v = np.array(v)\n",
    "x_cartesian = np.concatenate((r,v), axis=None)"
   ]
  },
  {
   "cell_type": "code",
   "execution_count": 5,
   "metadata": {},
   "outputs": [
    {
     "name": "stdout",
     "output_type": "stream",
     "text": [
      "Retrieving user defined parameters...\n",
      "Setting up the UDP...\n"
     ]
    }
   ],
   "source": [
    "print(\"Retrieving user defined parameters...\")\n",
    "body_density, target_altitude, final_time, start_time, time_step, lower_bounds, upper_bounds, algorithm, radius_bounding_sphere, population_size, number_of_generations = setup_parameters()\n",
    "\n",
    "# Setup User-Defined Problem (UDP)\n",
    "print(\"Setting up the UDP...\")\n",
    "udp = udp_initial_condition(body_density, target_altitude, final_time, start_time, time_step, lower_bounds, upper_bounds, algorithm, radius_bounding_sphere)\n"
   ]
  },
  {
   "cell_type": "code",
   "execution_count": 12,
   "metadata": {},
   "outputs": [],
   "source": [
    "# Compute optimized trajectory\n",
    "trajectory = Trajectory(body_density, final_time, start_time, time_step, algorithm, radius_bounding_sphere)\n"
   ]
  },
  {
   "cell_type": "code",
   "execution_count": 7,
   "metadata": {},
   "outputs": [],
   "source": [
    "trajectory_info, _, _  = trajectory.integrate(x_cartesian)"
   ]
  },
  {
   "cell_type": "code",
   "execution_count": 8,
   "metadata": {},
   "outputs": [
    {
     "name": "stdout",
     "output_type": "stream",
     "text": [
      "(7, 94)\n"
     ]
    }
   ],
   "source": [
    "print(trajectory_info.shape)\n",
    "#print(trajectory_info[0:3,:])"
   ]
  },
  {
   "cell_type": "code",
   "execution_count": 13,
   "metadata": {},
   "outputs": [
    {
     "name": "stderr",
     "output_type": "stream",
     "text": [
      "\u001b[0m\u001b[33m2023-03-01 18:43:21.543 (  91.131s) [           5AD5B]       vtkAxesActor.cxx:424   WARN| One or more normalized shaft lengths       are < 0 or > 1 and may produce unexpected results.\u001b[0m\n"
     ]
    },
    {
     "data": {
      "application/vnd.jupyter.widget-view+json": {
       "model_id": "92a7accb3a484346ba3b874d795683c9",
       "version_major": 2,
       "version_minor": 0
      },
      "text/plain": [
       "BokehModel(combine_events=True, render_bundle={'docs_json': {'2b31c736-9792-4699-9c19-0fa2bfd91e2d': {'defs': …"
      ]
     },
     "metadata": {},
     "output_type": "display_data"
    },
    {
     "data": {
      "text/plain": [
       "[<matplotlib.lines.Line2D at 0x7f82914bb5e0>]"
      ]
     },
     "execution_count": 13,
     "metadata": {},
     "output_type": "execute_result"
    },
    {
     "data": {
      "image/png": "[encoded data removed]",
      "text/plain": [
       "<Figure size 640x480 with 1 Axes>"
      ]
     },
     "metadata": {},
     "output_type": "display_data"
    }
   ],
   "source": [
    "# Plot optimized trajectory\n",
    "trajectory.plot_trajectory(trajectory_info[0:3,:])\n",
    "\n",
    "plt.plot(trajectory_info[0,:],trajectory_info[1,:])"
   ]
  }
 ],
 "metadata": {
  "kernelspec": {
   "display_name": "67P_Swarm",
   "language": "python",
   "name": "python3"
  },
  "language_info": {
   "codemirror_mode": {
    "name": "ipython",
    "version": 3
   },
   "file_extension": ".py",
   "mimetype": "text/x-python",
   "name": "python",
   "nbconvert_exporter": "python",
   "pygments_lexer": "ipython3",
   "version": "3.8.15"
  },
  "vscode": {
   "interpreter": {
    "hash": "b9a187d1fd3efa5ced9dbeaa8c09dd6c19f147abf025ef1bac0fa81a1ca86d3e"
   }
  }
 },
 "nbformat": 4,
 "nbformat_minor": 2
}
