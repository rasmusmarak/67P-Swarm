{
 "cells": [
  {
   "cell_type": "code",
   "execution_count": 1,
   "metadata": {},
   "outputs": [],
   "source": [
    "%load_ext autoreload\n",
    "%autoreload 2"
   ]
  },
  {
   "cell_type": "code",
   "execution_count": 47,
   "metadata": {},
   "outputs": [],
   "source": [
    "# Core packages\n",
    "import pygmo as pg\n",
    "import numpy as np\n",
    "from math import pi\n",
    "from dotmap import DotMap\n",
    "\n",
    "# For creating mesh\n",
    "import mesh_utility\n",
    "\n",
    "# For computing the next state\n",
    "import equations_of_motion\n",
    "\n",
    "# For optimization using pygmo\n",
    "from udp_initial_condition import udp_initial_condition\n",
    "\n",
    "# For computing trajectory\n",
    "import trajectory_tools\n",
    "import pykep as pk\n",
    "\n",
    "# For Plotting\n",
    "import matplotlib.pyplot as plt\n",
    "\n",
    "# For cProfile evaluation\n",
    "import cProfile\n",
    "import pstats"
   ]
  },
  {
   "cell_type": "code",
   "execution_count": 48,
   "metadata": {},
   "outputs": [],
   "source": [
    "def setup_parameters():\n",
    "    \"\"\"Set up of required hyperparameters for the optimization scheme. \n",
    "\n",
    "    Returns:\n",
    "\n",
    "        body_args (dotmap.DotMap): Parameters related to the celestial body:\n",
    "            density (float): Body density of celestial body.\n",
    "            mu (float): Gravitational parameter for celestial body.\n",
    "            declination (float): Declination angle of spin axis.\n",
    "            right_ascension (float): Right ascension angle of spin axis.\n",
    "            spin_period (float): Rotational period around spin axis of the body.\n",
    "\n",
    "        integrator_args (dotmap.DotMap): Specific parameters related to the integrator:\n",
    "            algorithm (int): Integer representing specific integrator algorithm.\n",
    "            dense_output (bool): Dense output status of integrator.\n",
    "            rtol (float): Relative error tolerance for integration.\n",
    "            atol (float): Absolute error tolerance for integration.\n",
    "\n",
    "        problem_args (dotmap.DotMap): Parameters related to the problem:\n",
    "            start_time (float): Start time (in seconds) for the integration of trajectory.\n",
    "            final_time (float): Final time (in seconds) for the integration of trajectory.\n",
    "            initial_time_step (float): Size of initial time step (in seconds) for integration of trajectory.\n",
    "            target_squared_altitude (float): Squared value of the satellite's orbital target altitude.\n",
    "            radius_bounding_sphere (float): Radius of the bounding sphere representing risk zone for collisions with celestial body.\n",
    "            event (int): Event configuration (0 = no event, 1 = collision with body detection)\n",
    "        \n",
    "        lower_bounds (np.ndarray): Lower boundary values for the initial state vector.\n",
    "        upper_bounds (np.ndarray): Lower boundary values for the initial state vector.\n",
    "                \n",
    "        population_size (int): Number of chromosomes to compare at each generation.\n",
    "        number_of_generations (int): Number of generations for the genetic opimization.\n",
    "    \"\"\"\n",
    "    args = DotMap()\n",
    "\n",
    "    # Setup body parameters\n",
    "    args.body.density = 533                  # https://sci.esa.int/web/rosetta/-/14615-comet-67p\n",
    "    args.body.mu = 665.666                   # Gravitational parameter for 67P/C-G\n",
    "    args.body.declination = 64               # [degrees] https://sci.esa.int/web/rosetta/-/14615-comet-67p\n",
    "    args.body.right_ascension = 69           # [degrees] https://sci.esa.int/web/rosetta/-/14615-comet-67p\n",
    "    args.body.spin_period = 12.06*3600       # [seconds] https://sci.esa.int/web/rosetta/-/14615-comet-67p\n",
    "    args.body.spin_velocity = (2*pi)/args.body.spin_period\n",
    "    args.body.spin_axis = equations_of_motion.setup_spin_axis(args)\n",
    "\n",
    "    # Setup specific integrator parameters:\n",
    "    args.integrator.algorithm = 3\n",
    "    args.integrator.dense_output = True\n",
    "    args.integrator.rtol = 1e-12\n",
    "    args.integrator.atol = 1e-12\n",
    "\n",
    "    # Setup problem parameters\n",
    "    args.problem.start_time = 0                     # Starting time [s]\n",
    "    args.problem.final_time = 20*3600.0             # Final time [s]\n",
    "    args.problem.initial_time_step = 600            # Initial time step size for integration [s]\n",
    "    args.problem.radius_bounding_sphere = 4000      # Radius of spherical risk-zone for collision with celestial body [m]\n",
    "    args.problem.target_squared_altitude = 8000**2  # Target altitude squared [m]\n",
    "    args.problem.event = 1                          # Event configuration (0 = no event, 1 = collision with body detection)\n",
    "    \n",
    "\n",
    "    # Defining the parameter space for the optimization\n",
    "    #   (Parameters are defined in osculating orbital elements)\n",
    "    a = [5000, 15000] # Semi-major axis\n",
    "    e = [0, 1]        # Eccentricity [0, 1]\n",
    "    o = [0, 2*pi]     # Right ascension of ascending node [0,2*pi]\n",
    "    w = [0, 2*pi]     # Argument of periapsis [0, 2*pi]\n",
    "    i = [0, pi]       # Inclination [0, pi] \n",
    "    ea = [0, 2*pi]    # Eccentric anomaly [0, 2*pi]\n",
    "\n",
    "    lower_bounds = np.array([a[0], e[0], i[0], o[0], w[0], ea[0]])\n",
    "    upper_bounds = np.array([a[1], e[1], i[1], o[1], w[1], ea[1]])\n",
    "\n",
    "\n",
    "    # Optimization parameters\n",
    "    population_size = 10 \n",
    "    number_of_generations = 32 \n",
    "\n",
    "    return args, lower_bounds, upper_bounds, population_size, number_of_generations"
   ]
  },
  {
   "cell_type": "code",
   "execution_count": 49,
   "metadata": {},
   "outputs": [
    {
     "name": "stdout",
     "output_type": "stream",
     "text": [
      "Retrieving user defined parameters...\n",
      "Creating the mesh...\n",
      "Setting up the UDP...\n",
      "Setting up the optimization algorithm...\n",
      "Initializing the optimization:\n",
      "\n",
      "   Gen:        Fevals:          Best:             F:            CR:            dx:            df:\n",
      "      1             10    6.25124e+07       0.376501        0.59087        243.303          1e+30\n",
      "      2             20    5.55865e+07       0.800509        0.59087        1966.26          1e+30\n",
      "      3             30    5.55865e+07       0.800509        0.59087        1967.75          1e+30\n",
      "      4             40    5.55865e+07       0.800509        0.59087        1966.74          1e+30\n",
      "      5             50    1.51497e+07       0.246927       0.772639        3228.08    2.72404e+08\n",
      "      6             60    1.51497e+07       0.246927       0.772639        2463.29    2.39066e+08\n",
      "      7             70    1.51497e+07       0.246927       0.772639        5595.79    2.11077e+08\n",
      "      8             80    1.51497e+07       0.246927       0.772639        5595.79    2.11077e+08\n"
     ]
    },
    {
     "ename": "KeyboardInterrupt",
     "evalue": "",
     "output_type": "error",
     "traceback": [
      "\u001b[0;31m---------------------------------------------------------------------------\u001b[0m",
      "\u001b[0;31mKeyboardInterrupt\u001b[0m                         Traceback (most recent call last)",
      "Cell \u001b[0;32mIn[49], line 58\u001b[0m\n\u001b[1;32m     55\u001b[0m     run()\n\u001b[1;32m     57\u001b[0m \u001b[39mif\u001b[39;00m \u001b[39m__name__\u001b[39m \u001b[39m==\u001b[39m \u001b[39m\"\u001b[39m\u001b[39m__main__\u001b[39m\u001b[39m\"\u001b[39m:\n\u001b[0;32m---> 58\u001b[0m     cProfile\u001b[39m.\u001b[39;49mrun(\u001b[39m\"\u001b[39;49m\u001b[39mmain()\u001b[39;49m\u001b[39m\"\u001b[39;49m, \u001b[39m\"\u001b[39;49m\u001b[39moutput.dat\u001b[39;49m\u001b[39m\"\u001b[39;49m)\n\u001b[1;32m     60\u001b[0m     \u001b[39mwith\u001b[39;00m \u001b[39mopen\u001b[39m(\u001b[39m\"\u001b[39m\u001b[39moutput_time.txt\u001b[39m\u001b[39m\"\u001b[39m, \u001b[39m\"\u001b[39m\u001b[39mw\u001b[39m\u001b[39m\"\u001b[39m) \u001b[39mas\u001b[39;00m f:\n\u001b[1;32m     61\u001b[0m         p \u001b[39m=\u001b[39m pstats\u001b[39m.\u001b[39mStats(\u001b[39m\"\u001b[39m\u001b[39moutput.dat\u001b[39m\u001b[39m\"\u001b[39m, stream\u001b[39m=\u001b[39mf)\n",
      "File \u001b[0;32m~/opt/anaconda3/envs/67p_swarm/lib/python3.8/cProfile.py:16\u001b[0m, in \u001b[0;36mrun\u001b[0;34m(statement, filename, sort)\u001b[0m\n\u001b[1;32m     15\u001b[0m \u001b[39mdef\u001b[39;00m \u001b[39mrun\u001b[39m(statement, filename\u001b[39m=\u001b[39m\u001b[39mNone\u001b[39;00m, sort\u001b[39m=\u001b[39m\u001b[39m-\u001b[39m\u001b[39m1\u001b[39m):\n\u001b[0;32m---> 16\u001b[0m     \u001b[39mreturn\u001b[39;00m _pyprofile\u001b[39m.\u001b[39;49m_Utils(Profile)\u001b[39m.\u001b[39;49mrun(statement, filename, sort)\n",
      "File \u001b[0;32m~/opt/anaconda3/envs/67p_swarm/lib/python3.8/profile.py:53\u001b[0m, in \u001b[0;36m_Utils.run\u001b[0;34m(self, statement, filename, sort)\u001b[0m\n\u001b[1;32m     51\u001b[0m prof \u001b[39m=\u001b[39m \u001b[39mself\u001b[39m\u001b[39m.\u001b[39mprofiler()\n\u001b[1;32m     52\u001b[0m \u001b[39mtry\u001b[39;00m:\n\u001b[0;32m---> 53\u001b[0m     prof\u001b[39m.\u001b[39;49mrun(statement)\n\u001b[1;32m     54\u001b[0m \u001b[39mexcept\u001b[39;00m \u001b[39mSystemExit\u001b[39;00m:\n\u001b[1;32m     55\u001b[0m     \u001b[39mpass\u001b[39;00m\n",
      "File \u001b[0;32m~/opt/anaconda3/envs/67p_swarm/lib/python3.8/cProfile.py:95\u001b[0m, in \u001b[0;36mProfile.run\u001b[0;34m(self, cmd)\u001b[0m\n\u001b[1;32m     93\u001b[0m \u001b[39mimport\u001b[39;00m \u001b[39m__main__\u001b[39;00m\n\u001b[1;32m     94\u001b[0m \u001b[39mdict\u001b[39m \u001b[39m=\u001b[39m __main__\u001b[39m.\u001b[39m\u001b[39m__dict__\u001b[39m\n\u001b[0;32m---> 95\u001b[0m \u001b[39mreturn\u001b[39;00m \u001b[39mself\u001b[39;49m\u001b[39m.\u001b[39;49mrunctx(cmd, \u001b[39mdict\u001b[39;49m, \u001b[39mdict\u001b[39;49m)\n",
      "File \u001b[0;32m~/opt/anaconda3/envs/67p_swarm/lib/python3.8/cProfile.py:100\u001b[0m, in \u001b[0;36mProfile.runctx\u001b[0;34m(self, cmd, globals, locals)\u001b[0m\n\u001b[1;32m     98\u001b[0m \u001b[39mself\u001b[39m\u001b[39m.\u001b[39menable()\n\u001b[1;32m     99\u001b[0m \u001b[39mtry\u001b[39;00m:\n\u001b[0;32m--> 100\u001b[0m     exec(cmd, \u001b[39mglobals\u001b[39;49m, \u001b[39mlocals\u001b[39;49m)\n\u001b[1;32m    101\u001b[0m \u001b[39mfinally\u001b[39;00m:\n\u001b[1;32m    102\u001b[0m     \u001b[39mself\u001b[39m\u001b[39m.\u001b[39mdisable()\n",
      "File \u001b[0;32m<string>:1\u001b[0m\n",
      "Cell \u001b[0;32mIn[49], line 55\u001b[0m, in \u001b[0;36mmain\u001b[0;34m()\u001b[0m\n\u001b[1;32m     54\u001b[0m \u001b[39mdef\u001b[39;00m \u001b[39mmain\u001b[39m():\n\u001b[0;32m---> 55\u001b[0m     run()\n",
      "Cell \u001b[0;32mIn[49], line 30\u001b[0m, in \u001b[0;36mrun\u001b[0;34m()\u001b[0m\n\u001b[1;32m     28\u001b[0m \u001b[39mprint\u001b[39m(\u001b[39m\"\u001b[39m\u001b[39mInitializing the optimization:\u001b[39m\u001b[39m\"\u001b[39m)\n\u001b[1;32m     29\u001b[0m algo\u001b[39m.\u001b[39mset_verbosity(\u001b[39m1\u001b[39m)\n\u001b[0;32m---> 30\u001b[0m pop \u001b[39m=\u001b[39m algo\u001b[39m.\u001b[39;49mevolve(pop)\n\u001b[1;32m     32\u001b[0m \u001b[39m# Logs for output\u001b[39;00m\n\u001b[1;32m     33\u001b[0m \u001b[39mprint\u001b[39m(\u001b[39m\"\u001b[39m\u001b[39mChampion fitness value: \u001b[39m\u001b[39m\"\u001b[39m, pop\u001b[39m.\u001b[39mchampion_f) \n",
      "File \u001b[0;32m~/Master Thesis/My Repositories/67P-Swarm/toss/udp_initial_condition.py:90\u001b[0m, in \u001b[0;36mudp_initial_condition.fitness\u001b[0;34m(self, x)\u001b[0m\n\u001b[1;32m     87\u001b[0m x_cartesian \u001b[39m=\u001b[39m np\u001b[39m.\u001b[39marray(r\u001b[39m+\u001b[39mv)\n\u001b[1;32m     89\u001b[0m \u001b[39m# Integrate trajectory\u001b[39;00m\n\u001b[0;32m---> 90\u001b[0m _, squared_altitudes, collision_detected \u001b[39m=\u001b[39m trajectory_tools\u001b[39m.\u001b[39;49mcompute_trajectory(x_cartesian, \u001b[39mself\u001b[39;49m\u001b[39m.\u001b[39;49margs, equations_of_motion\u001b[39m.\u001b[39;49mcompute_motion)\n\u001b[1;32m     92\u001b[0m \u001b[39m# Define fitness penalty in the event of at least one collision along the trajectory\u001b[39;00m\n\u001b[1;32m     93\u001b[0m \u001b[39mif\u001b[39;00m collision_detected \u001b[39m==\u001b[39m \u001b[39mTrue\u001b[39;00m:\n",
      "File \u001b[0;32m~/Master Thesis/My Repositories/67P-Swarm/toss/trajectory_tools.py:33\u001b[0m, in \u001b[0;36mcompute_trajectory\u001b[0;34m(x, args, func)\u001b[0m\n\u001b[1;32m     21\u001b[0m \u001b[39m\u001b[39m\u001b[39m\"\"\"compute_trajectory computes trajectory of satellite using numerical integation techniques \u001b[39;00m\n\u001b[1;32m     22\u001b[0m \n\u001b[1;32m     23\u001b[0m \u001b[39mArgs:\u001b[39;00m\n\u001b[0;32m   (...)\u001b[0m\n\u001b[1;32m     29\u001b[0m \u001b[39m    collision_penalty (bool): Penalty value given for the event of a collision with the celestial body.\u001b[39;00m\n\u001b[1;32m     30\u001b[0m \u001b[39m\"\"\"\u001b[39;00m\n\u001b[1;32m     32\u001b[0m \u001b[39m# Compute trajectory by numerical integration\u001b[39;00m\n\u001b[0;32m---> 33\u001b[0m trajectory, trajectory_info \u001b[39m=\u001b[39m integrate(func, x, args)\n\u001b[1;32m     35\u001b[0m \u001b[39m# Compute average distance to target altitude\u001b[39;00m\n\u001b[1;32m     36\u001b[0m squared_altitudes \u001b[39m=\u001b[39m trajectory_info[\u001b[39m0\u001b[39m,:]\u001b[39m*\u001b[39m\u001b[39m*\u001b[39m\u001b[39m2\u001b[39m \u001b[39m+\u001b[39m trajectory_info[\u001b[39m1\u001b[39m,:]\u001b[39m*\u001b[39m\u001b[39m*\u001b[39m\u001b[39m2\u001b[39m \u001b[39m+\u001b[39m trajectory_info[\u001b[39m2\u001b[39m,:]\u001b[39m*\u001b[39m\u001b[39m*\u001b[39m\u001b[39m2\u001b[39m\n",
      "File \u001b[0;32m~/Master Thesis/My Repositories/67P-Swarm/toss/trajectory_tools.py:86\u001b[0m, in \u001b[0;36mintegrate\u001b[0;34m(func, x, args)\u001b[0m\n\u001b[1;32m     84\u001b[0m \u001b[39melif\u001b[39;00m event\u001b[39m==\u001b[39m\u001b[39m1\u001b[39m:\n\u001b[1;32m     85\u001b[0m     point_is_inside_risk_zone\u001b[39m.\u001b[39mis_terminal \u001b[39m=\u001b[39m \u001b[39mFalse\u001b[39;00m\n\u001b[0;32m---> 86\u001b[0m     trajectory\u001b[39m.\u001b[39;49mintegrate(events\u001b[39m=\u001b[39;49mpoint_is_inside_risk_zone)\n\u001b[1;32m     88\u001b[0m \u001b[39m# Add integration times to trajectory info\u001b[39;00m\n\u001b[1;32m     89\u001b[0m trajectory_info \u001b[39m=\u001b[39m np\u001b[39m.\u001b[39mvstack((np\u001b[39m.\u001b[39mtranspose(trajectory\u001b[39m.\u001b[39my), trajectory\u001b[39m.\u001b[39mt))\n",
      "File \u001b[0;32m~/opt/anaconda3/envs/67p_swarm/lib/python3.8/site-packages/desolver/differential_system.py:1038\u001b[0m, in \u001b[0;36mOdeSystem.integrate\u001b[0;34m(self, t, callback, eta, events)\u001b[0m\n\u001b[1;32m   1036\u001b[0m \u001b[39mexcept\u001b[39;00m \u001b[39mKeyboardInterrupt\u001b[39;00m \u001b[39mas\u001b[39;00m e:\n\u001b[1;32m   1037\u001b[0m     \u001b[39mself\u001b[39m\u001b[39m.\u001b[39m__int_status \u001b[39m=\u001b[39m e\n\u001b[0;32m-> 1038\u001b[0m     \u001b[39mraise\u001b[39;00m e\n\u001b[1;32m   1039\u001b[0m \u001b[39mexcept\u001b[39;00m \u001b[39mException\u001b[39;00m \u001b[39mas\u001b[39;00m e:\n\u001b[1;32m   1040\u001b[0m     new_e \u001b[39m=\u001b[39m etypes\u001b[39m.\u001b[39mFailedIntegration(\u001b[39m\"\u001b[39m\u001b[39mFailed to integrate system\u001b[39m\u001b[39m\"\u001b[39m)\n",
      "File \u001b[0;32m~/opt/anaconda3/envs/67p_swarm/lib/python3.8/site-packages/desolver/differential_system.py:983\u001b[0m, in \u001b[0;36mOdeSystem.integrate\u001b[0;34m(self, t, callback, eta, events)\u001b[0m\n\u001b[1;32m    980\u001b[0m \u001b[39mself\u001b[39m\u001b[39m.\u001b[39mcounter \u001b[39m-\u001b[39m\u001b[39m=\u001b[39m \u001b[39m1\u001b[39m\n\u001b[1;32m    982\u001b[0m sol_tuple \u001b[39m=\u001b[39m (\u001b[39mself\u001b[39m\u001b[39m.\u001b[39m__sol, prev_time, next_time)\n\u001b[0;32m--> 983\u001b[0m active_events, roots, end_int, evs \u001b[39m=\u001b[39m handle_events(sol_tuple, events, \u001b[39mself\u001b[39;49m\u001b[39m.\u001b[39;49mconstants, direction,\n\u001b[1;32m    984\u001b[0m                                                    is_terminal)\n\u001b[1;32m    986\u001b[0m \u001b[39mif\u001b[39;00m \u001b[39mself\u001b[39m\u001b[39m.\u001b[39mcounter \u001b[39m+\u001b[39m \u001b[39mlen\u001b[39m(roots) \u001b[39m+\u001b[39m \u001b[39m1\u001b[39m \u001b[39m>\u001b[39m\u001b[39m=\u001b[39m \u001b[39mlen\u001b[39m(\u001b[39mself\u001b[39m\u001b[39m.\u001b[39m__y):\n\u001b[1;32m    987\u001b[0m     total_steps \u001b[39m=\u001b[39m \u001b[39mself\u001b[39m\u001b[39m.\u001b[39m__alloc_space_steps(tf \u001b[39m-\u001b[39m dTime) \u001b[39m+\u001b[39m \u001b[39m1\u001b[39m \u001b[39m+\u001b[39m \u001b[39mlen\u001b[39m(roots)\n",
      "File \u001b[0;32m~/opt/anaconda3/envs/67p_swarm/lib/python3.8/site-packages/desolver/differential_system.py:80\u001b[0m, in \u001b[0;36mhandle_events\u001b[0;34m(sol_tuple, events, consts, direction, is_terminal)\u001b[0m\n\u001b[1;32m     77\u001b[0m sol, t_prev, t_next \u001b[39m=\u001b[39m sol_tuple\n\u001b[1;32m     78\u001b[0m ev_f \u001b[39m=\u001b[39m [(\u001b[39mlambda\u001b[39;00m event: \u001b[39mlambda\u001b[39;00m t: event(t, sol(t), \u001b[39m*\u001b[39m\u001b[39m*\u001b[39mconsts))(ev) \u001b[39mfor\u001b[39;00m ev \u001b[39min\u001b[39;00m events]\n\u001b[0;32m---> 80\u001b[0m roots, success \u001b[39m=\u001b[39m root_finder(\n\u001b[1;32m     81\u001b[0m     ev_f,\n\u001b[1;32m     82\u001b[0m     [t_prev, t_next],\n\u001b[1;32m     83\u001b[0m     tol\u001b[39m=\u001b[39;49m\u001b[39mNone\u001b[39;49;00m,\n\u001b[1;32m     84\u001b[0m     verbose\u001b[39m=\u001b[39;49m\u001b[39mFalse\u001b[39;49;00m\n\u001b[1;32m     85\u001b[0m )\n\u001b[1;32m     87\u001b[0m roots \u001b[39m=\u001b[39m D\u001b[39m.\u001b[39masarray(roots)\n\u001b[1;32m     89\u001b[0m g \u001b[39m=\u001b[39m [ev_f[idx](t_root \u001b[39m-\u001b[39m (t_next \u001b[39m-\u001b[39m t_prev) \u001b[39m*\u001b[39m D\u001b[39m.\u001b[39mepsilon() \u001b[39m*\u001b[39m\u001b[39m*\u001b[39m \u001b[39m0.5\u001b[39m) \u001b[39mfor\u001b[39;00m idx, t_root \u001b[39min\u001b[39;00m \u001b[39menumerate\u001b[39m(roots)]\n",
      "File \u001b[0;32m~/opt/anaconda3/envs/67p_swarm/lib/python3.8/site-packages/desolver/utilities/optimizer.py:176\u001b[0m, in \u001b[0;36mbrentsrootvec\u001b[0;34m(f, bounds, tol, verbose, return_interval)\u001b[0m\n\u001b[1;32m    172\u001b[0m     \u001b[39mprint\u001b[39m(_f(a))\n\u001b[1;32m    174\u001b[0m conv \u001b[39m=\u001b[39m D\u001b[39m.\u001b[39mones_like(a, dtype\u001b[39m=\u001b[39m\u001b[39mbool\u001b[39m)\n\u001b[0;32m--> 176\u001b[0m fa \u001b[39m=\u001b[39m _f(a)\n\u001b[1;32m    177\u001b[0m fb \u001b[39m=\u001b[39m _f(b)\n\u001b[1;32m    178\u001b[0m \u001b[39mif\u001b[39;00m fa\u001b[39m.\u001b[39mdtype \u001b[39m==\u001b[39m \u001b[39mobject\u001b[39m:\n",
      "File \u001b[0;32m~/opt/anaconda3/envs/67p_swarm/lib/python3.8/site-packages/desolver/utilities/optimizer.py:162\u001b[0m, in \u001b[0;36mbrentsrootvec.<locals>._f\u001b[0;34m(x, msk)\u001b[0m\n\u001b[1;32m    160\u001b[0m \u001b[39mdef\u001b[39;00m \u001b[39m_f\u001b[39m(x, msk\u001b[39m=\u001b[39m\u001b[39mNone\u001b[39;00m):\n\u001b[1;32m    161\u001b[0m     \u001b[39mif\u001b[39;00m msk \u001b[39mis\u001b[39;00m \u001b[39mNone\u001b[39;00m:\n\u001b[0;32m--> 162\u001b[0m         out \u001b[39m=\u001b[39m [f[i](x[i]) \u001b[39mfor\u001b[39;00m i \u001b[39min\u001b[39;00m \u001b[39mrange\u001b[39m(\u001b[39mlen\u001b[39m(f))]\n\u001b[1;32m    163\u001b[0m     \u001b[39melse\u001b[39;00m:\n\u001b[1;32m    164\u001b[0m         out \u001b[39m=\u001b[39m [f[i](x[i]) \u001b[39mif\u001b[39;00m msk[i] \u001b[39melse\u001b[39;00m zero_elem \u001b[39mfor\u001b[39;00m i \u001b[39min\u001b[39;00m \u001b[39mrange\u001b[39m(\u001b[39mlen\u001b[39m(f))]\n",
      "File \u001b[0;32m~/opt/anaconda3/envs/67p_swarm/lib/python3.8/site-packages/desolver/utilities/optimizer.py:162\u001b[0m, in \u001b[0;36m<listcomp>\u001b[0;34m(.0)\u001b[0m\n\u001b[1;32m    160\u001b[0m \u001b[39mdef\u001b[39;00m \u001b[39m_f\u001b[39m(x, msk\u001b[39m=\u001b[39m\u001b[39mNone\u001b[39;00m):\n\u001b[1;32m    161\u001b[0m     \u001b[39mif\u001b[39;00m msk \u001b[39mis\u001b[39;00m \u001b[39mNone\u001b[39;00m:\n\u001b[0;32m--> 162\u001b[0m         out \u001b[39m=\u001b[39m [f[i](x[i]) \u001b[39mfor\u001b[39;00m i \u001b[39min\u001b[39;00m \u001b[39mrange\u001b[39m(\u001b[39mlen\u001b[39m(f))]\n\u001b[1;32m    163\u001b[0m     \u001b[39melse\u001b[39;00m:\n\u001b[1;32m    164\u001b[0m         out \u001b[39m=\u001b[39m [f[i](x[i]) \u001b[39mif\u001b[39;00m msk[i] \u001b[39melse\u001b[39;00m zero_elem \u001b[39mfor\u001b[39;00m i \u001b[39min\u001b[39;00m \u001b[39mrange\u001b[39m(\u001b[39mlen\u001b[39m(f))]\n",
      "File \u001b[0;32m~/opt/anaconda3/envs/67p_swarm/lib/python3.8/site-packages/desolver/differential_system.py:78\u001b[0m, in \u001b[0;36mhandle_events.<locals>.<lambda>\u001b[0;34m(t)\u001b[0m\n\u001b[1;32m     52\u001b[0m \u001b[39m\u001b[39m\u001b[39m\"\"\"Helper function to handle events.\u001b[39;00m\n\u001b[1;32m     53\u001b[0m \u001b[39mParameters\u001b[39;00m\n\u001b[1;32m     54\u001b[0m \u001b[39m----------\u001b[39;00m\n\u001b[0;32m   (...)\u001b[0m\n\u001b[1;32m     75\u001b[0m \u001b[39m    Whether a terminal event occurred.\u001b[39;00m\n\u001b[1;32m     76\u001b[0m \u001b[39m\"\"\"\u001b[39;00m\n\u001b[1;32m     77\u001b[0m sol, t_prev, t_next \u001b[39m=\u001b[39m sol_tuple\n\u001b[0;32m---> 78\u001b[0m ev_f \u001b[39m=\u001b[39m [(\u001b[39mlambda\u001b[39;00m event: \u001b[39mlambda\u001b[39;00m t: event(t, sol(t), \u001b[39m*\u001b[39m\u001b[39m*\u001b[39mconsts))(ev) \u001b[39mfor\u001b[39;00m ev \u001b[39min\u001b[39;00m events]\n\u001b[1;32m     80\u001b[0m roots, success \u001b[39m=\u001b[39m root_finder(\n\u001b[1;32m     81\u001b[0m     ev_f,\n\u001b[1;32m     82\u001b[0m     [t_prev, t_next],\n\u001b[1;32m     83\u001b[0m     tol\u001b[39m=\u001b[39m\u001b[39mNone\u001b[39;00m,\n\u001b[1;32m     84\u001b[0m     verbose\u001b[39m=\u001b[39m\u001b[39mFalse\u001b[39;00m\n\u001b[1;32m     85\u001b[0m )\n\u001b[1;32m     87\u001b[0m roots \u001b[39m=\u001b[39m D\u001b[39m.\u001b[39masarray(roots)\n",
      "File \u001b[0;32m~/opt/anaconda3/envs/67p_swarm/lib/python3.8/site-packages/desolver/differential_system.py:200\u001b[0m, in \u001b[0;36mDenseOutput.__call__\u001b[0;34m(self, t)\u001b[0m\n\u001b[1;32m    198\u001b[0m     \u001b[39mreturn\u001b[39;00m D\u001b[39m.\u001b[39mreshape(y_vals, D\u001b[39m.\u001b[39mshape(t) \u001b[39m+\u001b[39m D\u001b[39m.\u001b[39mshape(y_vals)[\u001b[39m1\u001b[39m:])\n\u001b[1;32m    199\u001b[0m \u001b[39melse\u001b[39;00m:\n\u001b[0;32m--> 200\u001b[0m     tidx \u001b[39m=\u001b[39m \u001b[39mself\u001b[39;49m\u001b[39m.\u001b[39;49mfind_interval(t)\n\u001b[1;32m    201\u001b[0m     \u001b[39mreturn\u001b[39;00m \u001b[39mself\u001b[39m\u001b[39m.\u001b[39my_interpolants[tidx](t)\n",
      "File \u001b[0;32m~/opt/anaconda3/envs/67p_swarm/lib/python3.8/site-packages/desolver/differential_system.py:184\u001b[0m, in \u001b[0;36mDenseOutput.find_interval\u001b[0;34m(self, t)\u001b[0m\n\u001b[1;32m    183\u001b[0m \u001b[39mdef\u001b[39;00m \u001b[39mfind_interval\u001b[39m(\u001b[39mself\u001b[39m, t):\n\u001b[0;32m--> 184\u001b[0m     \u001b[39mreturn\u001b[39;00m \u001b[39mmin\u001b[39m(deutil\u001b[39m.\u001b[39;49msearch_bisection(\u001b[39mself\u001b[39;49m\u001b[39m.\u001b[39;49mt_eval, t), \u001b[39mlen\u001b[39m(\u001b[39mself\u001b[39m\u001b[39m.\u001b[39my_interpolants) \u001b[39m-\u001b[39m \u001b[39m1\u001b[39m)\n",
      "File \u001b[0;32m~/opt/anaconda3/envs/67p_swarm/lib/python3.8/site-packages/desolver/utilities/utilities.py:251\u001b[0m, in \u001b[0;36msearch_bisection\u001b[0;34m(array, val)\u001b[0m\n\u001b[1;32m    248\u001b[0m     \u001b[39mreturn\u001b[39;00m jupper\n\u001b[1;32m    250\u001b[0m \u001b[39mwhile\u001b[39;00m (jupper \u001b[39m-\u001b[39m jlower) \u001b[39m>\u001b[39m \u001b[39m1\u001b[39m:\n\u001b[0;32m--> 251\u001b[0m     jmid \u001b[39m=\u001b[39m (jupper \u001b[39m+\u001b[39;49m jlower) \u001b[39m/\u001b[39;49m\u001b[39m/\u001b[39;49m \u001b[39m2\u001b[39;49m\n\u001b[1;32m    252\u001b[0m     \u001b[39mif\u001b[39;00m (val \u001b[39m>\u001b[39m\u001b[39m=\u001b[39m array[jmid]):\n\u001b[1;32m    253\u001b[0m         jlower \u001b[39m=\u001b[39m jmid\n",
      "\u001b[0;31mKeyboardInterrupt\u001b[0m: "
     ]
    }
   ],
   "source": [
    "# Main script:\n",
    "\n",
    "def run():\n",
    "    \"\"\"\n",
    "    Main function for optimizing the initial state for deterministic trajectories around a \n",
    "    small celestial body using a mesh.\n",
    "    \"\"\"\n",
    "    \n",
    "    print(\"Retrieving user defined parameters...\")\n",
    "    args, lower_bounds, upper_bounds, population_size, number_of_generations = setup_parameters()\n",
    "\n",
    "    # Creating the mesh (TetGen)\n",
    "    print(\"Creating the mesh...\")\n",
    "    args.mesh.body, args.mesh.vertices, args.mesh.faces, args.mesh.largest_body_protuberant = mesh_utility.create_mesh()\n",
    "    \n",
    "    # Setup User-Defined Problem (UDP)\n",
    "    print(\"Setting up the UDP...\")\n",
    "    udp = udp_initial_condition(args, lower_bounds, upper_bounds)\n",
    "    prob = pg.problem(udp)\n",
    "\n",
    "    # Setup optimization algorithm\n",
    "    print(\"Setting up the optimization algorithm...\")\n",
    "    assert population_size >= 7\n",
    "    algo = pg.algorithm(pg.sade(gen = number_of_generations))\n",
    "    pop = pg.population(prob = prob, size = population_size)\n",
    "    \n",
    "    # Run optimization\n",
    "    print(\"Initializing the optimization:\")\n",
    "    algo.set_verbosity(1)\n",
    "    pop = algo.evolve(pop)\n",
    "\n",
    "    # Logs for output\n",
    "    print(\"Champion fitness value: \", pop.champion_f) \n",
    "    print(\"Champion chromosome: \", pop.champion_x) \n",
    "\n",
    "    # Retrieving champion chromosome\n",
    "    x = pop.champion_x\n",
    "\n",
    "    # Convert osculating orbital elements to cartesian for integration\n",
    "    r, v = pk.par2ic(E=x, mu=args.body.mu)\n",
    "    x_cartesian = np.array(r+v)\n",
    "\n",
    "    # Setup Equations of motion\n",
    "    #eq_of_motion = EquationsOfMotion(args)\n",
    "\n",
    "    # Re-compute optimized trajectory\n",
    "    trajectory_info, _, _  = trajectory_tools.compute_trajectory(x_cartesian, args, equations_of_motion.compute_motion)\n",
    "\n",
    "    # Plot optimized trajectory\n",
    "    trajectory_tools.plot_trajectory(trajectory_info[0:3,:], args.mesh.body)\n",
    "\n",
    "    plt.plot(trajectory_info[0,:],trajectory_info[1,:])\n",
    "\n",
    "def main():\n",
    "    run()\n",
    "\n",
    "if __name__ == \"__main__\":\n",
    "    cProfile.run(\"main()\", \"output.dat\")\n",
    "\n",
    "    with open(\"output_time.txt\", \"w\") as f:\n",
    "        p = pstats.Stats(\"output.dat\", stream=f)\n",
    "        p.sort_stats(\"time\").print_stats()\n",
    "    \n",
    "    with open(\"output_calls.txt\", \"w\") as f:\n",
    "        p = pstats.Stats(\"output.dat\", stream=f)\n",
    "        p.sort_stats(\"calls\").print_stats()\n"
   ]
  },
  {
   "cell_type": "code",
   "execution_count": null,
   "metadata": {},
   "outputs": [],
   "source": []
  },
  {
   "cell_type": "code",
   "execution_count": 16,
   "metadata": {},
   "outputs": [],
   "source": [
    "x = [8.81396249e+03, 2.05980394e-01, 3.01574106e+00, 5.48612161e+00, 4.22967630e+00, 1.38804306e+00]"
   ]
  },
  {
   "cell_type": "code",
   "execution_count": 17,
   "metadata": {},
   "outputs": [
    {
     "name": "stdout",
     "output_type": "stream",
     "text": [
      "Retrieving user defined parameters...\n",
      "Creating the mesh...\n"
     ]
    }
   ],
   "source": [
    "print(\"Retrieving user defined parameters...\")\n",
    "args, lower_bounds, upper_bounds, population_size, number_of_generations = setup_parameters()\n",
    "\n",
    "# Creating the mesh (TetGen)\n",
    "print(\"Creating the mesh...\")\n",
    "args.mesh.body, args.mesh.vertices, args.mesh.faces, args.mesh.largest_body_protuberant = mesh_utility.create_mesh()\n",
    "\n",
    "# Convert osculating orbital elements to cartesian for integration\n",
    "r, v = pk.par2ic(E=x, mu=args.body.mu)\n",
    "x_cartesian = np.array(r+v)\n",
    "\n",
    "\n",
    "# Compute optimized trajectory\n",
    "trajectory = Trajectory_class(args)"
   ]
  },
  {
   "cell_type": "code",
   "execution_count": 18,
   "metadata": {},
   "outputs": [],
   "source": [
    "\n",
    "trajectory_info, _, _  = trajectory.compute_trajectory(x_cartesian)"
   ]
  },
  {
   "cell_type": "code",
   "execution_count": 19,
   "metadata": {},
   "outputs": [
    {
     "name": "stderr",
     "output_type": "stream",
     "text": [
      "\u001b[0m\u001b[33m2023-03-07 12:12:11.042 (8909.819s) [           19CA4]       vtkAxesActor.cxx:424   WARN| One or more normalized shaft lengths       are < 0 or > 1 and may produce unexpected results.\u001b[0m\n"
     ]
    },
    {
     "data": {
      "application/javascript": "(function(root) {\n  function now() {\n    return new Date();\n  }\n\n  var force = true;\n\n  if (typeof root._bokeh_onload_callbacks === \"undefined\" || force === true) {\n    root._bokeh_onload_callbacks = [];\n    root._bokeh_is_loading = undefined;\n  }\n\n  if (typeof (root._bokeh_timeout) === \"undefined\" || force === true) {\n    root._bokeh_timeout = Date.now() + 5000;\n    root._bokeh_failed_load = false;\n  }\n\n  function run_callbacks() {\n    try {\n      root._bokeh_onload_callbacks.forEach(function(callback) {\n        if (callback != null)\n          callback();\n      });\n    } finally {\n      delete root._bokeh_onload_callbacks\n    }\n    console.debug(\"Bokeh: all callbacks have finished\");\n  }\n\n  function load_libs(css_urls, js_urls, js_modules, callback) {\n    if (css_urls == null) css_urls = [];\n    if (js_urls == null) js_urls = [];\n    if (js_modules == null) js_modules = [];\n\n    root._bokeh_onload_callbacks.push(callback);\n    if (root._bokeh_is_loading > 0) {\n      console.debug(\"Bokeh: BokehJS is being loaded, scheduling callback at\", now());\n      return null;\n    }\n    if (js_urls.length === 0 && js_modules.length === 0) {\n      run_callbacks();\n      return null;\n    }\n    console.debug(\"Bokeh: BokehJS not loaded, scheduling load and callback at\", now());\n\n    function on_load() {\n      root._bokeh_is_loading--;\n      if (root._bokeh_is_loading === 0) {\n        console.debug(\"Bokeh: all BokehJS libraries/stylesheets loaded\");\n        run_callbacks()\n      }\n    }\n\n    function on_error() {\n      console.error(\"failed to load \" + url);\n    }\n\n    for (var i = 0; i < css_urls.length; i++) {\n      var url = css_urls[i];\n      const element = document.createElement(\"link\");\n      element.onload = on_load;\n      element.onerror = on_error;\n      element.rel = \"stylesheet\";\n      element.type = \"text/css\";\n      element.href = url;\n      console.debug(\"Bokeh: injecting link tag for BokehJS stylesheet: \", url);\n      document.body.appendChild(element);\n    }\n\n    var skip = [];\n    if (window.requirejs) {\n      window.requirejs.config({'packages': {}, 'paths': {'vtk': 'https://cdn.jsdelivr.net/npm/vtk.js@20.0.1/vtk', 'gridstack': 'https://cdn.jsdelivr.net/npm/gridstack@4.2.5/dist/gridstack-h5', 'notyf': 'https://cdn.jsdelivr.net/npm/notyf@3/notyf.min'}, 'shim': {'vtk': {'exports': 'vtk'}, 'gridstack': {'exports': 'GridStack'}}});\n      require([\"vtk\"], function() {\n\ton_load()\n      })\n      require([\"gridstack\"], function(GridStack) {\n\twindow.GridStack = GridStack\n\ton_load()\n      })\n      require([\"notyf\"], function() {\n\ton_load()\n      })\n      root._bokeh_is_loading = css_urls.length + 3;\n    } else {\n      root._bokeh_is_loading = css_urls.length + js_urls.length + js_modules.length;\n    }    if (((window['vtk'] !== undefined) && (!(window['vtk'] instanceof HTMLElement))) || window.requirejs) {\n      var urls = ['https://cdn.holoviz.org/panel/0.14.3/dist/bundled/abstractvtkplot/vtk.js@20.0.1/vtk.js'];\n      for (var i = 0; i < urls.length; i++) {\n        skip.push(urls[i])\n      }\n    }    if (((window['GridStack'] !== undefined) && (!(window['GridStack'] instanceof HTMLElement))) || window.requirejs) {\n      var urls = ['https://cdn.holoviz.org/panel/0.14.3/dist/bundled/gridstack/gridstack@4.2.5/dist/gridstack-h5.js'];\n      for (var i = 0; i < urls.length; i++) {\n        skip.push(urls[i])\n      }\n    }    if (((window['Notyf'] !== undefined) && (!(window['Notyf'] instanceof HTMLElement))) || window.requirejs) {\n      var urls = ['https://cdn.holoviz.org/panel/0.14.3/dist/bundled/notificationarea/notyf@3/notyf.min.js'];\n      for (var i = 0; i < urls.length; i++) {\n        skip.push(urls[i])\n      }\n    }    for (var i = 0; i < js_urls.length; i++) {\n      var url = js_urls[i];\n      if (skip.indexOf(url) >= 0) {\n\tif (!window.requirejs) {\n\t  on_load();\n\t}\n\tcontinue;\n      }\n      var element = document.createElement('script');\n      element.onload = on_load;\n      element.onerror = on_error;\n      element.async = false;\n      element.src = url;\n      console.debug(\"Bokeh: injecting script tag for BokehJS library: \", url);\n      document.head.appendChild(element);\n    }\n    for (var i = 0; i < js_modules.length; i++) {\n      var url = js_modules[i];\n      if (skip.indexOf(url) >= 0) {\n\tif (!window.requirejs) {\n\t  on_load();\n\t}\n\tcontinue;\n      }\n      var element = document.createElement('script');\n      element.onload = on_load;\n      element.onerror = on_error;\n      element.async = false;\n      element.src = url;\n      element.type = \"module\";\n      console.debug(\"Bokeh: injecting script tag for BokehJS library: \", url);\n      document.head.appendChild(element);\n    }\n    if (!js_urls.length && !js_modules.length) {\n      on_load()\n    }\n  };\n\n  function inject_raw_css(css) {\n    const element = document.createElement(\"style\");\n    element.appendChild(document.createTextNode(css));\n    document.body.appendChild(element);\n  }\n\n  var js_urls = [\"https://cdn.holoviz.org/panel/0.14.3/dist/bundled/abstractvtkplot/vtk.js@20.0.1/vtk.js\", \"https://cdn.bokeh.org/bokeh/release/bokeh-2.4.3.min.js\", \"https://cdn.bokeh.org/bokeh/release/bokeh-gl-2.4.3.min.js\", \"https://cdn.bokeh.org/bokeh/release/bokeh-widgets-2.4.3.min.js\", \"https://cdn.bokeh.org/bokeh/release/bokeh-tables-2.4.3.min.js\", \"https://cdn.bokeh.org/bokeh/release/bokeh-mathjax-2.4.3.min.js\", \"https://unpkg.com/@holoviz/panel@0.14.3/dist/panel.min.js\"];\n  var js_modules = [];\n  var css_urls = [\"https://cdn.holoviz.org/panel/0.14.3/dist/css/debugger.css\", \"https://cdn.holoviz.org/panel/0.14.3/dist/css/alerts.css\", \"https://cdn.holoviz.org/panel/0.14.3/dist/css/card.css\", \"https://cdn.holoviz.org/panel/0.14.3/dist/css/widgets.css\", \"https://cdn.holoviz.org/panel/0.14.3/dist/css/markdown.css\", \"https://cdn.holoviz.org/panel/0.14.3/dist/css/json.css\", \"https://cdn.holoviz.org/panel/0.14.3/dist/css/loading.css\", \"https://cdn.holoviz.org/panel/0.14.3/dist/css/dataframe.css\"];\n  var inline_js = [    function(Bokeh) {\n      inject_raw_css(\"\\n    .bk.pn-loading.arc:before {\\n      background-image: url(\\\"data:image/svg+xml;base64,PHN2ZyB4bWxucz0iaHR0cDovL3d3dy53My5vcmcvMjAwMC9zdmciIHN0eWxlPSJtYXJnaW46IGF1dG87IGJhY2tncm91bmQ6IG5vbmU7IGRpc3BsYXk6IGJsb2NrOyBzaGFwZS1yZW5kZXJpbmc6IGF1dG87IiB2aWV3Qm94PSIwIDAgMTAwIDEwMCIgcHJlc2VydmVBc3BlY3RSYXRpbz0ieE1pZFlNaWQiPiAgPGNpcmNsZSBjeD0iNTAiIGN5PSI1MCIgZmlsbD0ibm9uZSIgc3Ryb2tlPSIjYzNjM2MzIiBzdHJva2Utd2lkdGg9IjEwIiByPSIzNSIgc3Ryb2tlLWRhc2hhcnJheT0iMTY0LjkzMzYxNDMxMzQ2NDE1IDU2Ljk3Nzg3MTQzNzgyMTM4Ij4gICAgPGFuaW1hdGVUcmFuc2Zvcm0gYXR0cmlidXRlTmFtZT0idHJhbnNmb3JtIiB0eXBlPSJyb3RhdGUiIHJlcGVhdENvdW50PSJpbmRlZmluaXRlIiBkdXI9IjFzIiB2YWx1ZXM9IjAgNTAgNTA7MzYwIDUwIDUwIiBrZXlUaW1lcz0iMDsxIj48L2FuaW1hdGVUcmFuc2Zvcm0+ICA8L2NpcmNsZT48L3N2Zz4=\\\");\\n      background-size: auto calc(min(50%, 400px));\\n    }\\n    \");\n    },    function(Bokeh) {\n      Bokeh.set_log_level(\"info\");\n    },\nfunction(Bokeh) {} // ensure no trailing comma for IE\n  ];\n\n  function run_inline_js() {\n    if ((root.Bokeh !== undefined) || (force === true)) {\n      for (var i = 0; i < inline_js.length; i++) {\n        inline_js[i].call(root, root.Bokeh);\n      }} else if (Date.now() < root._bokeh_timeout) {\n      setTimeout(run_inline_js, 100);\n    } else if (!root._bokeh_failed_load) {\n      console.log(\"Bokeh: BokehJS failed to load within specified timeout.\");\n      root._bokeh_failed_load = true;\n    }\n  }\n\n  if (root._bokeh_is_loading === 0) {\n    console.debug(\"Bokeh: BokehJS loaded, going straight to plotting\");\n    run_inline_js();\n  } else {\n    load_libs(css_urls, js_urls, js_modules, function() {\n      console.debug(\"Bokeh: BokehJS plotting callback run at\", now());\n      run_inline_js();\n    });\n  }\n}(window));",
      "application/vnd.holoviews_load.v0+json": ""
     },
     "metadata": {},
     "output_type": "display_data"
    },
    {
     "data": {
      "application/javascript": "\nif ((window.PyViz === undefined) || (window.PyViz instanceof HTMLElement)) {\n  window.PyViz = {comms: {}, comm_status:{}, kernels:{}, receivers: {}, plot_index: []}\n}\n\n\n    function JupyterCommManager() {\n    }\n\n    JupyterCommManager.prototype.register_target = function(plot_id, comm_id, msg_handler) {\n      if (window.comm_manager || ((window.Jupyter !== undefined) && (Jupyter.notebook.kernel != null))) {\n        var comm_manager = window.comm_manager || Jupyter.notebook.kernel.comm_manager;\n        comm_manager.register_target(comm_id, function(comm) {\n          comm.on_msg(msg_handler);\n        });\n      } else if ((plot_id in window.PyViz.kernels) && (window.PyViz.kernels[plot_id])) {\n        window.PyViz.kernels[plot_id].registerCommTarget(comm_id, function(comm) {\n          comm.onMsg = msg_handler;\n        });\n      } else if (typeof google != 'undefined' && google.colab.kernel != null) {\n        google.colab.kernel.comms.registerTarget(comm_id, (comm) => {\n          var messages = comm.messages[Symbol.asyncIterator]();\n          function processIteratorResult(result) {\n            var message = result.value;\n            console.log(message)\n            var content = {data: message.data, comm_id};\n            var buffers = []\n            for (var buffer of message.buffers || []) {\n              buffers.push(new DataView(buffer))\n            }\n            var metadata = message.metadata || {};\n            var msg = {content, buffers, metadata}\n            msg_handler(msg);\n            return messages.next().then(processIteratorResult);\n          }\n          return messages.next().then(processIteratorResult);\n        })\n      }\n    }\n\n    JupyterCommManager.prototype.get_client_comm = function(plot_id, comm_id, msg_handler) {\n      if (comm_id in window.PyViz.comms) {\n        return window.PyViz.comms[comm_id];\n      } else if (window.comm_manager || ((window.Jupyter !== undefined) && (Jupyter.notebook.kernel != null))) {\n        var comm_manager = window.comm_manager || Jupyter.notebook.kernel.comm_manager;\n        var comm = comm_manager.new_comm(comm_id, {}, {}, {}, comm_id);\n        if (msg_handler) {\n          comm.on_msg(msg_handler);\n        }\n      } else if ((plot_id in window.PyViz.kernels) && (window.PyViz.kernels[plot_id])) {\n        var comm = window.PyViz.kernels[plot_id].connectToComm(comm_id);\n        comm.open();\n        if (msg_handler) {\n          comm.onMsg = msg_handler;\n        }\n      } else if (typeof google != 'undefined' && google.colab.kernel != null) {\n        var comm_promise = google.colab.kernel.comms.open(comm_id)\n        comm_promise.then((comm) => {\n          window.PyViz.comms[comm_id] = comm;\n          if (msg_handler) {\n            var messages = comm.messages[Symbol.asyncIterator]();\n            function processIteratorResult(result) {\n              var message = result.value;\n              var content = {data: message.data};\n              var metadata = message.metadata || {comm_id};\n              var msg = {content, metadata}\n              msg_handler(msg);\n              return messages.next().then(processIteratorResult);\n            }\n            return messages.next().then(processIteratorResult);\n          }\n        }) \n        var sendClosure = (data, metadata, buffers, disposeOnDone) => {\n          return comm_promise.then((comm) => {\n            comm.send(data, metadata, buffers, disposeOnDone);\n          });\n        };\n        var comm = {\n          send: sendClosure\n        };\n      }\n      window.PyViz.comms[comm_id] = comm;\n      return comm;\n    }\n    window.PyViz.comm_manager = new JupyterCommManager();\n    \n\n\nvar JS_MIME_TYPE = 'application/javascript';\nvar HTML_MIME_TYPE = 'text/html';\nvar EXEC_MIME_TYPE = 'application/vnd.holoviews_exec.v0+json';\nvar CLASS_NAME = 'output';\n\n/**\n * Render data to the DOM node\n */\nfunction render(props, node) {\n  var div = document.createElement(\"div\");\n  var script = document.createElement(\"script\");\n  node.appendChild(div);\n  node.appendChild(script);\n}\n\n/**\n * Handle when a new output is added\n */\nfunction handle_add_output(event, handle) {\n  var output_area = handle.output_area;\n  var output = handle.output;\n  if ((output.data == undefined) || (!output.data.hasOwnProperty(EXEC_MIME_TYPE))) {\n    return\n  }\n  var id = output.metadata[EXEC_MIME_TYPE][\"id\"];\n  var toinsert = output_area.element.find(\".\" + CLASS_NAME.split(' ')[0]);\n  if (id !== undefined) {\n    var nchildren = toinsert.length;\n    var html_node = toinsert[nchildren-1].children[0];\n    html_node.innerHTML = output.data[HTML_MIME_TYPE];\n    var scripts = [];\n    var nodelist = html_node.querySelectorAll(\"script\");\n    for (var i in nodelist) {\n      if (nodelist.hasOwnProperty(i)) {\n        scripts.push(nodelist[i])\n      }\n    }\n\n    scripts.forEach( function (oldScript) {\n      var newScript = document.createElement(\"script\");\n      var attrs = [];\n      var nodemap = oldScript.attributes;\n      for (var j in nodemap) {\n        if (nodemap.hasOwnProperty(j)) {\n          attrs.push(nodemap[j])\n        }\n      }\n      attrs.forEach(function(attr) { newScript.setAttribute(attr.name, attr.value) });\n      newScript.appendChild(document.createTextNode(oldScript.innerHTML));\n      oldScript.parentNode.replaceChild(newScript, oldScript);\n    });\n    if (JS_MIME_TYPE in output.data) {\n      toinsert[nchildren-1].children[1].textContent = output.data[JS_MIME_TYPE];\n    }\n    output_area._hv_plot_id = id;\n    if ((window.Bokeh !== undefined) && (id in Bokeh.index)) {\n      window.PyViz.plot_index[id] = Bokeh.index[id];\n    } else {\n      window.PyViz.plot_index[id] = null;\n    }\n  } else if (output.metadata[EXEC_MIME_TYPE][\"server_id\"] !== undefined) {\n    var bk_div = document.createElement(\"div\");\n    bk_div.innerHTML = output.data[HTML_MIME_TYPE];\n    var script_attrs = bk_div.children[0].attributes;\n    for (var i = 0; i < script_attrs.length; i++) {\n      toinsert[toinsert.length - 1].childNodes[1].setAttribute(script_attrs[i].name, script_attrs[i].value);\n    }\n    // store reference to server id on output_area\n    output_area._bokeh_server_id = output.metadata[EXEC_MIME_TYPE][\"server_id\"];\n  }\n}\n\n/**\n * Handle when an output is cleared or removed\n */\nfunction handle_clear_output(event, handle) {\n  var id = handle.cell.output_area._hv_plot_id;\n  var server_id = handle.cell.output_area._bokeh_server_id;\n  if (((id === undefined) || !(id in PyViz.plot_index)) && (server_id !== undefined)) { return; }\n  var comm = window.PyViz.comm_manager.get_client_comm(\"hv-extension-comm\", \"hv-extension-comm\", function () {});\n  if (server_id !== null) {\n    comm.send({event_type: 'server_delete', 'id': server_id});\n    return;\n  } else if (comm !== null) {\n    comm.send({event_type: 'delete', 'id': id});\n  }\n  delete PyViz.plot_index[id];\n  if ((window.Bokeh !== undefined) & (id in window.Bokeh.index)) {\n    var doc = window.Bokeh.index[id].model.document\n    doc.clear();\n    const i = window.Bokeh.documents.indexOf(doc);\n    if (i > -1) {\n      window.Bokeh.documents.splice(i, 1);\n    }\n  }\n}\n\n/**\n * Handle kernel restart event\n */\nfunction handle_kernel_cleanup(event, handle) {\n  delete PyViz.comms[\"hv-extension-comm\"];\n  window.PyViz.plot_index = {}\n}\n\n/**\n * Handle update_display_data messages\n */\nfunction handle_update_output(event, handle) {\n  handle_clear_output(event, {cell: {output_area: handle.output_area}})\n  handle_add_output(event, handle)\n}\n\nfunction register_renderer(events, OutputArea) {\n  function append_mime(data, metadata, element) {\n    // create a DOM node to render to\n    var toinsert = this.create_output_subarea(\n    metadata,\n    CLASS_NAME,\n    EXEC_MIME_TYPE\n    );\n    this.keyboard_manager.register_events(toinsert);\n    // Render to node\n    var props = {data: data, metadata: metadata[EXEC_MIME_TYPE]};\n    render(props, toinsert[0]);\n    element.append(toinsert);\n    return toinsert\n  }\n\n  events.on('output_added.OutputArea', handle_add_output);\n  events.on('output_updated.OutputArea', handle_update_output);\n  events.on('clear_output.CodeCell', handle_clear_output);\n  events.on('delete.Cell', handle_clear_output);\n  events.on('kernel_ready.Kernel', handle_kernel_cleanup);\n\n  OutputArea.prototype.register_mime_type(EXEC_MIME_TYPE, append_mime, {\n    safe: true,\n    index: 0\n  });\n}\n\nif (window.Jupyter !== undefined) {\n  try {\n    var events = require('base/js/events');\n    var OutputArea = require('notebook/js/outputarea').OutputArea;\n    if (OutputArea.prototype.mime_types().indexOf(EXEC_MIME_TYPE) == -1) {\n      register_renderer(events, OutputArea);\n    }\n  } catch(err) {\n  }\n}\n",
      "application/vnd.holoviews_load.v0+json": ""
     },
     "metadata": {},
     "output_type": "display_data"
    },
    {
     "data": {
      "text/html": [
       "<style>.bk-root, .bk-root .bk:before, .bk-root .bk:after {\n",
       "  font-family: var(--jp-ui-font-size1);\n",
       "  font-size: var(--jp-ui-font-size1);\n",
       "  color: var(--jp-ui-font-color1);\n",
       "}\n",
       "</style>"
      ]
     },
     "metadata": {},
     "output_type": "display_data"
    },
    {
     "data": {
      "application/vnd.jupyter.widget-view+json": {
       "model_id": "81a61bee61f44619893738abc4d78eb0",
       "version_major": 2,
       "version_minor": 0
      },
      "text/plain": [
       "BokehModel(combine_events=True, render_bundle={'docs_json': {'1c8d8f76-192e-46d2-b67e-9ac57fe68b99': {'defs': …"
      ]
     },
     "metadata": {},
     "output_type": "display_data"
    },
    {
     "data": {
      "text/plain": [
       "[<matplotlib.lines.Line2D at 0x7fb1c0917d90>]"
      ]
     },
     "execution_count": 19,
     "metadata": {},
     "output_type": "execute_result"
    },
    {
     "data": {
      "image/png": "[encoded data removed]",
      "text/plain": [
       "<Figure size 640x480 with 1 Axes>"
      ]
     },
     "metadata": {},
     "output_type": "display_data"
    }
   ],
   "source": [
    "\n",
    "# Plot optimized trajectory\n",
    "Trajectory.plot_trajectory(trajectory_info[0:3,:], args.mesh.body)\n",
    "\n",
    "plt.plot(trajectory_info[0,:],trajectory_info[1,:])"
   ]
  }
 ],
 "metadata": {
  "kernelspec": {
   "display_name": "67p_swarm",
   "language": "python",
   "name": "python3"
  },
  "language_info": {
   "codemirror_mode": {
    "name": "ipython",
    "version": 3
   },
   "file_extension": ".py",
   "mimetype": "text/x-python",
   "name": "python",
   "nbconvert_exporter": "python",
   "pygments_lexer": "ipython3",
   "version": "3.8.15"
  },
  "vscode": {
   "interpreter": {
    "hash": "167517140fddd710ceaa1c8dd1ae986e1cdc8839738c6952adf525fe1bb87871"
   }
  }
 },
 "nbformat": 4,
 "nbformat_minor": 2
}
