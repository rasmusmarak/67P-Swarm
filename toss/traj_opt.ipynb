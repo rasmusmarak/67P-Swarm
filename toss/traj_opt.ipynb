{
 "cells": [
  {
   "cell_type": "code",
   "execution_count": 8,
   "metadata": {},
   "outputs": [
    {
     "name": "stdout",
     "output_type": "stream",
     "text": [
      "The autoreload extension is already loaded. To reload it, use:\n",
      "  %reload_ext autoreload\n"
     ]
    }
   ],
   "source": [
    "%load_ext autoreload\n",
    "%autoreload 2"
   ]
  },
  {
   "cell_type": "code",
   "execution_count": 9,
   "metadata": {},
   "outputs": [],
   "source": [
    "# Core packages\n",
    "import pygmo as pg\n",
    "import numpy as np\n",
    "from math import pi\n",
    "from dotmap import DotMap\n",
    "\n",
    "# For optimization using pygmo\n",
    "from udp_initial_condition import udp_initial_condition\n",
    "\n",
    "# For computing trajectory\n",
    "from Trajectory import Trajectory\n",
    "import pykep as pk\n",
    "\n",
    "# For Plotting\n",
    "import matplotlib.pyplot as plt\n",
    "\n",
    "# For cProfile evaluation\n",
    "import cProfile\n",
    "import pstats"
   ]
  },
  {
   "cell_type": "code",
   "execution_count": 16,
   "metadata": {},
   "outputs": [],
   "source": [
    "def setup_parameters():\n",
    "    \"\"\"Set up of required hyperparameters for the optimization scheme. \n",
    "\n",
    "    Returns:\n",
    "        body_args (dotmap.DotMap): Paramteers relating to the celestial body:\n",
    "            density (float): Body density of celestial body.\n",
    "            mu (float): Gravitational parameter for celestial body.\n",
    "            declination (float): Declination angle of spin axis.\n",
    "            right_ascension (float): Right ascension angle of spin axis.\n",
    "            spin_period (float): Rotational period around spin axis of the body.\n",
    "        target_squared_altitude (float): Squared value of the satellite's orbital target altitude.\n",
    "        final_time (float): Final time (in seconds) for the integration of trajectory.\n",
    "        start_time (float): Start time (in seconds) for the integration of trajectory.\n",
    "        time_step (float): Size of initial time step (in seconds) for integration of trajectory.\n",
    "        lower_bounds (np.ndarray): Lower boundary values for the initial state vector.\n",
    "        upper_bounds (np.ndarray): Lower boundary values for the initial state vector.\n",
    "        algorithm (int): Choice of algorithm (see file Integrator for references).\n",
    "        radius_bounding_sphere (float): Radius of the bounding sphere representing risk zone for collisions with celestial body.\n",
    "        population_size (int): Number of chromosomes to compare at each generation.\n",
    "        number_of_generations (int): Number of generations for the genetic opimization.\n",
    "    \"\"\"\n",
    "    # Body parameters\n",
    "    body_args = DotMap()\n",
    "    body_args.density = 533                  # https://sci.esa.int/web/rosetta/-/14615-comet-67p\n",
    "    body_args.mu = 665.666                   # Gravitational parameter for 67P/C-G\n",
    "    body_args.declination = 64               # [degrees] https://sci.esa.int/web/rosetta/-/14615-comet-67p\n",
    "    body_args.right_ascension = 69           # [degrees] https://sci.esa.int/web/rosetta/-/14615-comet-67p\n",
    "    body_args.spin_period = 12.06*3600       # [seconds] https://sci.esa.int/web/rosetta/-/14615-comet-67p\n",
    "\n",
    "    # Setup hyperparameters:\n",
    "    target_squared_altitude = 8000**2           # Target altitude squared\n",
    "    final_time = 20*3600.0              # Final time [s]\n",
    "    start_time = 0                      # Starting time [s]\n",
    "    time_step = 600                     # Time step size for trajectory prodpagation. [s]\n",
    "    radius_bounding_sphere = 4000       # Radius of the bounding sphere representing risk zone for collisions with celestial body.\n",
    "\n",
    "    # Bounds for initial variable domain: [r_x,r_y,r_z,v_x,v_y,v_z]\n",
    "    #lower_bounds, upper_bounds = np.array([-6000,-6000,-6000,0,0,0]),np.array([6000,6000,6000,2.5,2.5,2.5])\n",
    "\n",
    "    # Defining the parameter space for the optimization\n",
    "    #   (Parameters are defined in osculating orbital elements)\n",
    "    a = [5000, 15000] # Semi-major axis\n",
    "    e = [0, 1]        # Eccentricity [0, 1]\n",
    "    o = [0, 2*pi]     # Right ascension of ascending node [0,2*pi]\n",
    "    w = [0, 2*pi]     # Argument of periapsis [0, 2*pi]\n",
    "    i = [0, pi]       # Inclination [0, pi] \n",
    "    ea = [0, 2*pi]    # Eccentric anomaly [0, 2*pi]\n",
    "\n",
    "    lower_bounds = np.array([a[0], e[0], i[0], o[0], w[0], ea[0]])\n",
    "    upper_bounds = np.array([a[1], e[1], i[1], o[1], w[1], ea[1]])\n",
    "\n",
    "    # Choose numerical integrator:\n",
    "    algorithm = 3\n",
    "\n",
    "    # Optimization parameters\n",
    "    population_size = 10 \n",
    "    number_of_generations = 32 \n",
    "\n",
    "    return body_args, target_squared_altitude, final_time, start_time, time_step, lower_bounds, upper_bounds, algorithm, radius_bounding_sphere, population_size, number_of_generations"
   ]
  },
  {
   "cell_type": "code",
   "execution_count": 17,
   "metadata": {},
   "outputs": [
    {
     "name": "stdout",
     "output_type": "stream",
     "text": [
      "Retrieving user defined parameters...\n",
      "Setting up the UDP...\n",
      "Setting up the optimization algorithm...\n",
      "Initializing the optimization:\n",
      "\n",
      "   Gen:        Fevals:          Best:             F:            CR:            dx:            df:\n",
      "      1             10    1.92509e+07       0.759117       0.796343        4984.58    6.58442e+08\n",
      "      2             20    1.92509e+07       0.759117       0.796343        1708.79    4.76904e+08\n",
      "      3             30    1.92509e+07       0.759117       0.796343        4986.22    3.87833e+08\n",
      "      4             40    1.92509e+07       0.759117       0.796343        4986.22    3.87833e+08\n",
      "      5             50    1.92509e+07       0.759117       0.796343        4981.25    3.11539e+08\n",
      "      6             60    1.92509e+07       0.759117       0.796343        4981.17    2.66659e+08\n",
      "      7             70    1.92509e+07       0.759117       0.796343        4981.17    2.66659e+08\n",
      "      8             80    1.92509e+07       0.759117       0.796343        1414.09    1.73214e+08\n",
      "      9             90    1.92509e+07       0.759117       0.796343        1414.09    1.73214e+08\n",
      "     10            100    1.92509e+07       0.759117       0.796343        1414.09    1.73214e+08\n",
      "     11            110    1.92509e+07       0.759117       0.796343        1414.07      1.707e+08\n",
      "     12            120    1.92509e+07       0.759117       0.796343        3189.68    1.15505e+08\n",
      "     13            130    1.92509e+07       0.759117       0.796343        3189.68    1.15505e+08\n",
      "     14            140    1.92509e+07       0.759117       0.796343        1414.49    1.09364e+08\n",
      "     15            150    1.92509e+07       0.759117       0.796343        1414.49    1.09364e+08\n",
      "     16            160    1.92509e+07       0.759117       0.796343        1414.49    1.09364e+08\n",
      "     17            170    1.92509e+07       0.759117       0.796343           1411    8.19827e+07\n",
      "     18            180    1.92509e+07       0.759117       0.796343           1411    8.19827e+07\n",
      "     19            190    1.92509e+07       0.759117       0.796343        523.774    8.16893e+07\n",
      "     20            200    1.92509e+07       0.759117       0.796343        523.774    8.16893e+07\n",
      "     21            210    1.92509e+07       0.759117       0.796343        523.774    8.16893e+07\n",
      "     22            220    1.89589e+07       0.759117       0.796343        524.452    8.19813e+07\n",
      "     23            230    1.89589e+07       0.759117       0.796343        524.452    8.19813e+07\n",
      "     24            240    1.78319e+07       0.566817       0.157629        1928.79    8.31083e+07\n",
      "     25            250    1.78319e+07       0.566817       0.157629        1928.79    8.31083e+07\n",
      "     26            260    1.78319e+07       0.566817       0.157629        1928.79    8.31083e+07\n",
      "     27            270    1.65174e+07       0.759117       0.796343         524.81    8.44229e+07\n",
      "     28            280    1.65174e+07       0.759117       0.796343         524.81    8.44229e+07\n",
      "     29            290    1.65174e+07       0.759117       0.796343          891.4    6.87627e+07\n",
      "     30            300    1.19351e+07       0.566817       0.157629        2295.68    6.79459e+07\n",
      "     31            310    1.19351e+07       0.566817       0.157629        2295.68    6.79459e+07\n",
      "Champion fitness value:      32            320    1.19351e+07       0.566817       0.157629        2295.68    6.79459e+07\n",
      "Exit condition -- generations = 32\n",
      " [11935147.80577633]\n",
      "Champion chromosome:  [9.49327676e+03 4.17315209e-01 1.30967589e+00 4.05653050e+00\n",
      " 1.46937893e+00 4.43687870e+00]\n"
     ]
    },
    {
     "name": "stderr",
     "output_type": "stream",
     "text": [
      "\u001b[0m\u001b[33m2023-03-05 22:17:58.733 (6911.653s) [            207E]       vtkAxesActor.cxx:424   WARN| One or more normalized shaft lengths       are < 0 or > 1 and may produce unexpected results.\u001b[0m\n"
     ]
    },
    {
     "data": {
      "application/vnd.jupyter.widget-view+json": {
       "model_id": "59c421bdd7b24cc6abb4786174fe172a",
       "version_major": 2,
       "version_minor": 0
      },
      "text/plain": [
       "BokehModel(combine_events=True, render_bundle={'docs_json': {'e1c9810d-981f-4e83-8038-4f240417c788': {'defs': …"
      ]
     },
     "metadata": {},
     "output_type": "display_data"
    },
    {
     "data": {
      "image/png": "[encoded data removed]",
      "text/plain": [
       "<Figure size 640x480 with 1 Axes>"
      ]
     },
     "metadata": {},
     "output_type": "display_data"
    }
   ],
   "source": [
    "# Main script:\n",
    "\n",
    "def run():\n",
    "    \"\"\"\n",
    "    Main function for optimizing the initial state for deterministic trajectories around a \n",
    "    small celestial body using a mesh.\n",
    "    \"\"\"\n",
    "    \n",
    "    print(\"Retrieving user defined parameters...\")\n",
    "    body_args, target_squared_altitude, final_time, start_time, time_step, lower_bounds, upper_bounds, algorithm, radius_bounding_sphere, population_size, number_of_generations = setup_parameters()\n",
    "\n",
    "    # Setup User-Defined Problem (UDP)\n",
    "    print(\"Setting up the UDP...\")\n",
    "    udp = udp_initial_condition(body_args, target_squared_altitude, final_time, start_time, time_step, lower_bounds, upper_bounds, algorithm, radius_bounding_sphere)\n",
    "    prob = pg.problem(udp)\n",
    "\n",
    "    # Setup optimization algorithm\n",
    "    print(\"Setting up the optimization algorithm...\")\n",
    "    assert population_size >= 7\n",
    "    algo = pg.algorithm(pg.sade(gen = number_of_generations))\n",
    "    pop = pg.population(prob = prob, size = population_size)\n",
    "    \n",
    "    # Run optimization\n",
    "    print(\"Initializing the optimization:\")\n",
    "    algo.set_verbosity(1)\n",
    "    pop = algo.evolve(pop)\n",
    "\n",
    "    # Logs for output\n",
    "    print(\"Champion fitness value: \", pop.champion_f) \n",
    "    print(\"Champion chromosome: \", pop.champion_x) \n",
    "\n",
    "    # Retrieving champion chromosome\n",
    "    x = pop.champion_x\n",
    "\n",
    "    # Convert osculating orbital elements to cartesian for integration\n",
    "    r, v = pk.par2ic(E=x, mu=body_args.mu)\n",
    "    x_cartesian = np.array(r+v)\n",
    "\n",
    "    # Compute optimized trajectory\n",
    "    trajectory = Trajectory(body_args, final_time, start_time, time_step, algorithm, radius_bounding_sphere)\n",
    "    trajectory_info, _, _  = trajectory.integrate(x_cartesian)\n",
    "\n",
    "    # Plot optimized trajectory\n",
    "    trajectory.plot_trajectory(trajectory_info[0:3,:])\n",
    "\n",
    "    plt.plot(trajectory_info[0,:],trajectory_info[1,:])\n",
    "\n",
    "def main():\n",
    "    run()\n",
    "\n",
    "if __name__ == \"__main__\":\n",
    "    cProfile.run(\"main()\", \"output.dat\")\n",
    "\n",
    "    with open(\"output_time.txt\", \"w\") as f:\n",
    "        p = pstats.Stats(\"output.dat\", stream=f)\n",
    "        p.sort_stats(\"time\").print_stats()\n",
    "    \n",
    "    with open(\"output_calls.txt\", \"w\") as f:\n",
    "        p = pstats.Stats(\"output.dat\", stream=f)\n",
    "        p.sort_stats(\"calls\").print_stats()\n"
   ]
  }
 ],
 "metadata": {
  "kernelspec": {
   "display_name": "67p_swarm",
   "language": "python",
   "name": "python3"
  },
  "language_info": {
   "codemirror_mode": {
    "name": "ipython",
    "version": 3
   },
   "file_extension": ".py",
   "mimetype": "text/x-python",
   "name": "python",
   "nbconvert_exporter": "python",
   "pygments_lexer": "ipython3",
   "version": "3.8.15"
  },
  "vscode": {
   "interpreter": {
    "hash": "167517140fddd710ceaa1c8dd1ae986e1cdc8839738c6952adf525fe1bb87871"
   }
  }
 },
 "nbformat": 4,
 "nbformat_minor": 2
}
